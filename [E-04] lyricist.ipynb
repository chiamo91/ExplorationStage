{
 "cells": [
  {
   "cell_type": "markdown",
   "id": "48322789",
   "metadata": {},
   "source": [
    "# 멋진 작사가 만들기"
   ]
  },
  {
   "cell_type": "markdown",
   "id": "8a0e423f",
   "metadata": {},
   "source": [
    "## Step 1. 데이터 다운로드\n",
    "실습(1) 데이터 다듬기에서 Cloud shell에 심볼릭 링크로 ~/aiffel/lyricist/data를 생성하셨다면, ~/aiffel/lyricist/data/lyrics에 데이터가 있음"
   ]
  },
  {
   "cell_type": "markdown",
   "id": "cf3c6aad",
   "metadata": {},
   "source": [
    "## Step 2. 데이터 읽어오기"
   ]
  },
  {
   "cell_type": "code",
   "execution_count": 19,
   "id": "e9371f04",
   "metadata": {
    "scrolled": true
   },
   "outputs": [
    {
     "name": "stdout",
     "output_type": "stream",
     "text": [
      "데이터 크기: 187088\n",
      "Examples:\n",
      " [\"Now I've heard there was a secret chord\", 'That David played, and it pleased the Lord', \"But you don't really care for music, do you?\"]\n"
     ]
    }
   ],
   "source": [
    "import glob\n",
    "import os, re\n",
    "import numpy as np\n",
    "import tensorflow as tf\n",
    "\n",
    "txt_file_path = os.getenv('HOME')+'/aiffel/lyricist/data/lyrics/*'\n",
    "\n",
    "txt_list = glob.glob(txt_file_path)\n",
    "\n",
    "raw_corpus = []\n",
    "\n",
    "# 여러개의 txt 파일을 모두 읽어서 raw_corpus 에 담습니다.\n",
    "for txt_file in txt_list:\n",
    "    with open(txt_file, \"r\") as f:\n",
    "        raw = f.read().splitlines()\n",
    "        raw_corpus.extend(raw)\n",
    "\n",
    "print(\"데이터 크기:\", len(raw_corpus))\n",
    "print(\"Examples:\\n\", raw_corpus[:3])"
   ]
  },
  {
   "cell_type": "markdown",
   "id": "17833028",
   "metadata": {},
   "source": [
    "## Step 3. 데이터 정제"
   ]
  },
  {
   "cell_type": "code",
   "execution_count": 20,
   "id": "7645e63c",
   "metadata": {},
   "outputs": [],
   "source": [
    "# 토큰화(Tokenize) - 단어 사전\n",
    "def preprocess_sentence(sentence):\n",
    "    sentence = sentence.lower().strip() # 1. 소문자로 바꾸고, 양쪽 공백을 지웁니다\n",
    "    sentence = re.sub(r\"([?.!,¿])\", r\" \\1 \", sentence) # 2. 특수문자 양쪽에 공백을 넣고\n",
    "    sentence = re.sub(r'[\" \"]+', \" \", sentence) # 3. 여러개의 공백은 하나의 공백으로 바꿉니다\n",
    "    sentence = re.sub(r\"[^a-zA-Z?.!,¿]+\", \" \", sentence) # 4. a-zA-Z?.!,¿가 아닌 모든 문자를 하나의 공백으로 바꿉니다\n",
    "    sentence = sentence.strip() # 5. 다시 양쪽 공백을 지웁니다\n",
    "    sentence = '<start> ' + sentence + ' <end>' # 6. 문장 시작에는 <start>, 끝에는 <end>를 추가합니다\n",
    "    return sentence"
   ]
  },
  {
   "cell_type": "code",
   "execution_count": 21,
   "id": "71574d26",
   "metadata": {},
   "outputs": [],
   "source": [
    "corpus = []\n",
    "\n",
    "for sentence in raw_corpus:\n",
    "    # 우리가 원하지 않는 문장은 건너뜁니다\n",
    "    if len(sentence) == 0: continue\n",
    "    if sentence[-1] == \":\": continue\n",
    "\n",
    "    # 정제를 하고 담아주세요\n",
    "    preprocessed_sentence = preprocess_sentence(sentence)\n",
    "    corpus.append(preprocessed_sentence)"
   ]
  },
  {
   "cell_type": "code",
   "execution_count": 22,
   "id": "114faf52",
   "metadata": {},
   "outputs": [
    {
     "name": "stdout",
     "output_type": "stream",
     "text": [
      "[[   2   50    5 ...    0    0    0]\n",
      " [   2   17 2639 ...    0    0    0]\n",
      " [   2   36    7 ...   43    3    0]\n",
      " ...\n",
      " [   5   22    9 ...   10 1013    3]\n",
      " [  37   15 9049 ...  877  647    3]\n",
      " [   2    7   34 ...    0    0    0]] <keras_preprocessing.text.Tokenizer object at 0x7f3b903abc10>\n"
     ]
    }
   ],
   "source": [
    "def tokenize(corpus):\n",
    "    # 12000 단어를 기억할 수 있는 tokenizer를 만들겁니다\n",
    "    # 우리는 이미 문장을 정제했으니 filters가 필요없어요\n",
    "    # 15000단어에 포함되지 못한 단어는 '<unk>'로 바꿀거에요\n",
    "    tokenizer = tf.keras.preprocessing.text.Tokenizer(\n",
    "        num_words=12000, \n",
    "        filters=' ',\n",
    "        oov_token=\"<unk>\"\n",
    "    )\n",
    "    # corpus를 이용해 tokenizer 내부의 단어장을 완성합니다\n",
    "    tokenizer.fit_on_texts(corpus)\n",
    "    # 준비한 tokenizer를 이용해 corpus를 Tensor로 변환합니다\n",
    "    tensor = tokenizer.texts_to_sequences(corpus)   \n",
    "    # 입력 데이터의 시퀀스 길이를 일정하게 맞춰줍니다\n",
    "    # 만약 시퀀스가 짧다면 문장 뒤에 패딩을 붙여 길이를 맞춰줍니다. -문장 앞에 패딩을 붙여 길이를 맞추고 싶다면 padding='pre'\n",
    "    tensor = tf.keras.preprocessing.sequence.pad_sequences(tensor, padding='post',maxlen=15) # maxlen=15 → 최대 15개 이하로\n",
    "    \n",
    "    print(tensor,tokenizer)\n",
    "    return tensor, tokenizer\n",
    "\n",
    "tensor, tokenizer = tokenize(corpus)"
   ]
  },
  {
   "cell_type": "markdown",
   "id": "7a9ec117",
   "metadata": {},
   "source": [
    "## Step 4. 평가 데이터셋 분리"
   ]
  },
  {
   "cell_type": "code",
   "execution_count": 23,
   "id": "4d9103f7",
   "metadata": {},
   "outputs": [
    {
     "name": "stdout",
     "output_type": "stream",
     "text": [
      "[   2   50    5   91  297   65   57    9  969 6042    3    0    0    0]\n",
      "[  50    5   91  297   65   57    9  969 6042    3    0    0    0    0]\n"
     ]
    }
   ],
   "source": [
    "src_input = tensor[:, :-1]  \n",
    "# tensor에서 <start>를 잘라내서 타겟 문장을 생성합니다.\n",
    "tgt_input = tensor[:, 1:]    \n",
    "\n",
    "print(src_input[0])\n",
    "print(tgt_input[0])"
   ]
  },
  {
   "cell_type": "code",
   "execution_count": 24,
   "id": "0f1a846e",
   "metadata": {},
   "outputs": [],
   "source": [
    "from sklearn.model_selection import train_test_split\n",
    "enc_train, enc_val, dec_train, dec_val = train_test_split(src_input, tgt_input, test_size = 0.2)"
   ]
  },
  {
   "cell_type": "code",
   "execution_count": 25,
   "id": "1001c196",
   "metadata": {},
   "outputs": [
    {
     "name": "stdout",
     "output_type": "stream",
     "text": [
      "Source Train: (140599, 14)\n",
      "Target Train: (140599, 14)\n"
     ]
    }
   ],
   "source": [
    "print(\"Source Train:\", enc_train.shape)\n",
    "print(\"Target Train:\", dec_train.shape)"
   ]
  },
  {
   "cell_type": "markdown",
   "id": "0a3524bf",
   "metadata": {},
   "source": [
    "## Step 5. 인공지능 만들기"
   ]
  },
  {
   "cell_type": "code",
   "execution_count": 26,
   "id": "c52a7c89",
   "metadata": {},
   "outputs": [
    {
     "data": {
      "text/plain": [
       "<BatchDataset shapes: ((256, 14), (256, 14)), types: (tf.int32, tf.int32)>"
      ]
     },
     "execution_count": 26,
     "metadata": {},
     "output_type": "execute_result"
    }
   ],
   "source": [
    "BUFFER_SIZE = len(src_input)\n",
    "BATCH_SIZE = 256\n",
    "steps_per_epoch = len(src_input) // BATCH_SIZE\n",
    "\n",
    "VOCAB_SIZE = tokenizer.num_words + 1   \n",
    "\n",
    "# 준비한 데이터 소스로부터 데이터셋을 만듭니다\n",
    "\n",
    "dataset = tf.data.Dataset.from_tensor_slices((src_input, tgt_input))\n",
    "dataset = dataset.shuffle(BUFFER_SIZE)\n",
    "dataset = dataset.batch(BATCH_SIZE, drop_remainder=True)\n",
    "dataset"
   ]
  },
  {
   "cell_type": "code",
   "execution_count": 27,
   "id": "23e3452c",
   "metadata": {},
   "outputs": [],
   "source": [
    "class TextGenerator(tf.keras.Model):\n",
    "    def __init__(self, vocab_size, embedding_size, hidden_size):\n",
    "        super().__init__()\n",
    "        \n",
    "        self.embedding = tf.keras.layers.Embedding(vocab_size, embedding_size)\n",
    "        self.rnn_1 = tf.keras.layers.LSTM(hidden_size, return_sequences=True)\n",
    "        self.rnn_2 = tf.keras.layers.LSTM(hidden_size, return_sequences=True)\n",
    "        self.linear = tf.keras.layers.Dense(vocab_size)\n",
    "        \n",
    "    def call(self, x):\n",
    "        out = self.embedding(x)\n",
    "        out = self.rnn_1(out)\n",
    "        out = self.rnn_2(out)\n",
    "        out = self.linear(out)\n",
    "        \n",
    "        return out\n",
    "    \n",
    "embedding_size = 256 # 워드 벡터의 차원 수\n",
    "hidden_size = 1024 # 모델에 일꾼 수\n",
    "lyricist = TextGenerator(tokenizer.num_words + 1, embedding_size , hidden_size)"
   ]
  },
  {
   "cell_type": "code",
   "execution_count": 28,
   "id": "54d741c9",
   "metadata": {
    "scrolled": true
   },
   "outputs": [
    {
     "data": {
      "text/plain": [
       "<tf.Tensor: shape=(256, 14, 12001), dtype=float32, numpy=\n",
       "array([[[ 4.32671441e-05, -5.11386606e-05, -1.25411520e-04, ...,\n",
       "         -3.74097472e-05,  8.06683092e-05,  9.06248024e-05],\n",
       "        [ 1.14027835e-05,  2.41030903e-05, -5.95837831e-04, ...,\n",
       "          2.75464467e-04,  1.81108131e-04,  1.59710744e-05],\n",
       "        [-1.08928994e-04,  1.23141272e-05, -8.60047585e-04, ...,\n",
       "          4.58829862e-04,  1.72801738e-04, -1.02432059e-04],\n",
       "        ...,\n",
       "        [ 8.13280581e-04,  6.77825941e-04, -4.15370625e-04, ...,\n",
       "          1.18397793e-03, -9.95850191e-04, -8.44660914e-04],\n",
       "        [ 1.24338642e-03,  1.16056658e-03, -1.68994549e-04, ...,\n",
       "          1.07568491e-03, -1.07187999e-03, -1.21123006e-03],\n",
       "        [ 1.63628627e-03,  1.59013853e-03,  8.19526540e-05, ...,\n",
       "          9.19577142e-04, -1.10568083e-03, -1.58773619e-03]],\n",
       "\n",
       "       [[ 4.32671441e-05, -5.11386606e-05, -1.25411520e-04, ...,\n",
       "         -3.74097472e-05,  8.06683092e-05,  9.06248024e-05],\n",
       "        [-2.97605933e-04, -9.20783132e-05, -1.99133880e-04, ...,\n",
       "         -2.09095480e-04,  1.19857752e-04,  1.75757232e-05],\n",
       "        [-7.44087156e-04, -7.25129212e-05,  1.98825961e-04, ...,\n",
       "         -1.27029401e-04,  2.04443219e-04,  6.48463465e-05],\n",
       "        ...,\n",
       "        [ 1.02832669e-03,  7.88121484e-04,  2.59591558e-04, ...,\n",
       "          1.02086016e-03, -1.20082381e-03, -1.52582035e-03],\n",
       "        [ 1.50454545e-03,  1.21653918e-03,  4.25457110e-04, ...,\n",
       "          9.19019687e-04, -1.23144628e-03, -1.83775462e-03],\n",
       "        [ 1.92623294e-03,  1.61376363e-03,  6.03515364e-04, ...,\n",
       "          7.81977549e-04, -1.22601236e-03, -2.13730871e-03]],\n",
       "\n",
       "       [[ 4.32671441e-05, -5.11386606e-05, -1.25411520e-04, ...,\n",
       "         -3.74097472e-05,  8.06683092e-05,  9.06248024e-05],\n",
       "        [ 2.84686885e-05, -7.87919198e-05, -9.46699583e-05, ...,\n",
       "         -1.18339944e-04,  6.19230923e-05,  9.73817532e-06],\n",
       "        [-9.67201267e-05, -1.50868800e-04, -4.72465152e-04, ...,\n",
       "         -2.16099332e-04,  6.01142892e-05, -8.14267478e-05],\n",
       "        ...,\n",
       "        [ 1.15550682e-03, -6.90684654e-04, -1.29757728e-03, ...,\n",
       "          6.93169946e-04, -8.37507308e-04, -3.09779833e-04],\n",
       "        [ 1.24999264e-03, -1.09196454e-03, -1.40269962e-03, ...,\n",
       "          8.06823955e-04, -6.93238340e-04, -1.70831088e-04],\n",
       "        [ 1.14137761e-03, -1.19507802e-03, -1.25970424e-03, ...,\n",
       "          9.92006040e-04, -7.34544767e-04, -1.01306206e-04]],\n",
       "\n",
       "       ...,\n",
       "\n",
       "       [[ 4.32671441e-05, -5.11386606e-05, -1.25411520e-04, ...,\n",
       "         -3.74097472e-05,  8.06683092e-05,  9.06248024e-05],\n",
       "        [ 1.14027835e-05,  2.41030903e-05, -5.95837831e-04, ...,\n",
       "          2.75464467e-04,  1.81108131e-04,  1.59710744e-05],\n",
       "        [-3.62204388e-04,  1.35030539e-04, -6.51528244e-04, ...,\n",
       "          6.28661539e-04,  2.71310884e-04, -7.64869910e-05],\n",
       "        ...,\n",
       "        [-7.99312023e-04, -2.50294292e-03, -9.95079288e-04, ...,\n",
       "          1.84370161e-04, -4.20493452e-04, -7.49795057e-04],\n",
       "        [-7.15511502e-04, -2.41960143e-03, -9.28216788e-04, ...,\n",
       "          1.90864121e-05, -6.35608216e-04, -8.25052615e-04],\n",
       "        [-3.83135659e-04, -2.00944371e-03, -8.46694689e-04, ...,\n",
       "         -8.45477480e-05, -8.99500970e-04, -1.01782894e-03]],\n",
       "\n",
       "       [[-7.30786924e-05, -2.02550131e-04,  1.53341782e-04, ...,\n",
       "         -2.46690470e-04, -7.52398264e-05,  1.23306250e-04],\n",
       "        [-1.43861078e-04, -1.55222748e-04,  1.73043809e-04, ...,\n",
       "         -1.31526962e-04, -7.41130789e-05,  2.42099472e-04],\n",
       "        [-5.29572389e-05, -4.48896288e-04,  2.98739396e-05, ...,\n",
       "         -7.26797734e-05, -1.47034414e-04,  4.02412225e-05],\n",
       "        ...,\n",
       "        [ 1.32075232e-03, -1.13521412e-03, -1.10800576e-03, ...,\n",
       "         -3.71058180e-04, -8.79734813e-04, -2.34960200e-04],\n",
       "        [ 1.18470704e-03, -9.43321269e-04, -1.17100449e-03, ...,\n",
       "         -1.66915328e-04, -7.22672907e-04, -2.38965760e-04],\n",
       "        [ 9.90416622e-04, -1.01107999e-03, -1.03990710e-03, ...,\n",
       "         -1.39473821e-04, -6.54660573e-04, -1.44527248e-05]],\n",
       "\n",
       "       [[ 4.32671441e-05, -5.11386606e-05, -1.25411520e-04, ...,\n",
       "         -3.74097472e-05,  8.06683092e-05,  9.06248024e-05],\n",
       "        [ 4.42689052e-05,  1.52703316e-04, -4.27929161e-04, ...,\n",
       "          9.18854712e-05,  2.88564392e-04,  1.24138198e-04],\n",
       "        [ 1.61958364e-04,  2.64097704e-04, -4.57647286e-04, ...,\n",
       "          9.62712147e-05,  6.21870568e-05,  1.51590022e-04],\n",
       "        ...,\n",
       "        [ 5.83103247e-05, -2.51327583e-04, -6.51728187e-04, ...,\n",
       "         -5.36319203e-05, -8.51191930e-04,  2.80963377e-05],\n",
       "        [ 7.88282559e-05, -3.34778422e-04, -5.13406121e-04, ...,\n",
       "          9.07937792e-05, -1.02701574e-03, -1.56154769e-04],\n",
       "        [ 2.78102467e-04, -1.48599225e-04, -3.44564527e-04, ...,\n",
       "          1.76658330e-04, -1.23370113e-03, -4.20682627e-04]]],\n",
       "      dtype=float32)>"
      ]
     },
     "execution_count": 28,
     "metadata": {},
     "output_type": "execute_result"
    }
   ],
   "source": [
    "# 데이터셋에서 데이터 한 배치만 불러오는 방법입니다.\n",
    "# 지금은 동작 원리에 너무 빠져들지 마세요~\n",
    "for src_sample, tgt_sample in dataset.take(1): break\n",
    "\n",
    "# 한 배치만 불러온 데이터를 모델에 넣어봅니다\n",
    "lyricist(src_sample)"
   ]
  },
  {
   "cell_type": "code",
   "execution_count": 29,
   "id": "55425fe2",
   "metadata": {},
   "outputs": [
    {
     "name": "stdout",
     "output_type": "stream",
     "text": [
      "Model: \"text_generator_1\"\n",
      "_________________________________________________________________\n",
      "Layer (type)                 Output Shape              Param #   \n",
      "=================================================================\n",
      "embedding_1 (Embedding)      multiple                  3072256   \n",
      "_________________________________________________________________\n",
      "lstm_2 (LSTM)                multiple                  5246976   \n",
      "_________________________________________________________________\n",
      "lstm_3 (LSTM)                multiple                  8392704   \n",
      "_________________________________________________________________\n",
      "dense_1 (Dense)              multiple                  12301025  \n",
      "=================================================================\n",
      "Total params: 29,012,961\n",
      "Trainable params: 29,012,961\n",
      "Non-trainable params: 0\n",
      "_________________________________________________________________\n"
     ]
    }
   ],
   "source": [
    "lyricist.summary()"
   ]
  },
  {
   "cell_type": "code",
   "execution_count": 30,
   "id": "8fe2bc48",
   "metadata": {},
   "outputs": [
    {
     "name": "stdout",
     "output_type": "stream",
     "text": [
      "Epoch 1/10\n",
      "686/686 [==============================] - 117s 168ms/step - loss: 3.6767\n",
      "Epoch 2/10\n",
      "686/686 [==============================] - 114s 167ms/step - loss: 3.1610\n",
      "Epoch 3/10\n",
      "686/686 [==============================] - 115s 167ms/step - loss: 2.9568\n",
      "Epoch 4/10\n",
      "686/686 [==============================] - 115s 167ms/step - loss: 2.8036\n",
      "Epoch 5/10\n",
      "686/686 [==============================] - 115s 167ms/step - loss: 2.6719\n",
      "Epoch 6/10\n",
      "686/686 [==============================] - 115s 167ms/step - loss: 2.5538\n",
      "Epoch 7/10\n",
      "686/686 [==============================] - 115s 167ms/step - loss: 2.4450\n",
      "Epoch 8/10\n",
      "686/686 [==============================] - 115s 168ms/step - loss: 2.3429\n",
      "Epoch 9/10\n",
      "686/686 [==============================] - 115s 168ms/step - loss: 2.2469\n",
      "Epoch 10/10\n",
      "686/686 [==============================] - 115s 168ms/step - loss: 2.1559\n"
     ]
    },
    {
     "data": {
      "text/plain": [
       "<keras.callbacks.History at 0x7f3ad82d9c70>"
      ]
     },
     "execution_count": 30,
     "metadata": {},
     "output_type": "execute_result"
    }
   ],
   "source": [
    "optimizer = tf.keras.optimizers.Adam()\n",
    "loss = tf.keras.losses.SparseCategoricalCrossentropy(\n",
    "    from_logits=True, reduction='none')\n",
    "\n",
    "lyricist.compile(loss=loss, optimizer=optimizer)\n",
    "lyricist.fit(dataset, epochs=10)"
   ]
  },
  {
   "cell_type": "code",
   "execution_count": 31,
   "id": "1271cd05",
   "metadata": {},
   "outputs": [],
   "source": [
    "def generate_text(lyricist, tokenizer, init_sentence=\"<start>\", max_len=20):\n",
    "    # 테스트를 위해서 입력받은 init_sentence도 텐서로 변환합니다\n",
    "    test_input = tokenizer.texts_to_sequences([init_sentence])\n",
    "    test_tensor = tf.convert_to_tensor(test_input, dtype=tf.int64)\n",
    "    end_token = tokenizer.word_index[\"<end>\"]\n",
    "\n",
    "    # 단어 하나씩 예측해 문장을 만듭니다 \n",
    "    while True:\n",
    "        # 1. 입력받은 문장의 텐서를 입력합니다\n",
    "        predict = lyricist(test_tensor) \n",
    "        #  2. 예측된 값 중 가장 높은 확률인 word index를 뽑아냅니다\n",
    "        predict_word = tf.argmax(tf.nn.softmax(predict, axis=-1), axis=-1)[:, -1] \n",
    "        # 3. 2에서 예측된 word index를 문장 뒤에 붙입니다\n",
    "        test_tensor = tf.concat([test_tensor, tf.expand_dims(predict_word, axis=0)], axis=-1)\n",
    "        #  4. 모델이 <end>를 예측했거나, max_len에 도달했다면 문장 생성을 마칩니다\n",
    "        if predict_word.numpy()[0] == end_token: break\n",
    "        if test_tensor.shape[1] >= max_len: break\n",
    "\n",
    "    generated = \"\"\n",
    "    # tokenizer를 이용해 word index를 단어로 하나씩 변환합니다 \n",
    "    for word_index in test_tensor[0].numpy():\n",
    "        generated += tokenizer.index_word[word_index] + \" \"\n",
    "        \n",
    "    return generated"
   ]
  },
  {
   "cell_type": "code",
   "execution_count": 32,
   "id": "5bb50e57",
   "metadata": {},
   "outputs": [
    {
     "data": {
      "text/plain": [
       "'<start> i love you <end> '"
      ]
     },
     "execution_count": 32,
     "metadata": {},
     "output_type": "execute_result"
    }
   ],
   "source": [
    "generate_text(lyricist, tokenizer, init_sentence=\"<start> i love\", max_len=20)"
   ]
  },
  {
   "cell_type": "code",
   "execution_count": 33,
   "id": "da2a1a05",
   "metadata": {},
   "outputs": [
    {
     "data": {
      "text/plain": [
       "'<start> she s got me runnin round and round <end> '"
      ]
     },
     "execution_count": 33,
     "metadata": {},
     "output_type": "execute_result"
    }
   ],
   "source": [
    "generate_text(lyricist, tokenizer, init_sentence=\"<start> she\", max_len=20)"
   ]
  },
  {
   "cell_type": "code",
   "execution_count": 34,
   "id": "e4348cea",
   "metadata": {},
   "outputs": [
    {
     "data": {
      "text/plain": [
       "'<start> so i can see it through the lens of my eyes <end> '"
      ]
     },
     "execution_count": 34,
     "metadata": {},
     "output_type": "execute_result"
    }
   ],
   "source": [
    "generate_text(lyricist, tokenizer, init_sentence=\"<start> so\", max_len=20)"
   ]
  },
  {
   "cell_type": "markdown",
   "id": "a43c4370",
   "metadata": {},
   "source": [
    "## 후기\n"
   ]
  },
  {
   "cell_type": "markdown",
   "id": "f04aeb18",
   "metadata": {},
   "source": [
    "학습 데이터 개수가 제시된 124960 보다 크게 나와 코딩에 잘 못된 곳이 있는지 다른 분들과 의견 나눠 봄 <br>\n",
    "아직도 주어진 데이터 처리만으로도 벅참."
   ]
  }
 ],
 "metadata": {
  "kernelspec": {
   "display_name": "Python 3 (ipykernel)",
   "language": "python",
   "name": "python3"
  },
  "language_info": {
   "codemirror_mode": {
    "name": "ipython",
    "version": 3
   },
   "file_extension": ".py",
   "mimetype": "text/x-python",
   "name": "python",
   "nbconvert_exporter": "python",
   "pygments_lexer": "ipython3",
   "version": "3.9.7"
  }
 },
 "nbformat": 4,
 "nbformat_minor": 5
}
