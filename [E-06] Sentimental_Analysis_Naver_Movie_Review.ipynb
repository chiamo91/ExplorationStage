{
 "cells": [
  {
   "cell_type": "markdown",
   "id": "878b8b2b",
   "metadata": {},
   "source": [
    "# 네이버 영화리뷰 감성분석 도전하기"
   ]
  },
  {
   "cell_type": "markdown",
   "id": "4b7ca86a",
   "metadata": {},
   "source": [
    "## 데이터 준비 와 확인"
   ]
  },
  {
   "cell_type": "code",
   "execution_count": 9,
   "id": "830db45a",
   "metadata": {},
   "outputs": [
    {
     "data": {
      "text/html": [
       "<div>\n",
       "<style scoped>\n",
       "    .dataframe tbody tr th:only-of-type {\n",
       "        vertical-align: middle;\n",
       "    }\n",
       "\n",
       "    .dataframe tbody tr th {\n",
       "        vertical-align: top;\n",
       "    }\n",
       "\n",
       "    .dataframe thead th {\n",
       "        text-align: right;\n",
       "    }\n",
       "</style>\n",
       "<table border=\"1\" class=\"dataframe\">\n",
       "  <thead>\n",
       "    <tr style=\"text-align: right;\">\n",
       "      <th></th>\n",
       "      <th>id</th>\n",
       "      <th>document</th>\n",
       "      <th>label</th>\n",
       "    </tr>\n",
       "  </thead>\n",
       "  <tbody>\n",
       "    <tr>\n",
       "      <th>0</th>\n",
       "      <td>9976970</td>\n",
       "      <td>아 더빙.. 진짜 짜증나네요 목소리</td>\n",
       "      <td>0</td>\n",
       "    </tr>\n",
       "    <tr>\n",
       "      <th>1</th>\n",
       "      <td>3819312</td>\n",
       "      <td>흠...포스터보고 초딩영화줄....오버연기조차 가볍지 않구나</td>\n",
       "      <td>1</td>\n",
       "    </tr>\n",
       "    <tr>\n",
       "      <th>2</th>\n",
       "      <td>10265843</td>\n",
       "      <td>너무재밓었다그래서보는것을추천한다</td>\n",
       "      <td>0</td>\n",
       "    </tr>\n",
       "    <tr>\n",
       "      <th>3</th>\n",
       "      <td>9045019</td>\n",
       "      <td>교도소 이야기구먼 ..솔직히 재미는 없다..평점 조정</td>\n",
       "      <td>0</td>\n",
       "    </tr>\n",
       "    <tr>\n",
       "      <th>4</th>\n",
       "      <td>6483659</td>\n",
       "      <td>사이몬페그의 익살스런 연기가 돋보였던 영화!스파이더맨에서 늙어보이기만 했던 커스틴 ...</td>\n",
       "      <td>1</td>\n",
       "    </tr>\n",
       "  </tbody>\n",
       "</table>\n",
       "</div>"
      ],
      "text/plain": [
       "         id                                           document  label\n",
       "0   9976970                                아 더빙.. 진짜 짜증나네요 목소리      0\n",
       "1   3819312                  흠...포스터보고 초딩영화줄....오버연기조차 가볍지 않구나      1\n",
       "2  10265843                                  너무재밓었다그래서보는것을추천한다      0\n",
       "3   9045019                      교도소 이야기구먼 ..솔직히 재미는 없다..평점 조정      0\n",
       "4   6483659  사이몬페그의 익살스런 연기가 돋보였던 영화!스파이더맨에서 늙어보이기만 했던 커스틴 ...      1"
      ]
     },
     "execution_count": 9,
     "metadata": {},
     "output_type": "execute_result"
    }
   ],
   "source": [
    "import pandas as pd\n",
    "\n",
    "# 데이터를 읽어봅시다. \n",
    "train_data = pd.read_table('~/aiffel/sentiment_classification/data/ratings_train.txt')\n",
    "test_data = pd.read_table('~/aiffel/sentiment_classification/data/ratings_test.txt')\n",
    "\n",
    "train_data.head()"
   ]
  },
  {
   "cell_type": "code",
   "execution_count": 10,
   "id": "b7b92ba1",
   "metadata": {},
   "outputs": [
    {
     "name": "stdout",
     "output_type": "stream",
     "text": [
      "<class 'pandas.core.frame.DataFrame'>\n",
      "RangeIndex: 150000 entries, 0 to 149999\n",
      "Data columns (total 3 columns):\n",
      " #   Column    Non-Null Count   Dtype \n",
      "---  ------    --------------   ----- \n",
      " 0   id        150000 non-null  int64 \n",
      " 1   document  149995 non-null  object\n",
      " 2   label     150000 non-null  int64 \n",
      "dtypes: int64(2), object(1)\n",
      "memory usage: 3.4+ MB\n"
     ]
    }
   ],
   "source": [
    "train_data.info()"
   ]
  },
  {
   "cell_type": "code",
   "execution_count": 11,
   "id": "644de1c6",
   "metadata": {},
   "outputs": [
    {
     "name": "stdout",
     "output_type": "stream",
     "text": [
      "<class 'pandas.core.frame.DataFrame'>\n",
      "RangeIndex: 50000 entries, 0 to 49999\n",
      "Data columns (total 3 columns):\n",
      " #   Column    Non-Null Count  Dtype \n",
      "---  ------    --------------  ----- \n",
      " 0   id        50000 non-null  int64 \n",
      " 1   document  49997 non-null  object\n",
      " 2   label     50000 non-null  int64 \n",
      "dtypes: int64(2), object(1)\n",
      "memory usage: 1.1+ MB\n"
     ]
    }
   ],
   "source": [
    "test_data.info()"
   ]
  },
  {
   "cell_type": "markdown",
   "id": "d9a0c314",
   "metadata": {},
   "source": [
    "## 데이터로더 구성\n",
    "    * 데이터의 중복 제거\n",
    "    * NaN 결측치 제거\n",
    "    * 한국어 토크나이저로 토큰화\n",
    "    * 불용어(Stopwords) 제거\n",
    "    * 사전word_to_index 구성\n",
    "    * 텍스트 스트링을 사전 인덱스 스트링으로 변환\n",
    "    * X_train, y_train, X_test, y_test, word_to_index 리턴"
   ]
  },
  {
   "cell_type": "code",
   "execution_count": 12,
   "id": "9777a7cc",
   "metadata": {},
   "outputs": [],
   "source": [
    "from konlpy.tag import Mecab\n",
    "import numpy as np\n",
    "from collections import Counter\n",
    "\n",
    "tokenizer = Mecab()\n",
    "stopwords = ['의','가','이','은','들','는','좀','잘','걍','과','도','를','으로','자','에','와','한','하다']\n",
    "\n",
    "def load_data(train_data, test_data, num_words=10000):\n",
    "    \n",
    "    # 데이터의 중복 제거\n",
    "    train_data = train_data.drop_duplicates(['document'],ignore_index = True)\n",
    "    test_data = test_data.drop_duplicates(['document'],ignore_index = True)\n",
    "    \n",
    "    # NaN 결측치 제거\n",
    "    train_data = train_data.dropna()\n",
    "    test_data = test_data.dropna()\n",
    "    \n",
    "    # 한국어 토크나이저로 토큰화\n",
    "    X_train = []\n",
    "    for sentence in train_data['document']:\n",
    "        temp_X = tokenizer.morphs(sentence) # 토큰화\n",
    "        temp_X = [word for word in temp_X if not word in stopwords] # 불용어 제거\n",
    "        X_train.append(temp_X)\n",
    "\n",
    "    X_test = []\n",
    "    for sentence in test_data['document']:\n",
    "        temp_X = tokenizer.morphs(sentence) # 토큰화\n",
    "        temp_X = [word for word in temp_X if not word in stopwords] # 불용어 제거\n",
    "        X_test.append(temp_X)\n",
    "        \n",
    "    # 사전 word_to_index 구성\n",
    "    words = np.concatenate(X_train).tolist()\n",
    "    counter = Counter(words) # Counter 클래스는 iterable의 원소의 개수를 셀 때 편리하게 사용. 유니크한 원소의 이름들은 딕셔너리 key로, 각 원소의 카운트는 딕셔너리의 value로 저장\n",
    "    counter = counter.most_common(10000-4)\n",
    "    vocab = ['<PAD>', '<BOS>', '<UNK>', '<UNUSED>'] + [key for key, _ in counter]    \n",
    "    word_to_index = {word:index for index, word in enumerate(vocab)}\n",
    "    \n",
    "    # 텍스트 스트링을 사전 인덱스 스트링으로 변환\n",
    "    def wordlist_to_indexlist(wordlist):\n",
    "        return [word_to_index[word] if word in word_to_index else word_to_index['<UNK>'] for word in wordlist]\n",
    "        \n",
    "    X_train = list(map(wordlist_to_indexlist, X_train))\n",
    "    X_test = list(map(wordlist_to_indexlist, X_test))\n",
    "        \n",
    "    return X_train, np.array(list(train_data['label'])), X_test, np.array(list(test_data['label'])), word_to_index\n",
    "\n",
    "        \n",
    "X_train, y_train, X_test, y_test, word_to_index = load_data(train_data, test_data)"
   ]
  },
  {
   "cell_type": "code",
   "execution_count": 14,
   "id": "fe6c552b",
   "metadata": {},
   "outputs": [],
   "source": [
    "#  텍스트 스트링을 사전 인덱스 스트링으로 변환\n",
    "index_to_word = {index:word for word, index in word_to_index.items()}"
   ]
  },
  {
   "cell_type": "code",
   "execution_count": 25,
   "id": "36fc2698",
   "metadata": {},
   "outputs": [],
   "source": [
    "# 문장 1개를 활용할 딕셔너리와 함께 주면, 단어 인덱스 리스트 벡터로 변환해 주는 함수\n",
    "# 모든 문장은 <BOS>로 시작 \n",
    "def get_encoded_sentence(sentence, word_to_index):\n",
    "    return [word_to_index['<BOS>']]+[word_to_index[word] if word in word_to_index else word_to_index['<UNK>'] for word in sentence.split()]\n",
    "\n",
    "# 여러 개의 문장 리스트를 한꺼번에 단어 인덱스 리스트 벡터로 encode해 주는 함수\n",
    "def get_encoded_sentences(sentences, word_to_index):\n",
    "    return [get_encoded_sentence(sentence, word_to_index) for sentence in sentences]\n",
    "\n",
    "# 숫자 벡터로 encode된 문장을 원래대로 decode하는 함수\n",
    "def get_decoded_sentence(encoded_sentence, index_to_word):\n",
    "    return ' '.join(index_to_word[index] if index in index_to_word else '<UNK>' for index in encoded_sentence[1:])  #[1:]를 통해 <BOS>를 제외\n",
    "\n",
    "# 여러 개의 숫자 벡터로 encode된 문장을 한꺼번에 원래대로 decode하는 함수\n",
    "def get_decoded_sentences(encoded_sentences, index_to_word):\n",
    "    return [get_decoded_sentence(encoded_sentence, index_to_word) for encoded_sentence in encoded_sentences]"
   ]
  },
  {
   "cell_type": "code",
   "execution_count": 26,
   "id": "bd137cf4",
   "metadata": {},
   "outputs": [
    {
     "name": "stdout",
     "output_type": "stream",
     "text": [
      "더 빙 . . 진짜 짜증 나 네요 목소리\n",
      "라벨:  0\n"
     ]
    }
   ],
   "source": [
    "# encode된 텍스트가 정상적으로 decode 되는지 확인\n",
    "print(get_decoded_sentence(X_train[0], index_to_word))\n",
    "print('라벨: ', y_train[0])  # 1번째 리뷰데이터의 라벨"
   ]
  },
  {
   "cell_type": "markdown",
   "id": "d1de8e7b",
   "metadata": {},
   "source": [
    "## 모델 구성을 위한 데이터 분석 및 가공\n",
    "    * 데이터셋 내 문장 길이 분포\n",
    "    * 적절한 최대 문장 길이 지정\n",
    "    * keras.preprocessing.sequence.pad_sequences 을 활용한 패딩 추가"
   ]
  },
  {
   "cell_type": "code",
   "execution_count": 28,
   "id": "c4f88184",
   "metadata": {},
   "outputs": [
    {
     "name": "stdout",
     "output_type": "stream",
     "text": [
      "문장길이 평균 :  15.96940191154864\n",
      "문장길이 최대 :  116\n",
      "문장길이 표준편차 :  12.843571191092\n",
      "pad_sequences maxlen :  41\n",
      "전체 문장의 0.9342988343341575%가 maxlen 설정값 이내에 포함됩니다. \n"
     ]
    }
   ],
   "source": [
    "#  데이터셋 내 문장 길이 분포\n",
    "\n",
    "total_data_text = list(X_train) + list(X_test)\n",
    "# 텍스트데이터 문장길이의 리스트를 생성한 후\n",
    "\n",
    "num_tokens = [len(tokens) for tokens in total_data_text]\n",
    "num_tokens = np.array(num_tokens)\n",
    "# 문장길이의 평균값, 최대값, 표준편차를 계산해 본다. \n",
    "print('문장길이 평균 : ', np.mean(num_tokens))\n",
    "print('문장길이 최대 : ', np.max(num_tokens))\n",
    "print('문장길이 표준편차 : ', np.std(num_tokens))\n",
    "\n",
    "# 예를들어, 최대 길이를 (평균 + 2*표준편차)로 한다면,  \n",
    "max_tokens = np.mean(num_tokens) + 2 * np.std(num_tokens)\n",
    "maxlen = int(max_tokens)\n",
    "print('pad_sequences maxlen : ', maxlen)\n",
    "print('전체 문장의 {}%가 maxlen 설정값 이내에 포함됩니다. '.format(np.sum(num_tokens < max_tokens) / len(num_tokens)))"
   ]
  },
  {
   "cell_type": "markdown",
   "id": "a708eb09",
   "metadata": {},
   "source": [
    "한 최대 문장 길이 지정<br>\n",
    " *  전체 문장의 0.9342988343341575%가 maxlen 설정값 이내에 포함 (maxlen : 41)"
   ]
  },
  {
   "cell_type": "code",
   "execution_count": 29,
   "id": "62b96bea",
   "metadata": {},
   "outputs": [
    {
     "name": "stdout",
     "output_type": "stream",
     "text": [
      "(146182, 41)\n"
     ]
    }
   ],
   "source": [
    "import tensorflow as tf\n",
    "\n",
    "# keras.preprocessing.sequence.pad_sequences 을 활용한 패딩 추가 - padding 방식 앞쪽('pre') : 성능 좋음\n",
    "\n",
    "X_train = tf.keras.preprocessing.sequence.pad_sequences(X_train,\n",
    "                                       value=word_to_index[\"<PAD>\"],\n",
    "                                       padding='pre',\n",
    "                                       maxlen=maxlen)\n",
    "\n",
    "X_test = tf.keras.preprocessing.sequence.pad_sequences(X_test,\n",
    "                                       value=word_to_index[\"<PAD>\"],\n",
    "                                       padding='pre',\n",
    "                                       maxlen=maxlen)\n",
    "print(X_train.shape)"
   ]
  },
  {
   "cell_type": "markdown",
   "id": "ce240e2e",
   "metadata": {},
   "source": [
    "## 모델 구성 및 validation set 구성\n",
    "    모델은 3가지 이상 다양하게 구성하여 실험"
   ]
  },
  {
   "cell_type": "code",
   "execution_count": 30,
   "id": "b185a24e",
   "metadata": {},
   "outputs": [
    {
     "name": "stdout",
     "output_type": "stream",
     "text": [
      "(106182, 41)\n",
      "(106182,)\n"
     ]
    }
   ],
   "source": [
    "# 훈련용 데이터셋 146182건 중 40000을 분리하여 검증셋(validation set) 생성\n",
    "\n",
    "# validation set 40000건 분리\n",
    "x_val = X_train[:40000]   \n",
    "y_val = y_train[:40000]\n",
    "\n",
    "# validation set을 제외한 나머지 15000건\n",
    "partial_x_train = X_train[40000:]  \n",
    "partial_y_train = y_train[40000:]\n",
    "\n",
    "print(partial_x_train.shape)\n",
    "print(partial_y_train.shape)"
   ]
  },
  {
   "cell_type": "code",
   "execution_count": 14,
   "id": "e213ff97",
   "metadata": {},
   "outputs": [],
   "source": [
    "vocab_size = 10000    # 어휘 사전의 크기(10,000개의 단어)\n",
    "word_vector_dim = 16  # 워드 벡터의 차원 수 (변경 가능한 하이퍼파라미터)"
   ]
  },
  {
   "cell_type": "markdown",
   "id": "fbb46ba5",
   "metadata": {},
   "source": [
    "### RNN 모델"
   ]
  },
  {
   "cell_type": "code",
   "execution_count": 15,
   "id": "4a02d422",
   "metadata": {},
   "outputs": [
    {
     "name": "stdout",
     "output_type": "stream",
     "text": [
      "Model: \"sequential\"\n",
      "_________________________________________________________________\n",
      "Layer (type)                 Output Shape              Param #   \n",
      "=================================================================\n",
      "embedding (Embedding)        (None, None, 16)          160000    \n",
      "_________________________________________________________________\n",
      "lstm (LSTM)                  (None, 8)                 800       \n",
      "_________________________________________________________________\n",
      "dense (Dense)                (None, 8)                 72        \n",
      "_________________________________________________________________\n",
      "dense_1 (Dense)              (None, 1)                 9         \n",
      "=================================================================\n",
      "Total params: 160,881\n",
      "Trainable params: 160,881\n",
      "Non-trainable params: 0\n",
      "_________________________________________________________________\n"
     ]
    }
   ],
   "source": [
    "model_rnn = tf.keras.Sequential()\n",
    "model_rnn.add(tf.keras.layers.Embedding(vocab_size, word_vector_dim, input_shape=(None,)))\n",
    "model_rnn.add(tf.keras.layers.LSTM(8))   # 가장 널리 쓰이는 RNN인 LSTM 레이어를 사용하였습니다. 이때 LSTM state 벡터의 차원수는 8로 하였습니다. (변경 가능)\n",
    "model_rnn.add(tf.keras.layers.Dense(8, activation='relu'))\n",
    "model_rnn.add(tf.keras.layers.Dense(1, activation='sigmoid'))  # 최종 출력은 긍정/부정을 나타내는 1dim 입니다.\n",
    "\n",
    "model_rnn.summary()"
   ]
  },
  {
   "cell_type": "markdown",
   "id": "17e95435",
   "metadata": {},
   "source": [
    "### CNN 모델"
   ]
  },
  {
   "cell_type": "code",
   "execution_count": 16,
   "id": "04e34b15",
   "metadata": {},
   "outputs": [
    {
     "name": "stdout",
     "output_type": "stream",
     "text": [
      "Model: \"sequential_1\"\n",
      "_________________________________________________________________\n",
      "Layer (type)                 Output Shape              Param #   \n",
      "=================================================================\n",
      "embedding_1 (Embedding)      (None, None, 16)          160000    \n",
      "_________________________________________________________________\n",
      "conv1d (Conv1D)              (None, None, 16)          784       \n",
      "_________________________________________________________________\n",
      "max_pooling1d (MaxPooling1D) (None, None, 16)          0         \n",
      "_________________________________________________________________\n",
      "conv1d_1 (Conv1D)            (None, None, 16)          784       \n",
      "_________________________________________________________________\n",
      "global_max_pooling1d (Global (None, 16)                0         \n",
      "_________________________________________________________________\n",
      "dense_2 (Dense)              (None, 8)                 136       \n",
      "_________________________________________________________________\n",
      "dense_3 (Dense)              (None, 1)                 9         \n",
      "=================================================================\n",
      "Total params: 161,713\n",
      "Trainable params: 161,713\n",
      "Non-trainable params: 0\n",
      "_________________________________________________________________\n"
     ]
    }
   ],
   "source": [
    "model_cnn = tf.keras.Sequential()\n",
    "model_cnn.add(tf.keras.layers.Embedding(vocab_size, word_vector_dim, input_shape=(None,)))\n",
    "model_cnn.add(tf.keras.layers.Conv1D(16, 3, activation='relu'))\n",
    "model_cnn.add(tf.keras.layers.MaxPooling1D(5))\n",
    "model_cnn.add(tf.keras.layers.Conv1D(16, 3, activation='relu'))\n",
    "model_cnn.add(tf.keras.layers.GlobalMaxPooling1D())\n",
    "model_cnn.add(tf.keras.layers.Dense(8, activation='relu'))\n",
    "model_cnn.add(tf.keras.layers.Dense(1, activation='sigmoid'))\n",
    "\n",
    "model_cnn.summary()"
   ]
  },
  {
   "cell_type": "markdown",
   "id": "5bb01ea8",
   "metadata": {},
   "source": [
    "###  GlobalMaxPooling1D() 레이어 하나만 사용하는 방법"
   ]
  },
  {
   "cell_type": "code",
   "execution_count": 17,
   "id": "1f87f7a1",
   "metadata": {},
   "outputs": [
    {
     "name": "stdout",
     "output_type": "stream",
     "text": [
      "Model: \"sequential_2\"\n",
      "_________________________________________________________________\n",
      "Layer (type)                 Output Shape              Param #   \n",
      "=================================================================\n",
      "embedding_2 (Embedding)      (None, None, 16)          160000    \n",
      "_________________________________________________________________\n",
      "global_max_pooling1d_1 (Glob (None, 16)                0         \n",
      "_________________________________________________________________\n",
      "dense_4 (Dense)              (None, 8)                 136       \n",
      "_________________________________________________________________\n",
      "dense_5 (Dense)              (None, 1)                 9         \n",
      "=================================================================\n",
      "Total params: 160,145\n",
      "Trainable params: 160,145\n",
      "Non-trainable params: 0\n",
      "_________________________________________________________________\n"
     ]
    }
   ],
   "source": [
    "model_gmp = tf.keras.Sequential()\n",
    "model_gmp.add(tf.keras.layers.Embedding(vocab_size, word_vector_dim, input_shape=(None,)))\n",
    "model_gmp.add(tf.keras.layers.GlobalMaxPooling1D())\n",
    "model_gmp.add(tf.keras.layers.Dense(8, activation='relu'))\n",
    "model_gmp.add(tf.keras.layers.Dense(1, activation='sigmoid'))  # 최종 출력은 긍정/부정을 나타내는 1dim 입니다.\n",
    "\n",
    "model_gmp.summary()"
   ]
  },
  {
   "cell_type": "markdown",
   "id": "259d4822",
   "metadata": {},
   "source": [
    "## 모델 훈련 개시"
   ]
  },
  {
   "cell_type": "code",
   "execution_count": 18,
   "id": "07b2e14a",
   "metadata": {},
   "outputs": [
    {
     "name": "stdout",
     "output_type": "stream",
     "text": [
      "Epoch 1/20\n",
      "208/208 [==============================] - 21s 8ms/step - loss: 0.5876 - accuracy: 0.7104 - val_loss: 0.4688 - val_accuracy: 0.8339\n",
      "Epoch 2/20\n",
      "208/208 [==============================] - 1s 6ms/step - loss: 0.3968 - accuracy: 0.8482 - val_loss: 0.3686 - val_accuracy: 0.8460\n",
      "Epoch 3/20\n",
      "208/208 [==============================] - 1s 6ms/step - loss: 0.3311 - accuracy: 0.8652 - val_loss: 0.3589 - val_accuracy: 0.8454\n",
      "Epoch 4/20\n",
      "208/208 [==============================] - 1s 6ms/step - loss: 0.3111 - accuracy: 0.8744 - val_loss: 0.3527 - val_accuracy: 0.8493\n",
      "Epoch 5/20\n",
      "208/208 [==============================] - 1s 6ms/step - loss: 0.2982 - accuracy: 0.8804 - val_loss: 0.3587 - val_accuracy: 0.8466\n",
      "Epoch 6/20\n",
      "208/208 [==============================] - 1s 6ms/step - loss: 0.2870 - accuracy: 0.8855 - val_loss: 0.3567 - val_accuracy: 0.8490\n",
      "Epoch 7/20\n",
      "208/208 [==============================] - 1s 6ms/step - loss: 0.2752 - accuracy: 0.8918 - val_loss: 0.3625 - val_accuracy: 0.8484\n",
      "Epoch 8/20\n",
      "208/208 [==============================] - 1s 6ms/step - loss: 0.2639 - accuracy: 0.8969 - val_loss: 0.3696 - val_accuracy: 0.8482\n",
      "Epoch 9/20\n",
      "208/208 [==============================] - 1s 6ms/step - loss: 0.2516 - accuracy: 0.9028 - val_loss: 0.3770 - val_accuracy: 0.8483\n",
      "Epoch 10/20\n",
      "208/208 [==============================] - 1s 6ms/step - loss: 0.2403 - accuracy: 0.9077 - val_loss: 0.3804 - val_accuracy: 0.8476\n",
      "Epoch 11/20\n",
      "208/208 [==============================] - 1s 6ms/step - loss: 0.2290 - accuracy: 0.9119 - val_loss: 0.3830 - val_accuracy: 0.8465\n",
      "Epoch 12/20\n",
      "208/208 [==============================] - 1s 6ms/step - loss: 0.2176 - accuracy: 0.9167 - val_loss: 0.3992 - val_accuracy: 0.8454\n",
      "Epoch 13/20\n",
      "208/208 [==============================] - 1s 6ms/step - loss: 0.2081 - accuracy: 0.9205 - val_loss: 0.4108 - val_accuracy: 0.8450\n",
      "Epoch 14/20\n",
      "208/208 [==============================] - 1s 6ms/step - loss: 0.1988 - accuracy: 0.9242 - val_loss: 0.4403 - val_accuracy: 0.8424\n",
      "Epoch 15/20\n",
      "208/208 [==============================] - 1s 6ms/step - loss: 0.1915 - accuracy: 0.9273 - val_loss: 0.4587 - val_accuracy: 0.8423\n",
      "Epoch 16/20\n",
      "208/208 [==============================] - 1s 6ms/step - loss: 0.1850 - accuracy: 0.9296 - val_loss: 0.4770 - val_accuracy: 0.8410\n",
      "Epoch 17/20\n",
      "208/208 [==============================] - 1s 6ms/step - loss: 0.1779 - accuracy: 0.9325 - val_loss: 0.4773 - val_accuracy: 0.8381\n",
      "Epoch 18/20\n",
      "208/208 [==============================] - 1s 6ms/step - loss: 0.1722 - accuracy: 0.9353 - val_loss: 0.4976 - val_accuracy: 0.8374\n",
      "Epoch 19/20\n",
      "208/208 [==============================] - 1s 6ms/step - loss: 0.1664 - accuracy: 0.9379 - val_loss: 0.5260 - val_accuracy: 0.8373\n",
      "Epoch 20/20\n",
      "208/208 [==============================] - 1s 6ms/step - loss: 0.1612 - accuracy: 0.9396 - val_loss: 0.5413 - val_accuracy: 0.8337\n"
     ]
    }
   ],
   "source": [
    "model_rnn.compile(optimizer='adam',\n",
    "              loss='binary_crossentropy',\n",
    "              metrics=['accuracy'])\n",
    "              \n",
    "epochs=20  \n",
    "\n",
    "history_rnn = model_rnn.fit(partial_x_train,\n",
    "                    partial_y_train,\n",
    "                    epochs=epochs,\n",
    "                    batch_size=512,\n",
    "                    validation_data=(x_val, y_val),\n",
    "                    verbose=1)"
   ]
  },
  {
   "cell_type": "code",
   "execution_count": 19,
   "id": "f362a84c",
   "metadata": {},
   "outputs": [
    {
     "name": "stdout",
     "output_type": "stream",
     "text": [
      "1537/1537 - 3s - loss: 0.5482 - accuracy: 0.8298\n",
      "[0.5481693148612976, 0.8298309445381165]\n"
     ]
    }
   ],
   "source": [
    "# RNN 모델을 테스트셋으로 평가\n",
    "results_rnn = model_rnn.evaluate(X_test,  y_test, verbose=2)\n",
    "\n",
    "print(results_rnn)"
   ]
  },
  {
   "cell_type": "code",
   "execution_count": 20,
   "id": "fe33baf0",
   "metadata": {},
   "outputs": [
    {
     "name": "stdout",
     "output_type": "stream",
     "text": [
      "Epoch 1/20\n",
      "208/208 [==============================] - 13s 7ms/step - loss: 0.5838 - accuracy: 0.6798 - val_loss: 0.4754 - val_accuracy: 0.7576\n",
      "Epoch 2/20\n",
      "208/208 [==============================] - 1s 5ms/step - loss: 0.4451 - accuracy: 0.7802 - val_loss: 0.4634 - val_accuracy: 0.7647\n",
      "Epoch 3/20\n",
      "208/208 [==============================] - 1s 5ms/step - loss: 0.4097 - accuracy: 0.8012 - val_loss: 0.4610 - val_accuracy: 0.7689\n",
      "Epoch 4/20\n",
      "208/208 [==============================] - 1s 5ms/step - loss: 0.3833 - accuracy: 0.8157 - val_loss: 0.4699 - val_accuracy: 0.7661\n",
      "Epoch 5/20\n",
      "208/208 [==============================] - 1s 5ms/step - loss: 0.3574 - accuracy: 0.8312 - val_loss: 0.4782 - val_accuracy: 0.7668\n",
      "Epoch 6/20\n",
      "208/208 [==============================] - 1s 5ms/step - loss: 0.3299 - accuracy: 0.8459 - val_loss: 0.4976 - val_accuracy: 0.7650\n",
      "Epoch 7/20\n",
      "208/208 [==============================] - 1s 5ms/step - loss: 0.3012 - accuracy: 0.8610 - val_loss: 0.5231 - val_accuracy: 0.7620\n",
      "Epoch 8/20\n",
      "208/208 [==============================] - 1s 5ms/step - loss: 0.2753 - accuracy: 0.8734 - val_loss: 0.5532 - val_accuracy: 0.7581\n",
      "Epoch 9/20\n",
      "208/208 [==============================] - 1s 5ms/step - loss: 0.2510 - accuracy: 0.8848 - val_loss: 0.5914 - val_accuracy: 0.7517\n",
      "Epoch 10/20\n",
      "208/208 [==============================] - 1s 5ms/step - loss: 0.2307 - accuracy: 0.8936 - val_loss: 0.6241 - val_accuracy: 0.7505\n",
      "Epoch 11/20\n",
      "208/208 [==============================] - 1s 5ms/step - loss: 0.2129 - accuracy: 0.9006 - val_loss: 0.6592 - val_accuracy: 0.7466\n",
      "Epoch 12/20\n",
      "208/208 [==============================] - 1s 5ms/step - loss: 0.1979 - accuracy: 0.9075 - val_loss: 0.7085 - val_accuracy: 0.7473\n",
      "Epoch 13/20\n",
      "208/208 [==============================] - 1s 5ms/step - loss: 0.1849 - accuracy: 0.9127 - val_loss: 0.7536 - val_accuracy: 0.7407\n",
      "Epoch 14/20\n",
      "208/208 [==============================] - 1s 5ms/step - loss: 0.1754 - accuracy: 0.9163 - val_loss: 0.7842 - val_accuracy: 0.7412\n",
      "Epoch 15/20\n",
      "208/208 [==============================] - 1s 5ms/step - loss: 0.1667 - accuracy: 0.9186 - val_loss: 0.8382 - val_accuracy: 0.7398\n",
      "Epoch 16/20\n",
      "208/208 [==============================] - 1s 5ms/step - loss: 0.1601 - accuracy: 0.9209 - val_loss: 0.8823 - val_accuracy: 0.7382\n",
      "Epoch 17/20\n",
      "208/208 [==============================] - 1s 5ms/step - loss: 0.1539 - accuracy: 0.9230 - val_loss: 0.9239 - val_accuracy: 0.7332\n",
      "Epoch 18/20\n",
      "208/208 [==============================] - 1s 5ms/step - loss: 0.1481 - accuracy: 0.9253 - val_loss: 0.9641 - val_accuracy: 0.7332\n",
      "Epoch 19/20\n",
      "208/208 [==============================] - 1s 5ms/step - loss: 0.1430 - accuracy: 0.9271 - val_loss: 1.0086 - val_accuracy: 0.7294\n",
      "Epoch 20/20\n",
      "208/208 [==============================] - 1s 5ms/step - loss: 0.1398 - accuracy: 0.9281 - val_loss: 1.0618 - val_accuracy: 0.7293\n"
     ]
    }
   ],
   "source": [
    "model_cnn.compile(optimizer='adam',\n",
    "              loss='binary_crossentropy',\n",
    "              metrics=['accuracy'])\n",
    "              \n",
    "epochs=20  \n",
    "\n",
    "history_cnn = model_cnn.fit(partial_x_train,\n",
    "                    partial_y_train,\n",
    "                    epochs=epochs,\n",
    "                    batch_size=512,\n",
    "                    validation_data=(x_val, y_val),\n",
    "                    verbose=1)"
   ]
  },
  {
   "cell_type": "code",
   "execution_count": 21,
   "id": "e503fb00",
   "metadata": {},
   "outputs": [
    {
     "name": "stdout",
     "output_type": "stream",
     "text": [
      "1537/1537 - 3s - loss: 1.0873 - accuracy: 0.7264\n",
      "[1.087306022644043, 0.7264275550842285]\n"
     ]
    }
   ],
   "source": [
    "# CNN 모델을 테스트셋으로 평가\n",
    "results_cnn = model_cnn.evaluate(X_test,  y_test, verbose=2)\n",
    "\n",
    "print(results_cnn)"
   ]
  },
  {
   "cell_type": "code",
   "execution_count": 22,
   "id": "224849c8",
   "metadata": {},
   "outputs": [
    {
     "name": "stdout",
     "output_type": "stream",
     "text": [
      "Epoch 1/20\n",
      "208/208 [==============================] - 2s 4ms/step - loss: 0.6329 - accuracy: 0.7279 - val_loss: 0.5054 - val_accuracy: 0.8027\n",
      "Epoch 2/20\n",
      "208/208 [==============================] - 1s 4ms/step - loss: 0.4173 - accuracy: 0.8271 - val_loss: 0.3801 - val_accuracy: 0.8332\n",
      "Epoch 3/20\n",
      "208/208 [==============================] - 1s 4ms/step - loss: 0.3435 - accuracy: 0.8539 - val_loss: 0.3608 - val_accuracy: 0.8407\n",
      "Epoch 4/20\n",
      "208/208 [==============================] - 1s 4ms/step - loss: 0.3119 - accuracy: 0.8691 - val_loss: 0.3566 - val_accuracy: 0.8441\n",
      "Epoch 5/20\n",
      "208/208 [==============================] - 1s 4ms/step - loss: 0.2895 - accuracy: 0.8804 - val_loss: 0.3583 - val_accuracy: 0.8447\n",
      "Epoch 6/20\n",
      "208/208 [==============================] - 1s 4ms/step - loss: 0.2716 - accuracy: 0.8898 - val_loss: 0.3634 - val_accuracy: 0.8444\n",
      "Epoch 7/20\n",
      "208/208 [==============================] - 1s 4ms/step - loss: 0.2565 - accuracy: 0.8973 - val_loss: 0.3707 - val_accuracy: 0.8438\n",
      "Epoch 8/20\n",
      "208/208 [==============================] - 1s 4ms/step - loss: 0.2437 - accuracy: 0.9039 - val_loss: 0.3778 - val_accuracy: 0.8435\n",
      "Epoch 9/20\n",
      "208/208 [==============================] - 1s 4ms/step - loss: 0.2320 - accuracy: 0.9090 - val_loss: 0.3872 - val_accuracy: 0.8429\n",
      "Epoch 10/20\n",
      "208/208 [==============================] - 1s 4ms/step - loss: 0.2215 - accuracy: 0.9148 - val_loss: 0.3977 - val_accuracy: 0.8414\n",
      "Epoch 11/20\n",
      "208/208 [==============================] - 1s 4ms/step - loss: 0.2121 - accuracy: 0.9191 - val_loss: 0.4078 - val_accuracy: 0.8407\n",
      "Epoch 12/20\n",
      "208/208 [==============================] - 1s 4ms/step - loss: 0.2033 - accuracy: 0.9236 - val_loss: 0.4183 - val_accuracy: 0.8390\n",
      "Epoch 13/20\n",
      "208/208 [==============================] - 1s 4ms/step - loss: 0.1954 - accuracy: 0.9265 - val_loss: 0.4297 - val_accuracy: 0.8383\n",
      "Epoch 14/20\n",
      "208/208 [==============================] - 1s 4ms/step - loss: 0.1880 - accuracy: 0.9302 - val_loss: 0.4404 - val_accuracy: 0.8371\n",
      "Epoch 15/20\n",
      "208/208 [==============================] - 1s 4ms/step - loss: 0.1810 - accuracy: 0.9340 - val_loss: 0.4537 - val_accuracy: 0.8358\n",
      "Epoch 16/20\n",
      "208/208 [==============================] - 1s 4ms/step - loss: 0.1744 - accuracy: 0.9367 - val_loss: 0.4674 - val_accuracy: 0.8335\n",
      "Epoch 17/20\n",
      "208/208 [==============================] - 1s 4ms/step - loss: 0.1684 - accuracy: 0.9398 - val_loss: 0.4782 - val_accuracy: 0.8340\n",
      "Epoch 18/20\n",
      "208/208 [==============================] - 1s 4ms/step - loss: 0.1627 - accuracy: 0.9425 - val_loss: 0.4898 - val_accuracy: 0.8329\n",
      "Epoch 19/20\n",
      "208/208 [==============================] - 1s 4ms/step - loss: 0.1574 - accuracy: 0.9447 - val_loss: 0.5028 - val_accuracy: 0.8323\n",
      "Epoch 20/20\n",
      "208/208 [==============================] - 1s 4ms/step - loss: 0.1526 - accuracy: 0.9469 - val_loss: 0.5158 - val_accuracy: 0.8321\n"
     ]
    }
   ],
   "source": [
    "model_gmp.compile(optimizer='adam',\n",
    "              loss='binary_crossentropy',\n",
    "              metrics=['accuracy'])\n",
    "              \n",
    "epochs=20  \n",
    "\n",
    "history_gmp = model_gmp.fit(partial_x_train,\n",
    "                    partial_y_train,\n",
    "                    epochs=epochs,\n",
    "                    batch_size=512,\n",
    "                    validation_data=(x_val, y_val),\n",
    "                    verbose=1)"
   ]
  },
  {
   "cell_type": "code",
   "execution_count": 23,
   "id": "47de39ca",
   "metadata": {},
   "outputs": [
    {
     "name": "stdout",
     "output_type": "stream",
     "text": [
      "1537/1537 - 2s - loss: 0.5263 - accuracy: 0.8244\n",
      "[0.5263139009475708, 0.824379026889801]\n"
     ]
    }
   ],
   "source": [
    "# GlobalMaxPooling1D 모델을 테스트셋으로 평가\n",
    "results_gmp = model_gmp.evaluate(X_test,  y_test, verbose=2)\n",
    "\n",
    "print(results_gmp)"
   ]
  },
  {
   "cell_type": "markdown",
   "id": "1b9d7cc4",
   "metadata": {},
   "source": [
    "## Loss, Accuracy 그래프 시각화"
   ]
  },
  {
   "cell_type": "code",
   "execution_count": 24,
   "id": "254c48f4",
   "metadata": {},
   "outputs": [],
   "source": [
    "import matplotlib.pyplot as plt"
   ]
  },
  {
   "cell_type": "code",
   "execution_count": 25,
   "id": "791500c8",
   "metadata": {},
   "outputs": [
    {
     "data": {
      "image/png": "[encoded data removed]",
      "text/plain": [
       "<Figure size 1440x720 with 2 Axes>"
      ]
     },
     "metadata": {
      "needs_background": "light"
     },
     "output_type": "display_data"
    }
   ],
   "source": [
    "# RNN 모델 Loss, Accuracy 그래프 시각화\n",
    "\n",
    "history_rnn_dict = history_rnn.history\n",
    "\n",
    "acc = history_rnn_dict['accuracy']\n",
    "val_acc = history_rnn_dict['val_accuracy']\n",
    "loss = history_rnn_dict['loss']\n",
    "val_loss = history_rnn_dict['val_loss']\n",
    "\n",
    "epochs = range(1, len(acc) + 1)\n",
    "\n",
    "plt.figure(figsize=(20,10))\n",
    "plt.subplot(1,2,1)\n",
    "# \"bo\"는 \"파란색 점\"입니다\n",
    "plt.plot(epochs, loss, 'bo', label='Training loss')\n",
    "# b는 \"파란 실선\"입니다\n",
    "plt.plot(epochs, val_loss, 'b', label='Validation loss')\n",
    "plt.title('Training and validation loss')\n",
    "plt.xlabel('Epochs')\n",
    "plt.ylabel('Loss')\n",
    "plt.legend()\n",
    "\n",
    "plt.subplot(1,2,2)\n",
    "plt.plot(epochs, acc, 'bo', label='Training acc')\n",
    "plt.plot(epochs, val_acc, 'b', label='Validation acc')\n",
    "plt.title('Training and validation accuracy')\n",
    "plt.xlabel('Epochs')\n",
    "plt.ylabel('Accuracy')\n",
    "plt.legend()\n",
    "\n",
    "plt.show()"
   ]
  },
  {
   "cell_type": "code",
   "execution_count": 26,
   "id": "58466a95",
   "metadata": {},
   "outputs": [
    {
     "data": {
      "image/png": "[encoded data removed]",
      "text/plain": [
       "<Figure size 1440x720 with 2 Axes>"
      ]
     },
     "metadata": {
      "needs_background": "light"
     },
     "output_type": "display_data"
    }
   ],
   "source": [
    "# CNN 모델 Loss, Accuracy 그래프 시각화\n",
    "\n",
    "history_cnn_dict = history_cnn.history\n",
    "\n",
    "acc = history_cnn_dict['accuracy']\n",
    "val_acc = history_cnn_dict['val_accuracy']\n",
    "loss = history_cnn_dict['loss']\n",
    "val_loss = history_cnn_dict['val_loss']\n",
    "\n",
    "epochs = range(1, len(acc) + 1)\n",
    "\n",
    "plt.figure(figsize=(20,10))\n",
    "plt.subplot(1,2,1)\n",
    "# \"bo\"는 \"파란색 점\"입니다\n",
    "plt.plot(epochs, loss, 'bo', label='Training loss')\n",
    "# b는 \"파란 실선\"입니다\n",
    "plt.plot(epochs, val_loss, 'b', label='Validation loss')\n",
    "plt.title('Training and validation loss')\n",
    "plt.xlabel('Epochs')\n",
    "plt.ylabel('Loss')\n",
    "plt.legend()\n",
    "\n",
    "plt.subplot(1,2,2)\n",
    "plt.plot(epochs, acc, 'bo', label='Training acc')\n",
    "plt.plot(epochs, val_acc, 'b', label='Validation acc')\n",
    "plt.title('Training and validation accuracy')\n",
    "plt.xlabel('Epochs')\n",
    "plt.ylabel('Accuracy')\n",
    "plt.legend()\n",
    "\n",
    "plt.show()"
   ]
  },
  {
   "cell_type": "code",
   "execution_count": 27,
   "id": "745de3cd",
   "metadata": {},
   "outputs": [
    {
     "data": {
      "image/png": "[encoded data removed]",
      "text/plain": [
       "<Figure size 1440x720 with 2 Axes>"
      ]
     },
     "metadata": {
      "needs_background": "light"
     },
     "output_type": "display_data"
    }
   ],
   "source": [
    "# GlobalMaxPooling1D() 모델 Loss, Accuracy 그래프 시각화\n",
    "\n",
    "history_gmp_dict = history_gmp.history\n",
    "\n",
    "acc = history_gmp_dict['accuracy']\n",
    "val_acc = history_gmp_dict['val_accuracy']\n",
    "loss = history_gmp_dict['loss']\n",
    "val_loss = history_gmp_dict['val_loss']\n",
    "\n",
    "epochs = range(1, len(acc) + 1)\n",
    "\n",
    "plt.figure(figsize=(20,10))\n",
    "plt.subplot(1,2,1)\n",
    "# \"bo\"는 \"파란색 점\"입니다\n",
    "plt.plot(epochs, loss, 'bo', label='Training loss')\n",
    "# b는 \"파란 실선\"입니다\n",
    "plt.plot(epochs, val_loss, 'b', label='Validation loss')\n",
    "plt.title('Training and validation loss')\n",
    "plt.xlabel('Epochs')\n",
    "plt.ylabel('Loss')\n",
    "plt.legend()\n",
    "\n",
    "plt.subplot(1,2,2)\n",
    "plt.plot(epochs, acc, 'bo', label='Training acc')\n",
    "plt.plot(epochs, val_acc, 'b', label='Validation acc')\n",
    "plt.title('Training and validation accuracy')\n",
    "plt.xlabel('Epochs')\n",
    "plt.ylabel('Accuracy')\n",
    "plt.legend()\n",
    "\n",
    "plt.show()"
   ]
  },
  {
   "cell_type": "markdown",
   "id": "e56505ba",
   "metadata": {},
   "source": [
    "## 학습된 Embedding 레이어 분석"
   ]
  },
  {
   "cell_type": "code",
   "execution_count": 64,
   "id": "73bff4e8",
   "metadata": {},
   "outputs": [],
   "source": [
    "import os\n",
    "import gensim\n",
    "from gensim.models.keyedvectors import Word2VecKeyedVectors\n",
    "from tensorflow.keras.initializers import Constant"
   ]
  },
  {
   "cell_type": "code",
   "execution_count": 66,
   "id": "edc14ef7",
   "metadata": {
    "scrolled": true
   },
   "outputs": [
    {
     "name": "stdout",
     "output_type": "stream",
     "text": [
      "(10000, 16)\n"
     ]
    }
   ],
   "source": [
    "embedding_layer = model_rnn.layers[0]\n",
    "weights = embedding_layer.get_weights()[0]\n",
    "print(weights.shape)    # shape: (vocab_size, embedding_dim)"
   ]
  },
  {
   "cell_type": "code",
   "execution_count": 68,
   "id": "9fbcadf9",
   "metadata": {},
   "outputs": [],
   "source": [
    "# 학습한 Embedding 파라미터를 파일에 써서 저장합니다. \n",
    "word2vec_file_path = os.getenv('HOME')+'/aiffel/sentiment_classification/data/word2vec.txt'\n",
    "f = open(word2vec_file_path, 'w')\n",
    "f.write('{} {}\\n'.format(vocab_size-4, word_vector_dim))  # 몇개의 벡터를 얼마 사이즈로 기재할지 타이틀을 씁니다.\n",
    "\n",
    "# 단어 개수(에서 특수문자 4개는 제외하고)만큼의 워드 벡터를 파일에 기록합니다. \n",
    "vectors = model_rnn.get_weights()[0]\n",
    "for i in range(4,vocab_size):\n",
    "    f.write('{} {}\\n'.format(index_to_word[i], ' '.join(map(str, list(vectors[i, :])))))\n",
    "f.close()"
   ]
  },
  {
   "cell_type": "code",
   "execution_count": 70,
   "id": "362a6b15",
   "metadata": {},
   "outputs": [
    {
     "data": {
      "text/plain": [
       "[('사라질', 0.9634609818458557),\n",
       " ('구매', 0.9605350494384766),\n",
       " ('빠질', 0.9563460946083069),\n",
       " ('훌쩍', 0.9541800022125244),\n",
       " ('돌아보', 0.9524162411689758),\n",
       " ('ㅠㅠㅠㅠ', 0.9517741799354553),\n",
       " ('풍부', 0.9498653411865234),\n",
       " ('설렘', 0.9483941793441772),\n",
       " ('짠', 0.9477145671844482),\n",
       " ('명품', 0.9462499022483826)]"
      ]
     },
     "execution_count": 70,
     "metadata": {},
     "output_type": "execute_result"
    }
   ],
   "source": [
    "# 워드 벡터가 의미 벡터 공간상에 유의미하게 학습되었는지 확인\n",
    "word_vectors = Word2VecKeyedVectors.load_word2vec_format(word2vec_file_path, binary=False)\n",
    "word_vectors.similar_by_word(\"사랑\") # 단어를 하나 주고 그와 가장 유사한 단어와 그 유사도를 확인"
   ]
  },
  {
   "cell_type": "markdown",
   "id": "c4bab4d2",
   "metadata": {},
   "source": [
    "### Google의 Word2Vec 모델을 가져와 적용"
   ]
  },
  {
   "cell_type": "code",
   "execution_count": 59,
   "id": "f1e81284",
   "metadata": {},
   "outputs": [
    {
     "data": {
      "text/plain": [
       "array([ 1.07421875e-01, -2.01171875e-01,  1.23046875e-01,  2.11914062e-01,\n",
       "       -9.13085938e-02,  2.16796875e-01, -1.31835938e-01,  8.30078125e-02,\n",
       "        2.02148438e-01,  4.78515625e-02,  3.66210938e-02, -2.45361328e-02,\n",
       "        2.39257812e-02, -1.60156250e-01, -2.61230469e-02,  9.71679688e-02,\n",
       "       -6.34765625e-02,  1.84570312e-01,  1.70898438e-01, -1.63085938e-01,\n",
       "       -1.09375000e-01,  1.49414062e-01, -4.65393066e-04,  9.61914062e-02,\n",
       "        1.68945312e-01,  2.60925293e-03,  8.93554688e-02,  6.49414062e-02,\n",
       "        3.56445312e-02, -6.93359375e-02, -1.46484375e-01, -1.21093750e-01,\n",
       "       -2.27539062e-01,  2.45361328e-02, -1.24511719e-01, -3.18359375e-01,\n",
       "       -2.20703125e-01,  1.30859375e-01,  3.66210938e-02, -3.63769531e-02,\n",
       "       -1.13281250e-01,  1.95312500e-01,  9.76562500e-02,  1.26953125e-01,\n",
       "        6.59179688e-02,  6.93359375e-02,  1.02539062e-02,  1.75781250e-01,\n",
       "       -1.68945312e-01,  1.21307373e-03, -2.98828125e-01, -1.15234375e-01,\n",
       "        5.66406250e-02, -1.77734375e-01, -2.08984375e-01,  1.76757812e-01,\n",
       "        2.38037109e-02, -2.57812500e-01, -4.46777344e-02,  1.88476562e-01,\n",
       "        5.51757812e-02,  5.02929688e-02, -1.06933594e-01,  1.89453125e-01,\n",
       "       -1.16210938e-01,  8.49609375e-02, -1.71875000e-01,  2.45117188e-01,\n",
       "       -1.73828125e-01, -8.30078125e-03,  4.56542969e-02, -1.61132812e-02,\n",
       "        1.86523438e-01, -6.05468750e-02, -4.17480469e-02,  1.82617188e-01,\n",
       "        2.20703125e-01, -1.22558594e-01, -2.55126953e-02, -3.08593750e-01,\n",
       "        9.13085938e-02,  1.60156250e-01,  1.70898438e-01,  1.19628906e-01,\n",
       "        7.08007812e-02, -2.64892578e-02, -3.08837891e-02,  4.06250000e-01,\n",
       "       -1.01562500e-01,  5.71289062e-02, -7.26318359e-03, -9.17968750e-02,\n",
       "       -1.50390625e-01, -2.55859375e-01,  2.16796875e-01, -3.63769531e-02,\n",
       "        2.24609375e-01,  8.00781250e-02,  1.56250000e-01,  5.27343750e-02,\n",
       "        1.50390625e-01, -1.14746094e-01, -8.64257812e-02,  1.19140625e-01,\n",
       "       -7.17773438e-02,  2.73437500e-01, -1.64062500e-01,  7.29370117e-03,\n",
       "        4.21875000e-01, -1.12792969e-01, -1.35742188e-01, -1.31835938e-01,\n",
       "       -1.37695312e-01, -7.66601562e-02,  6.25000000e-02,  4.98046875e-02,\n",
       "       -1.91406250e-01, -6.03027344e-02,  2.27539062e-01,  5.88378906e-02,\n",
       "       -3.24218750e-01,  5.41992188e-02, -1.35742188e-01,  8.17871094e-03,\n",
       "       -5.24902344e-02, -1.74713135e-03, -9.81445312e-02, -2.86865234e-02,\n",
       "        3.61328125e-02,  2.15820312e-01,  5.98144531e-02, -3.08593750e-01,\n",
       "       -2.27539062e-01,  2.61718750e-01,  9.86328125e-02, -5.07812500e-02,\n",
       "        1.78222656e-02,  1.31835938e-01, -5.35156250e-01, -1.81640625e-01,\n",
       "        1.38671875e-01, -3.10546875e-01, -9.71679688e-02,  1.31835938e-01,\n",
       "       -1.16210938e-01,  7.03125000e-02,  2.85156250e-01,  3.51562500e-02,\n",
       "       -1.01562500e-01, -3.75976562e-02,  1.41601562e-01,  1.42578125e-01,\n",
       "       -5.68847656e-02,  2.65625000e-01, -2.09960938e-01,  9.64355469e-03,\n",
       "       -6.68945312e-02, -4.83398438e-02, -6.10351562e-02,  2.45117188e-01,\n",
       "       -9.66796875e-02,  1.78222656e-02, -1.27929688e-01, -4.78515625e-02,\n",
       "       -7.26318359e-03,  1.79687500e-01,  2.78320312e-02, -2.10937500e-01,\n",
       "       -1.43554688e-01, -1.27929688e-01,  1.73339844e-02, -3.60107422e-03,\n",
       "       -2.04101562e-01,  3.63159180e-03, -1.19628906e-01, -6.15234375e-02,\n",
       "        5.93261719e-02, -3.23486328e-03, -1.70898438e-01, -3.14941406e-02,\n",
       "       -8.88671875e-02, -2.89062500e-01,  3.44238281e-02, -1.87500000e-01,\n",
       "        2.94921875e-01,  1.58203125e-01, -1.19628906e-01,  7.61718750e-02,\n",
       "        6.39648438e-02, -4.68750000e-02, -6.83593750e-02,  1.21459961e-02,\n",
       "       -1.44531250e-01,  4.54101562e-02,  3.68652344e-02,  3.88671875e-01,\n",
       "        1.45507812e-01, -2.55859375e-01, -4.46777344e-02, -1.33789062e-01,\n",
       "       -1.38671875e-01,  6.59179688e-02,  1.37695312e-01,  1.14746094e-01,\n",
       "        2.03125000e-01, -4.78515625e-02,  1.80664062e-02, -8.54492188e-02,\n",
       "       -2.48046875e-01, -3.39843750e-01, -2.83203125e-02,  1.05468750e-01,\n",
       "       -2.14843750e-01, -8.74023438e-02,  7.12890625e-02,  1.87500000e-01,\n",
       "       -1.12304688e-01,  2.73437500e-01, -3.26171875e-01, -1.77734375e-01,\n",
       "       -4.24804688e-02, -2.69531250e-01,  6.64062500e-02, -6.88476562e-02,\n",
       "       -1.99218750e-01, -7.03125000e-02, -2.43164062e-01, -3.66210938e-02,\n",
       "       -7.37304688e-02, -1.77734375e-01,  9.17968750e-02, -1.25000000e-01,\n",
       "       -1.65039062e-01, -3.57421875e-01, -2.85156250e-01, -1.66992188e-01,\n",
       "        1.97265625e-01, -1.53320312e-01,  2.31933594e-02,  2.06054688e-01,\n",
       "        1.80664062e-01, -2.74658203e-02, -1.92382812e-01, -9.61914062e-02,\n",
       "       -1.06811523e-02, -4.73632812e-02,  6.54296875e-02, -1.25732422e-02,\n",
       "        1.78222656e-02, -8.00781250e-02, -2.59765625e-01,  9.37500000e-02,\n",
       "       -7.81250000e-02,  4.68750000e-02, -2.22167969e-02,  1.86767578e-02,\n",
       "        3.11279297e-02,  1.04980469e-02, -1.69921875e-01,  2.58789062e-02,\n",
       "       -3.41796875e-02, -1.44042969e-02, -5.46875000e-02, -8.78906250e-02,\n",
       "        1.96838379e-03,  2.23632812e-01, -1.36718750e-01,  1.75781250e-01,\n",
       "       -1.63085938e-01,  1.87500000e-01,  3.44238281e-02, -5.63964844e-02,\n",
       "       -2.27689743e-05,  4.27246094e-02,  5.81054688e-02, -1.07910156e-01,\n",
       "       -3.88183594e-02, -2.69531250e-01,  3.34472656e-02,  9.81445312e-02,\n",
       "        5.63964844e-02,  2.23632812e-01, -5.49316406e-02,  1.46484375e-01,\n",
       "        5.93261719e-02, -2.19726562e-01,  6.39648438e-02,  1.66015625e-02,\n",
       "        4.56542969e-02,  3.26171875e-01, -3.80859375e-01,  1.70898438e-01,\n",
       "        5.66406250e-02, -1.04492188e-01,  1.38671875e-01, -1.57226562e-01,\n",
       "        3.23486328e-03, -4.80957031e-02, -2.48046875e-01, -6.20117188e-02],\n",
       "      dtype=float32)"
      ]
     },
     "execution_count": 59,
     "metadata": {},
     "output_type": "execute_result"
    }
   ],
   "source": [
    "from gensim.models import KeyedVectors\n",
    "\n",
    "word2vec_path = os.getenv('HOME')+'/aiffel/sentiment_classification/data/GoogleNews-vectors-negative300.bin.gz'\n",
    "word2vec = KeyedVectors.load_word2vec_format(word2vec_path, binary=True, limit=1000000) # 상위 100만 개만 limt으로 조건을 주어 로딩\n",
    "vector = word2vec['computer']\n",
    "vector     # 무려 300dim의 워드 벡터"
   ]
  },
  {
   "cell_type": "code",
   "execution_count": 60,
   "id": "c8a7ff7b",
   "metadata": {},
   "outputs": [
    {
     "data": {
      "text/plain": [
       "[('loved', 0.6907791495323181),\n",
       " ('adore', 0.6816873550415039),\n",
       " ('loves', 0.661863386631012),\n",
       " ('passion', 0.6100708842277527),\n",
       " ('hate', 0.600395679473877),\n",
       " ('loving', 0.5886635780334473),\n",
       " ('affection', 0.5664337873458862),\n",
       " ('undying_love', 0.5547304749488831),\n",
       " ('absolutely_adore', 0.5536840558052063),\n",
       " ('adores', 0.5440906882286072)]"
      ]
     },
     "execution_count": 60,
     "metadata": {},
     "output_type": "execute_result"
    }
   ],
   "source": [
    "word2vec.similar_by_word(\"love\")"
   ]
  },
  {
   "cell_type": "markdown",
   "id": "fb86444d",
   "metadata": {},
   "source": [
    "## 한국어 Word2Vec 임베딩 활용하여 성능 개선"
   ]
  },
  {
   "cell_type": "markdown",
   "id": "3b5e00de",
   "metadata": {},
   "source": [
    "우수프로젝트 권승님 글 참조\n",
    "* 먼저 gensim 패키지의 버전을 확인하자. (2021.08.17 내용 수정)\n",
    "* 프로젝트 수행 과정에서 gensim 패키지의 버전을 다운그레이드하였다. 이유는 한국어Word2Vec 파일을 잘 불러오지 못하는 문제 때문이었다.\n",
    "* pip install --upgrade gensim==3.8.3 명령어를 Cloud Shell에 입력해 주어 한국어 파일인 ko_model을 정상적으로 불러올 수 있었다."
   ]
  },
  {
   "cell_type": "code",
   "execution_count": 1,
   "id": "d8211099",
   "metadata": {},
   "outputs": [
    {
     "data": {
      "text/plain": [
       "'3.8.3'"
      ]
     },
     "execution_count": 1,
     "metadata": {},
     "output_type": "execute_result"
    }
   ],
   "source": [
    "# gensim 패키지 버전 알아보기\n",
    "\n",
    "import gensim\n",
    "gensim.__version__"
   ]
  },
  {
   "cell_type": "code",
   "execution_count": 72,
   "id": "0b8ce02c",
   "metadata": {
    "scrolled": true
   },
   "outputs": [
    {
     "name": "stdout",
     "output_type": "stream",
     "text": [
      "Collecting gensim==3.8.3\n",
      "  Using cached gensim-3.8.3-cp39-cp39-linux_x86_64.whl\n",
      "Requirement already satisfied: six>=1.5.0 in /opt/conda/lib/python3.9/site-packages (from gensim==3.8.3) (1.16.0)\n",
      "Requirement already satisfied: smart-open>=1.8.1 in /opt/conda/lib/python3.9/site-packages (from gensim==3.8.3) (5.2.1)\n",
      "Requirement already satisfied: scipy>=0.18.1 in /opt/conda/lib/python3.9/site-packages (from gensim==3.8.3) (1.7.1)\n",
      "Requirement already satisfied: numpy>=1.11.3 in /opt/conda/lib/python3.9/site-packages (from gensim==3.8.3) (1.21.4)\n",
      "Installing collected packages: gensim\n",
      "Successfully installed gensim-3.8.3\n",
      "\u001b[33mWARNING: Running pip as the 'root' user can result in broken permissions and conflicting behaviour with the system package manager. It is recommended to use a virtual environment instead: https://pip.pypa.io/warnings/venv\u001b[0m\n"
     ]
    }
   ],
   "source": [
    "!pip install --upgrade gensim==3.8.3"
   ]
  },
  {
   "cell_type": "code",
   "execution_count": 16,
   "id": "5fbef45f",
   "metadata": {},
   "outputs": [],
   "source": [
    "import os\n",
    "word2vec_path = os.getenv('HOME')+'/aiffel/sentiment_classification/data/ko.bin'\n",
    "ko_model = gensim.models.Word2Vec.load(word2vec_path)"
   ]
  },
  {
   "cell_type": "code",
   "execution_count": 17,
   "id": "eacacd1a",
   "metadata": {},
   "outputs": [
    {
     "data": {
      "text/plain": [
       "[('여러분', 0.6857219934463501),\n",
       " ('그대', 0.6845344305038452),\n",
       " ('너희', 0.6703404188156128),\n",
       " ('그분', 0.6606594324111938),\n",
       " ('내가', 0.6512429714202881),\n",
       " ('자신', 0.6209174394607544),\n",
       " ('하느님', 0.6158164739608765),\n",
       " ('저희', 0.6040840744972229),\n",
       " ('누군가', 0.603564977645874),\n",
       " ('정말', 0.5843536853790283)]"
      ]
     },
     "execution_count": 17,
     "metadata": {},
     "output_type": "execute_result"
    }
   ],
   "source": [
    "# 유사한 단어와 그 유사도 확인\n",
    "ko_model.wv.most_similar(\"당신\")"
   ]
  },
  {
   "cell_type": "code",
   "execution_count": 18,
   "id": "12c00013",
   "metadata": {},
   "outputs": [
    {
     "data": {
      "text/plain": [
       "[('땀', 0.6310575008392334),\n",
       " ('슬픔', 0.5787195563316345),\n",
       " ('이별', 0.5772002935409546),\n",
       " ('추억', 0.5725258588790894),\n",
       " ('한숨', 0.5546674728393555),\n",
       " ('슬프', 0.5339798927307129),\n",
       " ('웃음', 0.5284000039100647),\n",
       " ('울부짖', 0.5240477323532104),\n",
       " ('울음', 0.5148942470550537),\n",
       " ('온몸', 0.5059491395950317)]"
      ]
     },
     "execution_count": 18,
     "metadata": {},
     "output_type": "execute_result"
    }
   ],
   "source": [
    "# 유사한 단어와 그 유사도 확인\n",
    "ko_model.wv.most_similar(\"눈물\")"
   ]
  },
  {
   "cell_type": "code",
   "execution_count": 33,
   "id": "3f3f15e4",
   "metadata": {},
   "outputs": [
    {
     "name": "stderr",
     "output_type": "stream",
     "text": [
      "/tmp/ipykernel_87/3932605460.py:8: DeprecationWarning: Call to deprecated `__contains__` (Method will be removed in 4.0.0, use self.wv.__contains__() instead).\n",
      "  if index_to_word[i] in ko_model:\n",
      "/tmp/ipykernel_87/3932605460.py:9: DeprecationWarning: Call to deprecated `__getitem__` (Method will be removed in 4.0.0, use self.wv.__getitem__() instead).\n",
      "  embedding_matrix[i] = ko_model[index_to_word[i]]\n"
     ]
    }
   ],
   "source": [
    "vocab_size = 10000    # 어휘 사전의 크기(10,000개의 단어)\n",
    "word_vector_dim = 200  # 워드 벡터의 차원 수 (변경 가능한 하이퍼파라미터)\n",
    "\n",
    "embedding_matrix = np.random.rand(vocab_size, word_vector_dim)\n",
    "\n",
    "# 단어 개수(에서 특수문자 4개는 제외하고)만큼의 워드 벡터를 카피\n",
    "for i in range(4, vocab_size):\n",
    "    if index_to_word[i] in ko_model:\n",
    "        embedding_matrix[i] = ko_model[index_to_word[i]]"
   ]
  },
  {
   "cell_type": "code",
   "execution_count": 39,
   "id": "424ee78e",
   "metadata": {},
   "outputs": [
    {
     "name": "stdout",
     "output_type": "stream",
     "text": [
      "Model: \"sequential_4\"\n",
      "_________________________________________________________________\n",
      "Layer (type)                 Output Shape              Param #   \n",
      "=================================================================\n",
      "embedding_2 (Embedding)      (None, None, 200)         2000000   \n",
      "_________________________________________________________________\n",
      "lstm_2 (LSTM)                (None, 8)                 6688      \n",
      "_________________________________________________________________\n",
      "dense_4 (Dense)              (None, 8)                 72        \n",
      "_________________________________________________________________\n",
      "dense_5 (Dense)              (None, 1)                 9         \n",
      "=================================================================\n",
      "Total params: 2,006,769\n",
      "Trainable params: 2,006,769\n",
      "Non-trainable params: 0\n",
      "_________________________________________________________________\n"
     ]
    }
   ],
   "source": [
    "import tensorflow as tf\n",
    "from tensorflow.keras.initializers import Constant\n",
    "\n",
    "# RNN Word2Vec embedding 활용\n",
    "model_rnn = tf.keras.Sequential()\n",
    "model_rnn.add(tf.keras.layers.Embedding(vocab_size, word_vector_dim, embeddings_initializer=Constant(embedding_matrix), input_shape=(None,)))\n",
    "model_rnn.add(tf.keras.layers.LSTM(8))   # 가장 널리 쓰이는 RNN인 LSTM 레이어를 사용하였습니다. 이때 LSTM state 벡터의 차원수는 8로 하였습니다. (변경 가능)\n",
    "model_rnn.add(tf.keras.layers.Dense(8, activation='relu'))\n",
    "model_rnn.add(tf.keras.layers.Dense(1, activation='sigmoid'))  # 최종 출력은 긍정/부정을 나타내는 1dim 입니다.\n",
    "\n",
    "model_rnn.summary()"
   ]
  },
  {
   "cell_type": "code",
   "execution_count": 50,
   "id": "ce3ecb6a",
   "metadata": {},
   "outputs": [
    {
     "name": "stdout",
     "output_type": "stream",
     "text": [
      "Epoch 1/20\n",
      "208/208 [==============================] - 3s 9ms/step - loss: 0.1098 - accuracy: 0.9639 - val_loss: 0.5788 - val_accuracy: 0.8342\n",
      "Epoch 2/20\n",
      "208/208 [==============================] - 1s 7ms/step - loss: 0.1050 - accuracy: 0.9655 - val_loss: 0.5923 - val_accuracy: 0.8317\n",
      "Epoch 3/20\n",
      "208/208 [==============================] - 1s 7ms/step - loss: 0.1018 - accuracy: 0.9669 - val_loss: 0.5906 - val_accuracy: 0.8340\n",
      "Epoch 4/20\n",
      "208/208 [==============================] - 1s 7ms/step - loss: 0.0999 - accuracy: 0.9675 - val_loss: 0.6061 - val_accuracy: 0.8341\n",
      "Epoch 5/20\n",
      "208/208 [==============================] - 1s 7ms/step - loss: 0.0953 - accuracy: 0.9690 - val_loss: 0.6129 - val_accuracy: 0.8303\n",
      "Epoch 6/20\n",
      "208/208 [==============================] - 1s 7ms/step - loss: 0.0922 - accuracy: 0.9704 - val_loss: 0.6341 - val_accuracy: 0.8328\n",
      "Epoch 7/20\n",
      "208/208 [==============================] - 1s 7ms/step - loss: 0.0882 - accuracy: 0.9718 - val_loss: 0.6672 - val_accuracy: 0.8283\n",
      "Epoch 8/20\n",
      "208/208 [==============================] - 1s 7ms/step - loss: 0.0893 - accuracy: 0.9710 - val_loss: 0.6590 - val_accuracy: 0.8316\n",
      "Epoch 9/20\n",
      "208/208 [==============================] - 1s 7ms/step - loss: 0.0849 - accuracy: 0.9727 - val_loss: 0.6624 - val_accuracy: 0.8278\n",
      "Epoch 10/20\n",
      "208/208 [==============================] - 1s 7ms/step - loss: 0.0838 - accuracy: 0.9731 - val_loss: 0.6753 - val_accuracy: 0.8273\n",
      "Epoch 11/20\n",
      "208/208 [==============================] - 1s 7ms/step - loss: 0.0790 - accuracy: 0.9749 - val_loss: 0.6869 - val_accuracy: 0.8285\n",
      "Epoch 12/20\n",
      "208/208 [==============================] - 1s 7ms/step - loss: 0.0799 - accuracy: 0.9746 - val_loss: 0.6931 - val_accuracy: 0.8288\n",
      "Epoch 13/20\n",
      "208/208 [==============================] - 1s 7ms/step - loss: 0.0798 - accuracy: 0.9747 - val_loss: 0.6935 - val_accuracy: 0.8279\n",
      "Epoch 14/20\n",
      "208/208 [==============================] - 1s 7ms/step - loss: 0.0742 - accuracy: 0.9768 - val_loss: 0.7093 - val_accuracy: 0.8274\n",
      "Epoch 15/20\n",
      "208/208 [==============================] - 1s 7ms/step - loss: 0.0749 - accuracy: 0.9759 - val_loss: 0.7223 - val_accuracy: 0.8275\n",
      "Epoch 16/20\n",
      "208/208 [==============================] - 1s 7ms/step - loss: 0.0696 - accuracy: 0.9780 - val_loss: 0.7467 - val_accuracy: 0.8224\n",
      "Epoch 17/20\n",
      "208/208 [==============================] - 1s 7ms/step - loss: 0.0718 - accuracy: 0.9773 - val_loss: 0.7317 - val_accuracy: 0.8257\n",
      "Epoch 18/20\n",
      "208/208 [==============================] - 1s 7ms/step - loss: 0.0673 - accuracy: 0.9786 - val_loss: 0.7563 - val_accuracy: 0.8246\n",
      "Epoch 19/20\n",
      "208/208 [==============================] - 1s 7ms/step - loss: 0.0677 - accuracy: 0.9787 - val_loss: 0.7564 - val_accuracy: 0.8245\n",
      "Epoch 20/20\n",
      "208/208 [==============================] - 1s 7ms/step - loss: 0.0637 - accuracy: 0.9803 - val_loss: 0.7822 - val_accuracy: 0.8237\n"
     ]
    }
   ],
   "source": [
    "model_rnn.compile(optimizer='adam',\n",
    "              loss='binary_crossentropy',\n",
    "              metrics=['accuracy'])\n",
    "              \n",
    "epochs=20  \n",
    "\n",
    "history_rnn = model_rnn.fit(partial_x_train,\n",
    "                    partial_y_train,\n",
    "                    epochs=epochs,\n",
    "                    batch_size=512,\n",
    "                    validation_data=(x_val, y_val),\n",
    "                    verbose=1)"
   ]
  },
  {
   "cell_type": "code",
   "execution_count": 49,
   "id": "98733e8e",
   "metadata": {},
   "outputs": [
    {
     "name": "stdout",
     "output_type": "stream",
     "text": [
      "1537/1537 - 3s - loss: 0.5917 - accuracy: 0.8284\n",
      "[0.5917215943336487, 0.8283662796020508]\n"
     ]
    }
   ],
   "source": [
    "# RNN 모델을 테스트셋으로 평가\n",
    "results_rnn = model_rnn.evaluate(X_test,  y_test, verbose=2)\n",
    "print(results_rnn)"
   ]
  },
  {
   "cell_type": "code",
   "execution_count": 42,
   "id": "cda9f73f",
   "metadata": {},
   "outputs": [
    {
     "name": "stdout",
     "output_type": "stream",
     "text": [
      "Model: \"sequential_5\"\n",
      "_________________________________________________________________\n",
      "Layer (type)                 Output Shape              Param #   \n",
      "=================================================================\n",
      "embedding_3 (Embedding)      (None, None, 200)         2000000   \n",
      "_________________________________________________________________\n",
      "conv1d (Conv1D)              (None, None, 16)          9616      \n",
      "_________________________________________________________________\n",
      "max_pooling1d (MaxPooling1D) (None, None, 16)          0         \n",
      "_________________________________________________________________\n",
      "conv1d_1 (Conv1D)            (None, None, 16)          784       \n",
      "_________________________________________________________________\n",
      "global_max_pooling1d (Global (None, 16)                0         \n",
      "_________________________________________________________________\n",
      "dense_6 (Dense)              (None, 8)                 136       \n",
      "_________________________________________________________________\n",
      "dense_7 (Dense)              (None, 1)                 9         \n",
      "=================================================================\n",
      "Total params: 2,010,545\n",
      "Trainable params: 2,010,545\n",
      "Non-trainable params: 0\n",
      "_________________________________________________________________\n"
     ]
    }
   ],
   "source": [
    "# CNN Word2Vec embedding 활용\n",
    "model_cnn = tf.keras.Sequential()\n",
    "model_cnn.add(tf.keras.layers.Embedding(vocab_size, word_vector_dim, embeddings_initializer=Constant(embedding_matrix), input_shape=(None,)))\n",
    "model_cnn.add(tf.keras.layers.Conv1D(16, 3, activation='relu'))\n",
    "model_cnn.add(tf.keras.layers.MaxPooling1D(5))\n",
    "model_cnn.add(tf.keras.layers.Conv1D(16, 3, activation='relu'))\n",
    "model_cnn.add(tf.keras.layers.GlobalMaxPooling1D())\n",
    "model_cnn.add(tf.keras.layers.Dense(8, activation='relu'))\n",
    "model_cnn.add(tf.keras.layers.Dense(1, activation='sigmoid'))\n",
    "\n",
    "model_cnn.summary()"
   ]
  },
  {
   "cell_type": "code",
   "execution_count": 43,
   "id": "678bd65a",
   "metadata": {},
   "outputs": [
    {
     "name": "stdout",
     "output_type": "stream",
     "text": [
      "Epoch 1/20\n",
      "208/208 [==============================] - 4s 8ms/step - loss: 0.6508 - accuracy: 0.6131 - val_loss: 0.5825 - val_accuracy: 0.6781\n",
      "Epoch 2/20\n",
      "208/208 [==============================] - 1s 6ms/step - loss: 0.5390 - accuracy: 0.7179 - val_loss: 0.5190 - val_accuracy: 0.7287\n",
      "Epoch 3/20\n",
      "208/208 [==============================] - 1s 6ms/step - loss: 0.4792 - accuracy: 0.7592 - val_loss: 0.4920 - val_accuracy: 0.7487\n",
      "Epoch 4/20\n",
      "208/208 [==============================] - 1s 6ms/step - loss: 0.4395 - accuracy: 0.7844 - val_loss: 0.4820 - val_accuracy: 0.7517\n",
      "Epoch 5/20\n",
      "208/208 [==============================] - 1s 6ms/step - loss: 0.4107 - accuracy: 0.8011 - val_loss: 0.4794 - val_accuracy: 0.7597\n",
      "Epoch 6/20\n",
      "208/208 [==============================] - 1s 6ms/step - loss: 0.3859 - accuracy: 0.8139 - val_loss: 0.4855 - val_accuracy: 0.7600\n",
      "Epoch 7/20\n",
      "208/208 [==============================] - 1s 6ms/step - loss: 0.3657 - accuracy: 0.8239 - val_loss: 0.4930 - val_accuracy: 0.7610\n",
      "Epoch 8/20\n",
      "208/208 [==============================] - 1s 6ms/step - loss: 0.3430 - accuracy: 0.8368 - val_loss: 0.5044 - val_accuracy: 0.7589\n",
      "Epoch 9/20\n",
      "208/208 [==============================] - 1s 6ms/step - loss: 0.3239 - accuracy: 0.8463 - val_loss: 0.5197 - val_accuracy: 0.7577\n",
      "Epoch 10/20\n",
      "208/208 [==============================] - 1s 6ms/step - loss: 0.3050 - accuracy: 0.8555 - val_loss: 0.5453 - val_accuracy: 0.7558\n",
      "Epoch 11/20\n",
      "208/208 [==============================] - 1s 6ms/step - loss: 0.2861 - accuracy: 0.8655 - val_loss: 0.5720 - val_accuracy: 0.7498\n",
      "Epoch 12/20\n",
      "208/208 [==============================] - 1s 6ms/step - loss: 0.2685 - accuracy: 0.8742 - val_loss: 0.5918 - val_accuracy: 0.7498\n",
      "Epoch 13/20\n",
      "208/208 [==============================] - 1s 6ms/step - loss: 0.2520 - accuracy: 0.8810 - val_loss: 0.6253 - val_accuracy: 0.7517\n",
      "Epoch 14/20\n",
      "208/208 [==============================] - 1s 6ms/step - loss: 0.2366 - accuracy: 0.8881 - val_loss: 0.6587 - val_accuracy: 0.7506\n",
      "Epoch 15/20\n",
      "208/208 [==============================] - 1s 6ms/step - loss: 0.2224 - accuracy: 0.8940 - val_loss: 0.6978 - val_accuracy: 0.7445\n",
      "Epoch 16/20\n",
      "208/208 [==============================] - 1s 6ms/step - loss: 0.2107 - accuracy: 0.8992 - val_loss: 0.7598 - val_accuracy: 0.7452\n",
      "Epoch 17/20\n",
      "208/208 [==============================] - 1s 6ms/step - loss: 0.2009 - accuracy: 0.9022 - val_loss: 0.7701 - val_accuracy: 0.7469\n",
      "Epoch 18/20\n",
      "208/208 [==============================] - 1s 6ms/step - loss: 0.1883 - accuracy: 0.9078 - val_loss: 0.8340 - val_accuracy: 0.7405\n",
      "Epoch 19/20\n",
      "208/208 [==============================] - 1s 6ms/step - loss: 0.1830 - accuracy: 0.9094 - val_loss: 0.8529 - val_accuracy: 0.7442\n",
      "Epoch 20/20\n",
      "208/208 [==============================] - 1s 6ms/step - loss: 0.1725 - accuracy: 0.9137 - val_loss: 0.8712 - val_accuracy: 0.7418\n"
     ]
    }
   ],
   "source": [
    "model_cnn.compile(optimizer='adam',\n",
    "              loss='binary_crossentropy',\n",
    "              metrics=['accuracy'])\n",
    "              \n",
    "epochs=20  \n",
    "\n",
    "history_cnn = model_cnn.fit(partial_x_train,\n",
    "                    partial_y_train,\n",
    "                    epochs=epochs,\n",
    "                    batch_size=512,\n",
    "                    validation_data=(x_val, y_val),\n",
    "                    verbose=1)"
   ]
  },
  {
   "cell_type": "code",
   "execution_count": 44,
   "id": "d11fbeb9",
   "metadata": {},
   "outputs": [
    {
     "name": "stdout",
     "output_type": "stream",
     "text": [
      "1537/1537 - 3s - loss: 0.8831 - accuracy: 0.7400\n",
      "[0.8830965757369995, 0.7399556636810303]\n"
     ]
    }
   ],
   "source": [
    "# CNN 모델을 테스트셋으로 평가\n",
    "results_cnn = model_cnn.evaluate(X_test,  y_test, verbose=2)\n",
    "\n",
    "print(results_cnn)"
   ]
  },
  {
   "cell_type": "code",
   "execution_count": 45,
   "id": "a11ccd93",
   "metadata": {},
   "outputs": [
    {
     "name": "stdout",
     "output_type": "stream",
     "text": [
      "Model: \"sequential_6\"\n",
      "_________________________________________________________________\n",
      "Layer (type)                 Output Shape              Param #   \n",
      "=================================================================\n",
      "embedding_4 (Embedding)      (None, None, 200)         2000000   \n",
      "_________________________________________________________________\n",
      "global_max_pooling1d_1 (Glob (None, 200)               0         \n",
      "_________________________________________________________________\n",
      "dense_8 (Dense)              (None, 8)                 1608      \n",
      "_________________________________________________________________\n",
      "dense_9 (Dense)              (None, 1)                 9         \n",
      "=================================================================\n",
      "Total params: 2,001,617\n",
      "Trainable params: 2,001,617\n",
      "Non-trainable params: 0\n",
      "_________________________________________________________________\n"
     ]
    }
   ],
   "source": [
    "# GlobalMaxPooling1D() 모델 Word2Vec embedding 활용\n",
    "model_gmp = tf.keras.Sequential()\n",
    "model_gmp.add(tf.keras.layers.Embedding(vocab_size, word_vector_dim, embeddings_initializer=Constant(embedding_matrix), input_shape=(None,)))\n",
    "model_gmp.add(tf.keras.layers.GlobalMaxPooling1D())\n",
    "model_gmp.add(tf.keras.layers.Dense(8, activation='relu'))\n",
    "model_gmp.add(tf.keras.layers.Dense(1, activation='sigmoid'))  # 최종 출력은 긍정/부정을 나타내는 1dim 입니다.\n",
    "\n",
    "model_gmp.summary()"
   ]
  },
  {
   "cell_type": "code",
   "execution_count": 46,
   "id": "0436002b",
   "metadata": {},
   "outputs": [
    {
     "name": "stdout",
     "output_type": "stream",
     "text": [
      "Epoch 1/20\n",
      "208/208 [==============================] - 2s 5ms/step - loss: 0.6637 - accuracy: 0.5986 - val_loss: 0.6091 - val_accuracy: 0.6765\n",
      "Epoch 2/20\n",
      "208/208 [==============================] - 1s 4ms/step - loss: 0.5718 - accuracy: 0.7062 - val_loss: 0.5395 - val_accuracy: 0.7336\n",
      "Epoch 3/20\n",
      "208/208 [==============================] - 1s 5ms/step - loss: 0.5125 - accuracy: 0.7517 - val_loss: 0.4975 - val_accuracy: 0.7590\n",
      "Epoch 4/20\n",
      "208/208 [==============================] - 1s 5ms/step - loss: 0.4703 - accuracy: 0.7784 - val_loss: 0.4679 - val_accuracy: 0.7773\n",
      "Epoch 5/20\n",
      "208/208 [==============================] - 1s 4ms/step - loss: 0.4377 - accuracy: 0.7982 - val_loss: 0.4476 - val_accuracy: 0.7880\n",
      "Epoch 6/20\n",
      "208/208 [==============================] - 1s 4ms/step - loss: 0.4115 - accuracy: 0.8146 - val_loss: 0.4309 - val_accuracy: 0.7982\n",
      "Epoch 7/20\n",
      "208/208 [==============================] - 1s 4ms/step - loss: 0.3887 - accuracy: 0.8266 - val_loss: 0.4225 - val_accuracy: 0.8047\n",
      "Epoch 8/20\n",
      "208/208 [==============================] - 1s 4ms/step - loss: 0.3692 - accuracy: 0.8377 - val_loss: 0.4148 - val_accuracy: 0.8104\n",
      "Epoch 9/20\n",
      "208/208 [==============================] - 1s 5ms/step - loss: 0.3532 - accuracy: 0.8464 - val_loss: 0.4064 - val_accuracy: 0.8145\n",
      "Epoch 10/20\n",
      "208/208 [==============================] - 1s 5ms/step - loss: 0.3380 - accuracy: 0.8547 - val_loss: 0.4018 - val_accuracy: 0.8191\n",
      "Epoch 11/20\n",
      "208/208 [==============================] - 1s 5ms/step - loss: 0.3253 - accuracy: 0.8619 - val_loss: 0.3998 - val_accuracy: 0.8219\n",
      "Epoch 12/20\n",
      "208/208 [==============================] - 1s 5ms/step - loss: 0.3123 - accuracy: 0.8684 - val_loss: 0.4001 - val_accuracy: 0.8229\n",
      "Epoch 13/20\n",
      "208/208 [==============================] - 1s 4ms/step - loss: 0.3000 - accuracy: 0.8749 - val_loss: 0.3978 - val_accuracy: 0.8241\n",
      "Epoch 14/20\n",
      "208/208 [==============================] - 1s 5ms/step - loss: 0.2887 - accuracy: 0.8803 - val_loss: 0.3988 - val_accuracy: 0.8243\n",
      "Epoch 15/20\n",
      "208/208 [==============================] - 1s 5ms/step - loss: 0.2784 - accuracy: 0.8857 - val_loss: 0.3997 - val_accuracy: 0.8252\n",
      "Epoch 16/20\n",
      "208/208 [==============================] - 1s 4ms/step - loss: 0.2670 - accuracy: 0.8916 - val_loss: 0.4021 - val_accuracy: 0.8253\n",
      "Epoch 17/20\n",
      "208/208 [==============================] - 1s 4ms/step - loss: 0.2576 - accuracy: 0.8959 - val_loss: 0.4053 - val_accuracy: 0.8249\n",
      "Epoch 18/20\n",
      "208/208 [==============================] - 1s 4ms/step - loss: 0.2473 - accuracy: 0.9007 - val_loss: 0.4095 - val_accuracy: 0.8263\n",
      "Epoch 19/20\n",
      "208/208 [==============================] - 1s 4ms/step - loss: 0.2381 - accuracy: 0.9055 - val_loss: 0.4129 - val_accuracy: 0.8265\n",
      "Epoch 20/20\n",
      "208/208 [==============================] - 1s 4ms/step - loss: 0.2280 - accuracy: 0.9103 - val_loss: 0.4184 - val_accuracy: 0.8254\n"
     ]
    }
   ],
   "source": [
    "model_gmp.compile(optimizer='adam',\n",
    "              loss='binary_crossentropy',\n",
    "              metrics=['accuracy'])\n",
    "              \n",
    "epochs=20  \n",
    "\n",
    "history_gmp = model_gmp.fit(partial_x_train,\n",
    "                    partial_y_train,\n",
    "                    epochs=epochs,\n",
    "                    batch_size=512,\n",
    "                    validation_data=(x_val, y_val),\n",
    "                    verbose=1)"
   ]
  },
  {
   "cell_type": "code",
   "execution_count": 47,
   "id": "78b1ff5d",
   "metadata": {},
   "outputs": [
    {
     "name": "stdout",
     "output_type": "stream",
     "text": [
      "1537/1537 - 2s - loss: 0.4271 - accuracy: 0.8238\n",
      "[0.42713651061058044, 0.8238094449043274]\n"
     ]
    }
   ],
   "source": [
    "# GlobalMaxPooling1D 모델을 테스트셋으로 평가\n",
    "results_gmp = model_gmp.evaluate(X_test,  y_test, verbose=2)\n",
    "\n",
    "print(results_gmp)"
   ]
  },
  {
   "cell_type": "markdown",
   "id": "83d9ce4b",
   "metadata": {},
   "source": [
    "## 후기"
   ]
  },
  {
   "cell_type": "markdown",
   "id": "cff746ba",
   "metadata": {},
   "source": [
    "* 권승민님의 글 처럼 pip install --upgrade gensim==3.8.3 명령어 실행에 오류가 떠 삭제 후 다시 재 설치해도 관리자와 권한 문제가 있다는 경고문이 뜨면서 제대로 작동하지 않았음. 몇번이나 사이트를 나갔다 다시 들어와서 재 시도 끝에 제대로 버전 다운되고 한국어 Word2Vec 사용이 가능했음.\n",
    "\n",
    "* 훈련데이터만으로는 워드 벡터를 학습시켰을때 유사한 단어와 유사도를 확인해보면 유사도는 0.9 이상 높게 나오지만 단어 의미상 크게 유사함을 느낄 수 없었으나 한국어 Word2Vec 사용시엔 유사도는 0.5~0.6 사이로 낮은 편이나 의미상 유사한 부분이 많음을 알 수 있음.\n",
    "\n",
    "* Word2Vec embedding 활용 시 같은 조건에서의 모델 정확도는 약 0.1~0.2 사이로 높아졌으나 85%에 도달하지 못함.\n",
    "* Loss, Accuracy 그래프 시각화를 통해 확인한 정보를 모델에 적절히 반영하지 못함...epoch 수정 후 정확도 오히려 낮아졌었음. ㅠㅠ\n"
   ]
  },
  {
   "cell_type": "code",
   "execution_count": null,
   "id": "e77f2ab9",
   "metadata": {},
   "outputs": [],
   "source": []
  }
 ],
 "metadata": {
  "kernelspec": {
   "display_name": "Python 3 (ipykernel)",
   "language": "python",
   "name": "python3"
  },
  "language_info": {
   "codemirror_mode": {
    "name": "ipython",
    "version": 3
   },
   "file_extension": ".py",
   "mimetype": "text/x-python",
   "name": "python",
   "nbconvert_exporter": "python",
   "pygments_lexer": "ipython3",
   "version": "3.9.7"
  }
 },
 "nbformat": 4,
 "nbformat_minor": 5
}
