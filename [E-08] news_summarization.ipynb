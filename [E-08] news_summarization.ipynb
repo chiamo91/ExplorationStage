{
 "cells": [
  {
   "cell_type": "markdown",
   "id": "03b4f648",
   "metadata": {},
   "source": [
    "#  뉴스기사 요약해보기"
   ]
  },
  {
   "cell_type": "markdown",
   "id": "e436b228",
   "metadata": {},
   "source": [
    "## Step 1. 데이터 수집하기"
   ]
  },
  {
   "cell_type": "code",
   "execution_count": 34,
   "id": "3c09bb7e",
   "metadata": {},
   "outputs": [
    {
     "name": "stderr",
     "output_type": "stream",
     "text": [
      "[nltk_data] Downloading package stopwords to /aiffel/nltk_data...\n",
      "[nltk_data]   Package stopwords is already up-to-date!\n"
     ]
    }
   ],
   "source": [
    "import nltk\n",
    "nltk.download('stopwords')\n",
    "\n",
    "import numpy as np\n",
    "import pandas as pd\n",
    "import os\n",
    "import re\n",
    "import matplotlib.pyplot as plt\n",
    "from nltk.corpus import stopwords\n",
    "from bs4 import BeautifulSoup \n",
    "from tensorflow.keras.preprocessing.text import Tokenizer \n",
    "from tensorflow.keras.preprocessing.sequence import pad_sequences\n",
    "import urllib.request\n",
    "import warnings\n",
    "warnings.filterwarnings(\"ignore\", category=UserWarning, module='bs4')"
   ]
  },
  {
   "cell_type": "code",
   "execution_count": 35,
   "id": "7c54ed4e",
   "metadata": {},
   "outputs": [],
   "source": [
    "import urllib.request\n",
    "urllib.request.urlretrieve(\"https://raw.githubusercontent.com/sunnysai12345/News_Summary/master/news_summary_more.csv\", filename=\"news_summary_more.csv\")\n",
    "data = pd.read_csv('news_summary_more.csv', encoding='iso-8859-1')"
   ]
  },
  {
   "cell_type": "code",
   "execution_count": 36,
   "id": "2924e781",
   "metadata": {},
   "outputs": [
    {
     "data": {
      "text/html": [
       "<div>\n",
       "<style scoped>\n",
       "    .dataframe tbody tr th:only-of-type {\n",
       "        vertical-align: middle;\n",
       "    }\n",
       "\n",
       "    .dataframe tbody tr th {\n",
       "        vertical-align: top;\n",
       "    }\n",
       "\n",
       "    .dataframe thead th {\n",
       "        text-align: right;\n",
       "    }\n",
       "</style>\n",
       "<table border=\"1\" class=\"dataframe\">\n",
       "  <thead>\n",
       "    <tr style=\"text-align: right;\">\n",
       "      <th></th>\n",
       "      <th>headlines</th>\n",
       "      <th>text</th>\n",
       "    </tr>\n",
       "  </thead>\n",
       "  <tbody>\n",
       "    <tr>\n",
       "      <th>33379</th>\n",
       "      <td>Library evacuated as rotting fruit sparks fear...</td>\n",
       "      <td>Nearly 600 people were evacuated from a librar...</td>\n",
       "    </tr>\n",
       "    <tr>\n",
       "      <th>39911</th>\n",
       "      <td>Trump probably has power to pardon himself: US...</td>\n",
       "      <td>US President Donald Trump's lawyer Rudy Giulia...</td>\n",
       "    </tr>\n",
       "    <tr>\n",
       "      <th>81337</th>\n",
       "      <td>China's 3rd richest man to sell firm's hotels ...</td>\n",
       "      <td>Dalian Wanda, founded by China's third richest...</td>\n",
       "    </tr>\n",
       "    <tr>\n",
       "      <th>86856</th>\n",
       "      <td>US has turned into a tragic, dumbass comedy: R...</td>\n",
       "      <td>During a commencement ceremony speech at Brown...</td>\n",
       "    </tr>\n",
       "    <tr>\n",
       "      <th>12256</th>\n",
       "      <td>Sonia's monthly pay at Paytm went from Ã¢ÂÂ¹1...</td>\n",
       "      <td>Family of Sonia Dhawan who was arrested for al...</td>\n",
       "    </tr>\n",
       "    <tr>\n",
       "      <th>26245</th>\n",
       "      <td>Broadcom loses $16 bn in m-cap after CA Techno...</td>\n",
       "      <td>Chipmaker Broadcom lost nearly $16 billion in ...</td>\n",
       "    </tr>\n",
       "    <tr>\n",
       "      <th>32550</th>\n",
       "      <td>Sweden makes sex education films for migrants</td>\n",
       "      <td>Sweden has made a series of films on sex educa...</td>\n",
       "    </tr>\n",
       "    <tr>\n",
       "      <th>56859</th>\n",
       "      <td>IndoStar Capital to provide Vehicle &amp; Affordab...</td>\n",
       "      <td>IndoStar Capital Finance Ltd, one of India's m...</td>\n",
       "    </tr>\n",
       "    <tr>\n",
       "      <th>42150</th>\n",
       "      <td>AAP to contest Haryana Assembly polls in 2019</td>\n",
       "      <td>Addressing a rally in Haryana's Hisar on Sunda...</td>\n",
       "    </tr>\n",
       "    <tr>\n",
       "      <th>37626</th>\n",
       "      <td>Golf star hits moving ball towards hole, penal...</td>\n",
       "      <td>Five-time major championship-winning golfer US...</td>\n",
       "    </tr>\n",
       "  </tbody>\n",
       "</table>\n",
       "</div>"
      ],
      "text/plain": [
       "                                               headlines  \\\n",
       "33379  Library evacuated as rotting fruit sparks fear...   \n",
       "39911  Trump probably has power to pardon himself: US...   \n",
       "81337  China's 3rd richest man to sell firm's hotels ...   \n",
       "86856  US has turned into a tragic, dumbass comedy: R...   \n",
       "12256  Sonia's monthly pay at Paytm went from Ã¢ÂÂ¹1...   \n",
       "26245  Broadcom loses $16 bn in m-cap after CA Techno...   \n",
       "32550      Sweden makes sex education films for migrants   \n",
       "56859  IndoStar Capital to provide Vehicle & Affordab...   \n",
       "42150      AAP to contest Haryana Assembly polls in 2019   \n",
       "37626  Golf star hits moving ball towards hole, penal...   \n",
       "\n",
       "                                                    text  \n",
       "33379  Nearly 600 people were evacuated from a librar...  \n",
       "39911  US President Donald Trump's lawyer Rudy Giulia...  \n",
       "81337  Dalian Wanda, founded by China's third richest...  \n",
       "86856  During a commencement ceremony speech at Brown...  \n",
       "12256  Family of Sonia Dhawan who was arrested for al...  \n",
       "26245  Chipmaker Broadcom lost nearly $16 billion in ...  \n",
       "32550  Sweden has made a series of films on sex educa...  \n",
       "56859  IndoStar Capital Finance Ltd, one of India's m...  \n",
       "42150  Addressing a rally in Haryana's Hisar on Sunda...  \n",
       "37626  Five-time major championship-winning golfer US...  "
      ]
     },
     "execution_count": 36,
     "metadata": {},
     "output_type": "execute_result"
    }
   ],
   "source": [
    "data.sample(10)"
   ]
  },
  {
   "cell_type": "code",
   "execution_count": 37,
   "id": "cd3b02cc",
   "metadata": {},
   "outputs": [
    {
     "name": "stdout",
     "output_type": "stream",
     "text": [
      "<class 'pandas.core.frame.DataFrame'>\n",
      "RangeIndex: 98401 entries, 0 to 98400\n",
      "Data columns (total 2 columns):\n",
      " #   Column     Non-Null Count  Dtype \n",
      "---  ------     --------------  ----- \n",
      " 0   headlines  98401 non-null  object\n",
      " 1   text       98401 non-null  object\n",
      "dtypes: object(2)\n",
      "memory usage: 1.5+ MB\n"
     ]
    }
   ],
   "source": [
    "data.info()"
   ]
  },
  {
   "cell_type": "markdown",
   "id": "df9c1942",
   "metadata": {},
   "source": [
    "## Step 2. 데이터 전처리하기 (추상적 요약)\n",
    ">실습에서 사용된 전처리를 참고하여 각자 필요하다고 생각하는 전처리를 추가 사용하여 텍스트를 정규화 또는 정제해 보세요.<br>\n",
    "만약, 불용어 제거를 선택한다면 상대적으로 길이가 짧은 요약 데이터에 대해서도 불용어를 제거하는 것이 좋을지 고민해 보세요."
   ]
  },
  {
   "cell_type": "markdown",
   "id": "2a914824",
   "metadata": {},
   "source": [
    "### 중복 샘플과 NULL 값이 존재하는 샘플 제거"
   ]
  },
  {
   "cell_type": "code",
   "execution_count": 39,
   "id": "303982f2",
   "metadata": {},
   "outputs": [
    {
     "name": "stdout",
     "output_type": "stream",
     "text": [
      "text 열에서 중복을 배제한 유일한 샘플의 수 : 98360\n",
      "headlines 열에서 중복을 배제한 유일한 샘플의 수 : 98280\n"
     ]
    }
   ],
   "source": [
    "print('text 열에서 중복을 배제한 유일한 샘플의 수 :', data['text'].nunique())\n",
    "print('headlines 열에서 중복을 배제한 유일한 샘플의 수 :', data['headlines'].nunique())"
   ]
  },
  {
   "cell_type": "markdown",
   "id": "44384d30",
   "metadata": {},
   "source": [
    "* text가 달라도 headlines는  동일할 수 있음. 하지만 text  자체가 중복이 된 경우는 중복 샘플이므로 제거해야됨."
   ]
  },
  {
   "cell_type": "code",
   "execution_count": 40,
   "id": "d9831434",
   "metadata": {},
   "outputs": [
    {
     "name": "stdout",
     "output_type": "stream",
     "text": [
      "전체 샘플수 : 98360\n"
     ]
    }
   ],
   "source": [
    "# inplace=True 를 설정하면 DataFrame 타입 값을 return 하지 않고 data 내부를 직접적으로 바꿉니다\n",
    "data.drop_duplicates(subset = ['text'], inplace=True)\n",
    "print('전체 샘플수 :', (len(data)))"
   ]
  },
  {
   "cell_type": "code",
   "execution_count": 41,
   "id": "b9028892",
   "metadata": {},
   "outputs": [
    {
     "name": "stdout",
     "output_type": "stream",
     "text": [
      "text         0\n",
      "headlines    0\n",
      "dtype: int64\n"
     ]
    }
   ],
   "source": [
    "# Null 값이 있는지 확인\n",
    "print(data.isnull().sum())"
   ]
  },
  {
   "cell_type": "markdown",
   "id": "ca1d2e1d",
   "metadata": {},
   "source": [
    "### 텍스트 정규화와 불용어 제거"
   ]
  },
  {
   "cell_type": "markdown",
   "id": "8a31dcd8",
   "metadata": {},
   "source": [
    "단어들 중에서는 같은 의미인데도 다른 표현으로 쓰여 마치 다른 단어들처럼 간주되는 경우가 있음.<br>\n",
    "예를 들어서 it'll은 it will과 같고, mustn't과 must not은 사실 같은 표현, 이런 경우 기계가 굳이 이들을 마치 다른 단어로 간주하게 해서 연산량을 늘리는 것보다는 기계 학습 전에 미리 같은 표현으로 통일시켜주는 것이 기계의 연산량을 줄일 수 있음.\n",
    "\n",
    "이러한 방법론을 텍스트 처리에서는 **텍스트 정규화(text normalization)** 라고 함."
   ]
  },
  {
   "cell_type": "code",
   "execution_count": 42,
   "id": "a02a02dc",
   "metadata": {},
   "outputs": [
    {
     "name": "stdout",
     "output_type": "stream",
     "text": [
      "정규화 사전의 수:  120\n"
     ]
    }
   ],
   "source": [
    "# 정규화를 위한 사전(dictionary) 구성 \n",
    "contractions = {\"ain't\": \"is not\", \"aren't\": \"are not\",\"can't\": \"cannot\", \"'cause\": \"because\", \"could've\": \"could have\", \"couldn't\": \"could not\",\n",
    "                           \"didn't\": \"did not\",  \"doesn't\": \"does not\", \"don't\": \"do not\", \"hadn't\": \"had not\", \"hasn't\": \"has not\", \"haven't\": \"have not\",\n",
    "                           \"he'd\": \"he would\",\"he'll\": \"he will\", \"he's\": \"he is\", \"how'd\": \"how did\", \"how'd'y\": \"how do you\", \"how'll\": \"how will\", \"how's\": \"how is\",\n",
    "                           \"I'd\": \"I would\", \"I'd've\": \"I would have\", \"I'll\": \"I will\", \"I'll've\": \"I will have\",\"I'm\": \"I am\", \"I've\": \"I have\", \"i'd\": \"i would\",\n",
    "                           \"i'd've\": \"i would have\", \"i'll\": \"i will\",  \"i'll've\": \"i will have\",\"i'm\": \"i am\", \"i've\": \"i have\", \"isn't\": \"is not\", \"it'd\": \"it would\",\n",
    "                           \"it'd've\": \"it would have\", \"it'll\": \"it will\", \"it'll've\": \"it will have\",\"it's\": \"it is\", \"let's\": \"let us\", \"ma'am\": \"madam\",\n",
    "                           \"mayn't\": \"may not\", \"might've\": \"might have\",\"mightn't\": \"might not\",\"mightn't've\": \"might not have\", \"must've\": \"must have\",\n",
    "                           \"mustn't\": \"must not\", \"mustn't've\": \"must not have\", \"needn't\": \"need not\", \"needn't've\": \"need not have\",\"o'clock\": \"of the clock\",\n",
    "                           \"oughtn't\": \"ought not\", \"oughtn't've\": \"ought not have\", \"shan't\": \"shall not\", \"sha'n't\": \"shall not\", \"shan't've\": \"shall not have\",\n",
    "                           \"she'd\": \"she would\", \"she'd've\": \"she would have\", \"she'll\": \"she will\", \"she'll've\": \"she will have\", \"she's\": \"she is\",\n",
    "                           \"should've\": \"should have\", \"shouldn't\": \"should not\", \"shouldn't've\": \"should not have\", \"so've\": \"so have\",\"so's\": \"so as\",\n",
    "                           \"this's\": \"this is\",\"that'd\": \"that would\", \"that'd've\": \"that would have\", \"that's\": \"that is\", \"there'd\": \"there would\",\n",
    "                           \"there'd've\": \"there would have\", \"there's\": \"there is\", \"here's\": \"here is\",\"they'd\": \"they would\", \"they'd've\": \"they would have\",\n",
    "                           \"they'll\": \"they will\", \"they'll've\": \"they will have\", \"they're\": \"they are\", \"they've\": \"they have\", \"to've\": \"to have\",\n",
    "                           \"wasn't\": \"was not\", \"we'd\": \"we would\", \"we'd've\": \"we would have\", \"we'll\": \"we will\", \"we'll've\": \"we will have\", \"we're\": \"we are\",\n",
    "                           \"we've\": \"we have\", \"weren't\": \"were not\", \"what'll\": \"what will\", \"what'll've\": \"what will have\", \"what're\": \"what are\",\n",
    "                           \"what's\": \"what is\", \"what've\": \"what have\", \"when's\": \"when is\", \"when've\": \"when have\", \"where'd\": \"where did\", \"where's\": \"where is\",\n",
    "                           \"where've\": \"where have\", \"who'll\": \"who will\", \"who'll've\": \"who will have\", \"who's\": \"who is\", \"who've\": \"who have\",\n",
    "                           \"why's\": \"why is\", \"why've\": \"why have\", \"will've\": \"will have\", \"won't\": \"will not\", \"won't've\": \"will not have\",\n",
    "                           \"would've\": \"would have\", \"wouldn't\": \"would not\", \"wouldn't've\": \"would not have\", \"y'all\": \"you all\",\n",
    "                           \"y'all'd\": \"you all would\",\"y'all'd've\": \"you all would have\",\"y'all're\": \"you all are\",\"y'all've\": \"you all have\",\n",
    "                           \"you'd\": \"you would\", \"you'd've\": \"you would have\", \"you'll\": \"you will\", \"you'll've\": \"you will have\",\n",
    "                           \"you're\": \"you are\", \"you've\": \"you have\"}\n",
    "\n",
    "print(\"정규화 사전의 수: \", len(contractions))"
   ]
  },
  {
   "cell_type": "markdown",
   "id": "f86b399c",
   "metadata": {},
   "source": [
    "일반적으로 텍스트에는 자주 등장하지만 자연어 처리를 할 때 실질적으로 별 도움이 되지 않는 단어들이 존재 이를 **불용어(stopwords)**라고 부름.<br>\n",
    "때로는 불용어를 제거하는 것이 자연어 처리의 성능을 높이는 방법일 수 있어 NLTK에서 제공하는 불용어 리스트를 참조해, 샘플에서 불용어를 제거"
   ]
  },
  {
   "cell_type": "code",
   "execution_count": 43,
   "id": "4af238cf",
   "metadata": {},
   "outputs": [
    {
     "name": "stdout",
     "output_type": "stream",
     "text": [
      "불용어 개수 : 179\n",
      "['i', 'me', 'my', 'myself', 'we', 'our', 'ours', 'ourselves', 'you', \"you're\", \"you've\", \"you'll\", \"you'd\", 'your', 'yours', 'yourself', 'yourselves', 'he', 'him', 'his', 'himself', 'she', \"she's\", 'her', 'hers', 'herself', 'it', \"it's\", 'its', 'itself', 'they', 'them', 'their', 'theirs', 'themselves', 'what', 'which', 'who', 'whom', 'this', 'that', \"that'll\", 'these', 'those', 'am', 'is', 'are', 'was', 'were', 'be', 'been', 'being', 'have', 'has', 'had', 'having', 'do', 'does', 'did', 'doing', 'a', 'an', 'the', 'and', 'but', 'if', 'or', 'because', 'as', 'until', 'while', 'of', 'at', 'by', 'for', 'with', 'about', 'against', 'between', 'into', 'through', 'during', 'before', 'after', 'above', 'below', 'to', 'from', 'up', 'down', 'in', 'out', 'on', 'off', 'over', 'under', 'again', 'further', 'then', 'once', 'here', 'there', 'when', 'where', 'why', 'how', 'all', 'any', 'both', 'each', 'few', 'more', 'most', 'other', 'some', 'such', 'no', 'nor', 'not', 'only', 'own', 'same', 'so', 'than', 'too', 'very', 's', 't', 'can', 'will', 'just', 'don', \"don't\", 'should', \"should've\", 'now', 'd', 'll', 'm', 'o', 're', 've', 'y', 'ain', 'aren', \"aren't\", 'couldn', \"couldn't\", 'didn', \"didn't\", 'doesn', \"doesn't\", 'hadn', \"hadn't\", 'hasn', \"hasn't\", 'haven', \"haven't\", 'isn', \"isn't\", 'ma', 'mightn', \"mightn't\", 'mustn', \"mustn't\", 'needn', \"needn't\", 'shan', \"shan't\", 'shouldn', \"shouldn't\", 'wasn', \"wasn't\", 'weren', \"weren't\", 'won', \"won't\", 'wouldn', \"wouldn't\"]\n"
     ]
    }
   ],
   "source": [
    "print('불용어 개수 :', len(stopwords.words('english') ))\n",
    "print(stopwords.words('english'))"
   ]
  },
  {
   "cell_type": "markdown",
   "id": "f5ff447b",
   "metadata": {},
   "source": [
    "NLTK에서 미리 정의하여 제공하고 있는 불용어는 총 179개라는 것을 볼 수 있음.<br>\n",
    "이를 사용하여 **불용어를 제거** 외에도 모든 **영어 문자는 소문자로**, 섞여있는 **html 태그를 제거**, 정규 표현식을 통해 **각종 특수문자를 제거**로 정말 필요한 내용만 잘 학습할 수 있도록 처리"
   ]
  },
  {
   "cell_type": "code",
   "execution_count": 44,
   "id": "89adee18",
   "metadata": {},
   "outputs": [],
   "source": [
    "# 데이터 전처리 함수\n",
    "def preprocess_sentence(sentence, remove_stopwords=True):\n",
    "    sentence = sentence.lower() # 텍스트 소문자화\n",
    "    sentence = BeautifulSoup(sentence, \"lxml\").text # <br />, <a href = ...> 등의 html 태그 제거\n",
    "    sentence = re.sub(r'\\([^)]*\\)', '', sentence) # 괄호로 닫힌 문자열 (...) 제거 Ex) my husband (and myself!) for => my husband for\n",
    "    sentence = re.sub('\"','', sentence) # 쌍따옴표 \" 제거\n",
    "    sentence = ' '.join([contractions[t] if t in contractions else t for t in sentence.split(\" \")]) # 약어 정규화\n",
    "    sentence = re.sub(r\"'s\\b\",\"\", sentence) # 소유격 제거. Ex) roland's -> roland\n",
    "    sentence = re.sub(\"[^a-zA-Z]\", \" \", sentence) # 영어 외 문자(숫자, 특수문자 등) 공백으로 변환\n",
    "    sentence = re.sub('[m]{2,}', 'mm', sentence) # m이 3개 이상이면 2개로 변경. Ex) ummmmmmm yeah -> umm yeah\n",
    "    \n",
    "    # 불용어 제거 (text)\n",
    "    if remove_stopwords:\n",
    "        tokens = ' '.join(word for word in sentence.split() if not word in stopwords.words('english') if len(word) > 1)\n",
    "    # 불용어 미제거 (headlines)\n",
    "    else:\n",
    "        tokens = ' '.join(word for word in sentence.split() if len(word) > 1)\n",
    "    return tokens"
   ]
  },
  {
   "cell_type": "markdown",
   "id": "f115872d",
   "metadata": {},
   "source": [
    "함수의 하단 **NLTK를 이용해 불용어를 제거하는 파트가 있는데, 이는 Text 전처리 시에서만 호출**하고 이미 상대적으로 문장 길이가 짧은 headlines 전처리할 때는 호출하지 않을 예정.<br>\n",
    "Abstractive한 문장 요약 결과문이 자연스러운 문장이 되려면 **불용어들이 headlines에는 남아 있는 게 더 좋을 것 같음**. 이 처리를 위해서 함수의 인자로 remove_stopwords를 추가하고, if문을 추가."
   ]
  },
  {
   "cell_type": "code",
   "execution_count": 45,
   "id": "582ad417",
   "metadata": {},
   "outputs": [
    {
     "name": "stdout",
     "output_type": "stream",
     "text": [
      "text:  everything bought great infact ordered twice third ordered wasfor mother father\n"
     ]
    }
   ],
   "source": [
    "# 간단한 예제 생성하여 전처리 결과 확인\n",
    "temp_text = 'Everything I bought was great, infact I ordered twice and the third ordered was<br />for my mother and father.'\n",
    "\n",
    "print(\"text: \", preprocess_sentence(temp_text))"
   ]
  },
  {
   "cell_type": "code",
   "execution_count": 46,
   "id": "8a15d811",
   "metadata": {},
   "outputs": [
    {
     "name": "stdout",
     "output_type": "stream",
     "text": [
      "Text 전처리 후 결과:  ['saurav kant alumnus upgrad iiit pg program machine learning artificial intelligence sr systems engineer infosys almost years work experience program upgrad degree career support helped transition data scientist tech mahindra salary hike upgrad online power learning powered lakh careers', 'kunal shah credit card bill payment platform cred gave users chance win free food swiggy one year pranav kaushik delhi techie bagged reward spending cred coins users get one cred coin per rupee bill paid used avail rewards brands like ixigo bookmyshow ubereats cult fit', 'new zealand defeated india wickets fourth odi hamilton thursday win first match five match odi series india lost international match rohit sharma captaincy consecutive victories dating back march match witnessed india getting seventh lowest total odi cricket history', 'aegon life iterm insurance plan customers enjoy tax benefits premiums paid save taxes plan provides life cover age years also customers options insure critical illnesses disability accidental death benefit rider life cover age years', 'speaking sexual harassment allegations rajkumar hirani sonam kapoor said known hirani many years true metoo movement get derailed metoo movement always believe woman case need reserve judgment added hirani accused assistant worked sanju']\n"
     ]
    }
   ],
   "source": [
    "# 먼저 전체 Text를 전처리\n",
    "clean_text = []\n",
    "\n",
    "for s in data['text']:\n",
    "    clean_text.append(preprocess_sentence(s))\n",
    "\n",
    "# 전처리 후 출력\n",
    "print(\"Text 전처리 후 결과: \", clean_text[:5])"
   ]
  },
  {
   "cell_type": "code",
   "execution_count": 48,
   "id": "94b69cad",
   "metadata": {},
   "outputs": [
    {
     "name": "stdout",
     "output_type": "stream",
     "text": [
      "headlines 전처리 후 결과:  ['upgrad learner switches to career in ml al with salary hike', 'delhi techie wins free food from swiggy for one year on cred', 'new zealand end rohit sharma led india match winning streak', 'aegon life iterm insurance plan helps customers save tax', 'have known hirani for yrs what if metoo claims are not true sonam']\n"
     ]
    }
   ],
   "source": [
    "# 전체 headlines 데이터에 대한 전처리 - 불용어 제거를 수행하지 않는다는 의미에서 두 번째 인자로 False 넣어줌\n",
    "clean_headlines = []\n",
    "\n",
    "for s in data['headlines']:\n",
    "    clean_headlines.append(preprocess_sentence(s, False))\n",
    "\n",
    "print(\"headlines 전처리 후 결과: \", clean_headlines[:5])"
   ]
  },
  {
   "cell_type": "markdown",
   "id": "46a0f764",
   "metadata": {},
   "source": [
    "**텍스트 정제의 과정을 거친 후에는 다시 한번 빈(empty) 샘플이 생겼는지 확인해보는 것이 좋음.**<br>\n",
    "정제 전에는 데이터가 존재했지만, 정제 과정에서 문장의 모든 단어가 사라지는 경우가 있을 수 있음.<br>\n",
    "쉽게 확인하기 위해 데이터들을 데이터프레임에 재저장하고 빈(empty) 값을 가진 샘플들이 있다면, 모두 Null 값을 가진 샘플로 대체"
   ]
  },
  {
   "cell_type": "code",
   "execution_count": 50,
   "id": "9d1d7557",
   "metadata": {},
   "outputs": [],
   "source": [
    "# 전처리 데이터 데이터프레임에 재저장\n",
    "data['text'] = clean_text\n",
    "data['headlines'] = clean_headlines\n",
    "\n",
    "# 빈 값을 Null 값으로 변환\n",
    "data.replace('', np.nan, inplace=True)"
   ]
  },
  {
   "cell_type": "code",
   "execution_count": 54,
   "id": "a99d3eac",
   "metadata": {},
   "outputs": [
    {
     "name": "stdout",
     "output_type": "stream",
     "text": [
      "text         0\n",
      "headlines    0\n",
      "dtype: int64\n",
      "전체 샘플수 : 98360\n"
     ]
    }
   ],
   "source": [
    "# .isnull().sum()을 사용해서 Null 값이 생겼는지 확인\n",
    "print(data.isnull().sum())\n",
    "print('전체 샘플수 :', (len(data)))"
   ]
  },
  {
   "cell_type": "markdown",
   "id": "5d0d6930",
   "metadata": {},
   "source": [
    "### 훈련데이터와 테스트데이트 나누기"
   ]
  },
  {
   "cell_type": "markdown",
   "id": "c7c117c7",
   "metadata": {},
   "source": [
    "#### 샘플의 최대 길이 정하기"
   ]
  },
  {
   "cell_type": "code",
   "execution_count": 56,
   "id": "d0512fe3",
   "metadata": {},
   "outputs": [
    {
     "name": "stdout",
     "output_type": "stream",
     "text": [
      "텍스트의 최소 길이 : 1\n",
      "텍스트의 최대 길이 : 60\n",
      "텍스트의 평균 길이 : 35.09968483123221\n",
      "요약의 최소 길이 : 1\n",
      "요약의 최대 길이 : 16\n",
      "요약의 평균 길이 : 9.299532330215534\n"
     ]
    },
    {
     "data": {
      "image/png": "[encoded data removed]",
      "text/plain": [
       "<Figure size 432x288 with 2 Axes>"
      ]
     },
     "metadata": {
      "needs_background": "light"
     },
     "output_type": "display_data"
    },
    {
     "data": {
      "image/png": "[encoded data removed]",
      "text/plain": [
       "<Figure size 432x288 with 1 Axes>"
      ]
     },
     "metadata": {
      "needs_background": "light"
     },
     "output_type": "display_data"
    },
    {
     "data": {
      "image/png": "[encoded data removed]",
      "text/plain": [
       "<Figure size 432x288 with 1 Axes>"
      ]
     },
     "metadata": {
      "needs_background": "light"
     },
     "output_type": "display_data"
    }
   ],
   "source": [
    "# 길이 분포 출력\n",
    "import matplotlib.pyplot as plt\n",
    "\n",
    "text_len = [len(s.split()) for s in data['text']]\n",
    "headlines_len = [len(s.split()) for s in data['headlines']]\n",
    "\n",
    "print('텍스트의 최소 길이 : {}'.format(np.min(text_len)))\n",
    "print('텍스트의 최대 길이 : {}'.format(np.max(text_len)))\n",
    "print('텍스트의 평균 길이 : {}'.format(np.mean(text_len)))\n",
    "print('요약의 최소 길이 : {}'.format(np.min(headlines_len)))\n",
    "print('요약의 최대 길이 : {}'.format(np.max(headlines_len)))\n",
    "print('요약의 평균 길이 : {}'.format(np.mean(headlines_len)))\n",
    "\n",
    "plt.subplot(1,2,1)\n",
    "plt.boxplot(text_len)\n",
    "plt.title('Text')\n",
    "plt.subplot(1,2,2)\n",
    "plt.boxplot(headlines_len)\n",
    "plt.title('Headlines')\n",
    "plt.tight_layout()\n",
    "plt.show()\n",
    "\n",
    "plt.title('Text')\n",
    "plt.hist(text_len, bins = 40)\n",
    "plt.xlabel('length of samples')\n",
    "plt.ylabel('number of samples')\n",
    "plt.show()\n",
    "\n",
    "plt.title('Headlines')\n",
    "plt.hist(headlines_len, bins = 40)\n",
    "plt.xlabel('length of samples')\n",
    "plt.ylabel('number of samples')\n",
    "plt.show()"
   ]
  },
  {
   "cell_type": "markdown",
   "id": "5683b867",
   "metadata": {},
   "source": [
    "* 텍스트의 최소 길이가 1  최대 길이가 60  평균 길이는 35로 그래프로 봤을 때 대체적으로는 45 이하의 길이를 가지는 것으로 보임.\n",
    "* 헤드라인의 최소 길이가 1  최대 길이 16  평균 길이는 9로 그래프 상 대체적으로 12 이하의 길이를 가지는 것으로 보임"
   ]
  },
  {
   "cell_type": "code",
   "execution_count": 57,
   "id": "0faffd19",
   "metadata": {},
   "outputs": [],
   "source": [
    "# Text의 최대 길이와 Summary의 적절한 최대 길이를 임의로 정함.\n",
    "text_max_len = 45\n",
    "headlines_max_len = 12"
   ]
  },
  {
   "cell_type": "code",
   "execution_count": 58,
   "id": "7235f557",
   "metadata": {},
   "outputs": [],
   "source": [
    "# 임의의 길이를 선택했을때 얼마나 많은 샘플들을 자르지 않고 포함할 수 있는지 확인하는 통계함수 만들기\n",
    "def below_threshold_len(max_len, nested_list):\n",
    "  cnt = 0\n",
    "  for s in nested_list:\n",
    "    if(len(s.split()) <= max_len):\n",
    "        cnt = cnt + 1\n",
    "  print('전체 샘플 중 길이가 %s 이하인 샘플의 비율: %s'%(max_len, (cnt / len(nested_list))))"
   ]
  },
  {
   "cell_type": "code",
   "execution_count": 59,
   "id": "fc8e61bb",
   "metadata": {},
   "outputs": [
    {
     "name": "stdout",
     "output_type": "stream",
     "text": [
      "전체 샘플 중 길이가 45 이하인 샘플의 비율: 0.9967771451809678\n",
      "전체 샘플 중 길이가 12 이하인 샘플의 비율: 0.9880337535583571\n"
     ]
    }
   ],
   "source": [
    "# 통계함수 적용\n",
    "below_threshold_len(text_max_len, data['text'])\n",
    "below_threshold_len(headlines_max_len,  data['headlines'])"
   ]
  },
  {
   "cell_type": "code",
   "execution_count": 60,
   "id": "14c50902",
   "metadata": {},
   "outputs": [
    {
     "name": "stdout",
     "output_type": "stream",
     "text": [
      "전체 샘플수 : 96871\n"
     ]
    }
   ],
   "source": [
    "# 정해진 길이보다 길면 데어터 제외되도록\n",
    "data = data[data['text'].apply(lambda x: len(x.split()) <= text_max_len)]\n",
    "data = data[data['headlines'].apply(lambda x: len(x.split()) <= headlines_max_len)]\n",
    "print('전체 샘플수 :', (len(data)))"
   ]
  },
  {
   "cell_type": "markdown",
   "id": "ce3917b5",
   "metadata": {},
   "source": [
    "#### 시작 토큰과 종료 토큰 추가하기"
   ]
  },
  {
   "cell_type": "code",
   "execution_count": 61,
   "id": "0183f4e0",
   "metadata": {},
   "outputs": [
    {
     "data": {
      "text/html": [
       "<div>\n",
       "<style scoped>\n",
       "    .dataframe tbody tr th:only-of-type {\n",
       "        vertical-align: middle;\n",
       "    }\n",
       "\n",
       "    .dataframe tbody tr th {\n",
       "        vertical-align: top;\n",
       "    }\n",
       "\n",
       "    .dataframe thead th {\n",
       "        text-align: right;\n",
       "    }\n",
       "</style>\n",
       "<table border=\"1\" class=\"dataframe\">\n",
       "  <thead>\n",
       "    <tr style=\"text-align: right;\">\n",
       "      <th></th>\n",
       "      <th>text</th>\n",
       "      <th>headlines</th>\n",
       "      <th>decoder_input</th>\n",
       "      <th>decoder_target</th>\n",
       "    </tr>\n",
       "  </thead>\n",
       "  <tbody>\n",
       "    <tr>\n",
       "      <th>0</th>\n",
       "      <td>saurav kant alumnus upgrad iiit pg program mac...</td>\n",
       "      <td>upgrad learner switches to career in ml al wit...</td>\n",
       "      <td>sostoken upgrad learner switches to career in ...</td>\n",
       "      <td>upgrad learner switches to career in ml al wit...</td>\n",
       "    </tr>\n",
       "    <tr>\n",
       "      <th>1</th>\n",
       "      <td>kunal shah credit card bill payment platform c...</td>\n",
       "      <td>delhi techie wins free food from swiggy for on...</td>\n",
       "      <td>sostoken delhi techie wins free food from swig...</td>\n",
       "      <td>delhi techie wins free food from swiggy for on...</td>\n",
       "    </tr>\n",
       "    <tr>\n",
       "      <th>2</th>\n",
       "      <td>new zealand defeated india wickets fourth odi ...</td>\n",
       "      <td>new zealand end rohit sharma led india match w...</td>\n",
       "      <td>sostoken new zealand end rohit sharma led indi...</td>\n",
       "      <td>new zealand end rohit sharma led india match w...</td>\n",
       "    </tr>\n",
       "    <tr>\n",
       "      <th>3</th>\n",
       "      <td>aegon life iterm insurance plan customers enjo...</td>\n",
       "      <td>aegon life iterm insurance plan helps customer...</td>\n",
       "      <td>sostoken aegon life iterm insurance plan helps...</td>\n",
       "      <td>aegon life iterm insurance plan helps customer...</td>\n",
       "    </tr>\n",
       "    <tr>\n",
       "      <th>5</th>\n",
       "      <td>pakistani singer rahat fateh ali khan denied r...</td>\n",
       "      <td>rahat fateh ali khan denies getting notice for...</td>\n",
       "      <td>sostoken rahat fateh ali khan denies getting n...</td>\n",
       "      <td>rahat fateh ali khan denies getting notice for...</td>\n",
       "    </tr>\n",
       "  </tbody>\n",
       "</table>\n",
       "</div>"
      ],
      "text/plain": [
       "                                                text  \\\n",
       "0  saurav kant alumnus upgrad iiit pg program mac...   \n",
       "1  kunal shah credit card bill payment platform c...   \n",
       "2  new zealand defeated india wickets fourth odi ...   \n",
       "3  aegon life iterm insurance plan customers enjo...   \n",
       "5  pakistani singer rahat fateh ali khan denied r...   \n",
       "\n",
       "                                           headlines  \\\n",
       "0  upgrad learner switches to career in ml al wit...   \n",
       "1  delhi techie wins free food from swiggy for on...   \n",
       "2  new zealand end rohit sharma led india match w...   \n",
       "3  aegon life iterm insurance plan helps customer...   \n",
       "5  rahat fateh ali khan denies getting notice for...   \n",
       "\n",
       "                                       decoder_input  \\\n",
       "0  sostoken upgrad learner switches to career in ...   \n",
       "1  sostoken delhi techie wins free food from swig...   \n",
       "2  sostoken new zealand end rohit sharma led indi...   \n",
       "3  sostoken aegon life iterm insurance plan helps...   \n",
       "5  sostoken rahat fateh ali khan denies getting n...   \n",
       "\n",
       "                                      decoder_target  \n",
       "0  upgrad learner switches to career in ml al wit...  \n",
       "1  delhi techie wins free food from swiggy for on...  \n",
       "2  new zealand end rohit sharma led india match w...  \n",
       "3  aegon life iterm insurance plan helps customer...  \n",
       "5  rahat fateh ali khan denies getting notice for...  "
      ]
     },
     "execution_count": 61,
     "metadata": {},
     "output_type": "execute_result"
    }
   ],
   "source": [
    "# 요약 데이터(headlines)에는 시작 토큰과 종료 토큰을 추가한다.\n",
    "data['decoder_input'] = data['headlines'].apply(lambda x : 'sostoken '+ x)\n",
    "data['decoder_target'] = data['headlines'].apply(lambda x : x + ' eostoken')\n",
    "data.head()"
   ]
  },
  {
   "cell_type": "code",
   "execution_count": 62,
   "id": "4315b47b",
   "metadata": {},
   "outputs": [],
   "source": [
    "# 인코더의 입력, 디코더의 입력과 레이블을 각각 다시 Numpy 타입으로 저장\n",
    "encoder_input = np.array(data['text']) # 인코더의 입력\n",
    "decoder_input = np.array(data['decoder_input']) # 디코더의 입력\n",
    "decoder_target = np.array(data['decoder_target']) # 디코더의 레이블"
   ]
  },
  {
   "cell_type": "markdown",
   "id": "cb46ede2",
   "metadata": {},
   "source": [
    "#### 훈련 데이터와 테스트 데이터 분리"
   ]
  },
  {
   "cell_type": "code",
   "execution_count": 63,
   "id": "1c32c364",
   "metadata": {},
   "outputs": [
    {
     "name": "stdout",
     "output_type": "stream",
     "text": [
      "[44803 63562 40403 ... 46404 21038 77718]\n"
     ]
    }
   ],
   "source": [
    "#  encoder_input과 크기와 형태가 같은 순서가 섞인 정수 시퀀스 생성\n",
    "indices = np.arange(encoder_input.shape[0])\n",
    "np.random.shuffle(indices)\n",
    "print(indices)"
   ]
  },
  {
   "cell_type": "code",
   "execution_count": 64,
   "id": "40a8e71b",
   "metadata": {},
   "outputs": [],
   "source": [
    "# 정수 시퀀스를 이용해 다시 데이터의 샘플 순서를 정의 -  잘 섞인 샘플이 됨.\n",
    "encoder_input = encoder_input[indices]\n",
    "decoder_input = decoder_input[indices]\n",
    "decoder_target = decoder_target[indices]"
   ]
  },
  {
   "cell_type": "code",
   "execution_count": 65,
   "id": "ad1d2b36",
   "metadata": {},
   "outputs": [
    {
     "name": "stdout",
     "output_type": "stream",
     "text": [
      "테스트 데이터의 수 : 19374\n"
     ]
    }
   ],
   "source": [
    "# 데이터를 8:2의 비율로 훈련 데이터와 테스트 데이터로 분리 예정\n",
    "\n",
    "# 전체 데이터의 크기에서 0.2를 곱해서 테스트 데이터의 크기를 정의\n",
    "n_of_val = int(len(encoder_input)*0.2)\n",
    "print('테스트 데이터의 수 :', n_of_val)"
   ]
  },
  {
   "cell_type": "code",
   "execution_count": 66,
   "id": "9e365163",
   "metadata": {},
   "outputs": [
    {
     "name": "stdout",
     "output_type": "stream",
     "text": [
      "훈련 데이터의 개수 : 77497\n",
      "훈련 레이블의 개수 : 77497\n",
      "테스트 데이터의 개수 : 19374\n",
      "테스트 레이블의 개수 : 19374\n"
     ]
    }
   ],
   "source": [
    "# 정의한 테스트 데이터의 개수를 이용해 전체 데이터를 양분\n",
    "encoder_input_train = encoder_input[:-n_of_val]\n",
    "decoder_input_train = decoder_input[:-n_of_val]\n",
    "decoder_target_train = decoder_target[:-n_of_val]\n",
    "\n",
    "encoder_input_test = encoder_input[-n_of_val:]\n",
    "decoder_input_test = decoder_input[-n_of_val:]\n",
    "decoder_target_test = decoder_target[-n_of_val:]\n",
    "\n",
    "print('훈련 데이터의 개수 :', len(encoder_input_train))\n",
    "print('훈련 레이블의 개수 :', len(decoder_input_train))\n",
    "print('테스트 데이터의 개수 :', len(encoder_input_test))\n",
    "print('테스트 레이블의 개수 :', len(decoder_input_test))"
   ]
  },
  {
   "cell_type": "markdown",
   "id": "b51311d9",
   "metadata": {},
   "source": [
    "### 단어 집합(vocabulary) 만들기 및 정수 인코딩"
   ]
  },
  {
   "cell_type": "markdown",
   "id": "311d4a73",
   "metadata": {},
   "source": [
    "* 기계가 텍스트를 숫자로 처리할 수 있도록 훈련 데이터와 테스트 데이터의 단어들을 모두 정수로 바꾸어 주어야 함.\n",
    "* 이를 위해서는 각 단어에 고유한 정수를 맵핑하는 작업이 필요. 이 과정을 단어 집합(vocabulary) 을 만든다고 표현."
   ]
  },
  {
   "cell_type": "code",
   "execution_count": 67,
   "id": "6f4f3825",
   "metadata": {},
   "outputs": [],
   "source": [
    "# Keras의 토크나이저를 사용 단어 집합 만들기\n",
    "src_tokenizer = Tokenizer() # 토크나이저 정의\n",
    "src_tokenizer.fit_on_texts(encoder_input_train) # 입력된 데이터로부터 단어 집합 생성"
   ]
  },
  {
   "cell_type": "markdown",
   "id": "8772e6d8",
   "metadata": {},
   "source": [
    "* 단어 집합이 생성되는 동시에 각 단어에 고유한 정수가 부여 됨.\n",
    "* 현재 생성된 단어 집합은 src_tokenizer.word_index에 저장. - 빈도수가 낮은 단어들은 훈련 데이터에서 제외하고 진행 하려함.\n",
    "* src_tokenizer.word_counts.items()에는 단어와 각 단어의 등장 빈도수가 저장 되어 있음."
   ]
  },
  {
   "cell_type": "code",
   "execution_count": 68,
   "id": "b53afeb5",
   "metadata": {},
   "outputs": [
    {
     "name": "stdout",
     "output_type": "stream",
     "text": [
      "단어 집합(vocabulary)의 크기 : 68990\n",
      "등장 빈도가 6번 이하인 희귀 단어의 수: 47055\n",
      "단어 집합에서 희귀 단어를 제외시킬 경우의 단어 집합의 크기 21935\n",
      "단어 집합에서 희귀 단어의 비율: 68.2055370343528\n",
      "전체 등장 빈도에서 희귀 단어 등장 빈도 비율: 3.531037375852337\n"
     ]
    }
   ],
   "source": [
    "threshold = 7\n",
    "total_cnt = len(src_tokenizer.word_index) # 단어의 수\n",
    "rare_cnt = 0 # 등장 빈도수가 threshold보다 작은 단어의 개수를 카운트\n",
    "total_freq = 0 # 훈련 데이터의 전체 단어 빈도수 총 합\n",
    "rare_freq = 0 # 등장 빈도수가 threshold보다 작은 단어의 등장 빈도수의 총 합\n",
    "\n",
    "# 단어와 빈도수의 쌍(pair)을 key와 value로 받는다.\n",
    "for key, value in src_tokenizer.word_counts.items():\n",
    "    total_freq = total_freq + value\n",
    "\n",
    "    # 단어의 등장 빈도수가 threshold보다 작으면\n",
    "    if(value < threshold):\n",
    "        rare_cnt = rare_cnt + 1\n",
    "        rare_freq = rare_freq + value\n",
    "\n",
    "print('단어 집합(vocabulary)의 크기 :', total_cnt)\n",
    "print('등장 빈도가 %s번 이하인 희귀 단어의 수: %s'%(threshold - 1, rare_cnt))\n",
    "print('단어 집합에서 희귀 단어를 제외시킬 경우의 단어 집합의 크기 %s'%(total_cnt - rare_cnt))\n",
    "print(\"단어 집합에서 희귀 단어의 비율:\", (rare_cnt / total_cnt)*100)\n",
    "print(\"전체 등장 빈도에서 희귀 단어 등장 빈도 비율:\", (rare_freq / total_freq)*100)"
   ]
  },
  {
   "cell_type": "markdown",
   "id": "00d80467",
   "metadata": {},
   "source": [
    "등장 빈도가 threshold 값인 7회 미만, 즉 6회 이하인 단어들은 단어 집합에서 68% 이상을 차지.<br>\n",
    "하지만 실제로 훈련 데이터에서 등장 빈도로 차지하는 비중은 상대적으로 적은 수치인 3.53%<br>\n",
    "그래서 등장 빈도가 6회 이하인 단어들은 정수 인코딩 과정에서 빼고, 훈련 데이터에서 제거하고자 함."
   ]
  },
  {
   "cell_type": "code",
   "execution_count": 69,
   "id": "89664f5c",
   "metadata": {},
   "outputs": [],
   "source": [
    "src_vocab = 8000\n",
    "src_tokenizer = Tokenizer(num_words=src_vocab) # 단어 집합의 크기를 8,000으로 제한\n",
    "src_tokenizer.fit_on_texts(encoder_input_train) # 단어 집합 재생성"
   ]
  },
  {
   "cell_type": "code",
   "execution_count": 70,
   "id": "b79e6dfa",
   "metadata": {},
   "outputs": [
    {
     "name": "stdout",
     "output_type": "stream",
     "text": [
      "[[131, 1, 888, 1479, 1770, 7400, 6, 2729, 6127, 2325, 5894, 427, 619, 5777, 348, 109, 131, 2769, 2716, 1212, 97, 453, 362, 619, 771, 3159, 1770, 2334, 2799], [624, 172, 1753, 605, 2575, 246, 6816, 172, 455, 2654, 1753, 146, 1, 17, 1297, 2915, 6421, 601, 1916, 1753], [164, 2106, 75, 429, 429, 2473, 2561, 40, 1975, 1180, 2047, 734, 542, 206, 200, 421, 10, 1328, 1180, 2047, 484, 569, 484, 1851, 44, 444, 1]]\n"
     ]
    }
   ],
   "source": [
    "# 텍스트 시퀀스를 정수 시퀀스로 변환\n",
    "encoder_input_train = src_tokenizer.texts_to_sequences(encoder_input_train) \n",
    "encoder_input_test = src_tokenizer.texts_to_sequences(encoder_input_test)\n",
    "\n",
    "# 잘 진행되었는지 샘플 출력\n",
    "print(encoder_input_train[:3])"
   ]
  },
  {
   "cell_type": "markdown",
   "id": "6f44e281",
   "metadata": {},
   "source": [
    "* 현재 단어 집합의 크기를 8,000으로 제한, 8,000이 넘는 숫자들은 정수 인코딩 후에는 데이터에 존재하지 않음"
   ]
  },
  {
   "cell_type": "code",
   "execution_count": 71,
   "id": "1a864469",
   "metadata": {},
   "outputs": [],
   "source": [
    "# 요약 데이터(headlines)에 대해서도 동일한 작업 수행 \n",
    "tar_tokenizer = Tokenizer()\n",
    "tar_tokenizer.fit_on_texts(decoder_input_train) # 각 단어에 고유한 정수가 부여"
   ]
  },
  {
   "cell_type": "code",
   "execution_count": 72,
   "id": "602f802b",
   "metadata": {},
   "outputs": [
    {
     "name": "stdout",
     "output_type": "stream",
     "text": [
      "단어 집합(vocabulary)의 크기 : 29962\n",
      "등장 빈도가 5번 이하인 희귀 단어의 수: 19627\n",
      "단어 집합에서 희귀 단어를 제외시킬 경우의 단어 집합의 크기 10335\n",
      "단어 집합에서 희귀 단어의 비율: 65.50630799012082\n",
      "전체 등장 빈도에서 희귀 단어 등장 빈도 비율: 4.733497698758198\n"
     ]
    }
   ],
   "source": [
    "threshold = 6\n",
    "total_cnt = len(tar_tokenizer.word_index) # 단어의 수\n",
    "rare_cnt = 0 # 등장 빈도수가 threshold보다 작은 단어의 개수를 카운트\n",
    "total_freq = 0 # 훈련 데이터의 전체 단어 빈도수 총 합\n",
    "rare_freq = 0 # 등장 빈도수가 threshold보다 작은 단어의 등장 빈도수의 총 합\n",
    "\n",
    "# 단어와 빈도수의 쌍(pair)을 key와 value로 받는다.\n",
    "for key, value in tar_tokenizer.word_counts.items():\n",
    "    total_freq = total_freq + value\n",
    "\n",
    "    # 단어의 등장 빈도수가 threshold보다 작으면\n",
    "    if(value < threshold):\n",
    "        rare_cnt = rare_cnt + 1\n",
    "        rare_freq = rare_freq + value\n",
    "\n",
    "print('단어 집합(vocabulary)의 크기 :', total_cnt)\n",
    "print('등장 빈도가 %s번 이하인 희귀 단어의 수: %s'%(threshold - 1, rare_cnt))\n",
    "print('단어 집합에서 희귀 단어를 제외시킬 경우의 단어 집합의 크기 %s'%(total_cnt - rare_cnt))\n",
    "print(\"단어 집합에서 희귀 단어의 비율:\", (rare_cnt / total_cnt)*100)\n",
    "print(\"전체 등장 빈도에서 희귀 단어 등장 빈도 비율:\", (rare_freq / total_freq)*100)"
   ]
  },
  {
   "cell_type": "code",
   "execution_count": 73,
   "id": "d28ad67c",
   "metadata": {},
   "outputs": [
    {
     "name": "stdout",
     "output_type": "stream",
     "text": [
      "input\n",
      "input  [[1, 158, 1529, 6], [1, 6, 98, 641, 1257, 6, 915], [1, 1233, 968, 1578, 615, 854, 190, 5, 193], [1, 268, 1066, 146, 220, 1935, 9, 1935], [1, 340, 237, 100]]\n",
      "target\n",
      "decoder  [[158, 1529, 6, 2], [6, 98, 641, 1257, 6, 915, 2], [1233, 968, 1578, 615, 854, 190, 5, 193, 2], [268, 1066, 146, 220, 1935, 9, 1935, 2], [340, 237, 100, 2]]\n"
     ]
    }
   ],
   "source": [
    "tar_vocab = 2000\n",
    "tar_tokenizer = Tokenizer(num_words=tar_vocab) \n",
    "tar_tokenizer.fit_on_texts(decoder_input_train)\n",
    "tar_tokenizer.fit_on_texts(decoder_target_train)\n",
    "\n",
    "# 텍스트 시퀀스를 정수 시퀀스로 변환\n",
    "decoder_input_train = tar_tokenizer.texts_to_sequences(decoder_input_train) \n",
    "decoder_target_train = tar_tokenizer.texts_to_sequences(decoder_target_train)\n",
    "decoder_input_test = tar_tokenizer.texts_to_sequences(decoder_input_test)\n",
    "decoder_target_test = tar_tokenizer.texts_to_sequences(decoder_target_test)\n",
    "\n",
    "# 잘 변환되었는지 확인\n",
    "print('input')\n",
    "print('input ',decoder_input_train[:5])\n",
    "print('target')\n",
    "print('decoder ',decoder_target_train[:5])"
   ]
  },
  {
   "cell_type": "markdown",
   "id": "314d7594",
   "metadata": {},
   "source": [
    "* 전체 데이터에서 빈도수가 낮은 단어가 삭제되었다는 것은 빈도수가 낮은 단어만으로 구성되었던 샘플들은 이제 빈(empty) 샘플이 되었을 가능성이 있음. 이 현상은 길이가 상대적으로 길었던 원문(Text)의 경우에는 문제가 별로 없겠지만, 애초에 평균 길이가 9밖에 되지 않았던 요약문(Summary)의 경우에는 이 현상이 굉장히 두드러졌을 가능성이 높음.<br>\n",
    "* 요약문에서 길이가 0이 된 샘플들의 인덱스를 확인 - 주의할 점은 요약문인 decoder_input에는 sostoken 또는 decoder_target에는 eostoken이 추가된 상태이고, 이 두 토큰은 모든 샘플에서 등장하므로 빈도수가 샘플 수와 동일하게 매우 높으므로 단어 집합 제한에도 삭제되지 않는다는것. 그래서 이제 길이가 0이 된 요약문의 실제 길이는 1로 나옴 (길이 0이 된 decoder_input에는 sostoken, decoder_target에는 eostoken만 남아있음)"
   ]
  },
  {
   "cell_type": "code",
   "execution_count": 74,
   "id": "49e0315d",
   "metadata": {},
   "outputs": [
    {
     "name": "stdout",
     "output_type": "stream",
     "text": [
      "삭제할 훈련 데이터의 개수 : 13\n",
      "삭제할 테스트 데이터의 개수 : 0\n",
      "훈련 데이터의 개수 : 77484\n",
      "훈련 레이블의 개수 : 77484\n",
      "테스트 데이터의 개수 : 19374\n",
      "테스트 레이블의 개수 : 19374\n"
     ]
    }
   ],
   "source": [
    "#  훈련 데이터와 테스트 데이터에 대해서 요약문의 길이가 1인 경우의 인덱스를 각각 drop_train과 drop_test에 라는 변수에 저장 후 삭제\n",
    "\n",
    "drop_train = [index for index, sentence in enumerate(decoder_input_train) if len(sentence) == 1]\n",
    "drop_test = [index for index, sentence in enumerate(decoder_input_test) if len(sentence) == 1]\n",
    "\n",
    "print('삭제할 훈련 데이터의 개수 :', len(drop_train))\n",
    "print('삭제할 테스트 데이터의 개수 :', len(drop_test))\n",
    "\n",
    "encoder_input_train = [sentence for index, sentence in enumerate(encoder_input_train) if index not in drop_train]\n",
    "decoder_input_train = [sentence for index, sentence in enumerate(decoder_input_train) if index not in drop_train]\n",
    "decoder_target_train = [sentence for index, sentence in enumerate(decoder_target_train) if index not in drop_train]\n",
    "\n",
    "encoder_input_test = [sentence for index, sentence in enumerate(encoder_input_test) if index not in drop_test]\n",
    "decoder_input_test = [sentence for index, sentence in enumerate(decoder_input_test) if index not in drop_test]\n",
    "decoder_target_test = [sentence for index, sentence in enumerate(decoder_target_test) if index not in drop_test]\n",
    "\n",
    "print('훈련 데이터의 개수 :', len(encoder_input_train))\n",
    "print('훈련 레이블의 개수 :', len(decoder_input_train))\n",
    "print('테스트 데이터의 개수 :', len(encoder_input_test))\n",
    "print('테스트 레이블의 개수 :', len(decoder_input_test))"
   ]
  },
  {
   "cell_type": "markdown",
   "id": "5d08dd11",
   "metadata": {},
   "source": [
    "### 패딩하기\n",
    "* 서로 다른 길이의 샘플들을 병렬 처리하기 위해 같은 길이로 맞춰 줌"
   ]
  },
  {
   "cell_type": "code",
   "execution_count": 75,
   "id": "69a8c94d",
   "metadata": {},
   "outputs": [],
   "source": [
    "# 정해두었던 최대 길이로 패딩 - 최대 길이보다 짧은 데이터들은 뒤의 공간에 숫자 0을 넣어 최대 길이로 길이를 맞춤.\n",
    "encoder_input_train = pad_sequences(encoder_input_train, maxlen=text_max_len, padding='post')\n",
    "encoder_input_test = pad_sequences(encoder_input_test, maxlen=text_max_len, padding='post')\n",
    "decoder_input_train = pad_sequences(decoder_input_train, maxlen=headlines_max_len, padding='post')\n",
    "decoder_target_train = pad_sequences(decoder_target_train, maxlen=headlines_max_len, padding='post')\n",
    "decoder_input_test = pad_sequences(decoder_input_test, maxlen=headlines_max_len, padding='post')\n",
    "decoder_target_test = pad_sequences(decoder_target_test, maxlen=headlines_max_len, padding='post')"
   ]
  },
  {
   "cell_type": "markdown",
   "id": "dbad36b6",
   "metadata": {},
   "source": [
    "## Step 3. 어텐션 메커니즘 사용하기 (추상적 요약)\n",
    ">일반적인 seq2seq보다는 어텐션 메커니즘을 사용한 seq2seq를 사용하는 것이 더 나은 성능을 얻을 수 있어요.<br>\n",
    "실습 내용을 참고하여 어텐션 메커니즘을 사용한 seq2seq를 설계해 보세요."
   ]
  },
  {
   "cell_type": "code",
   "execution_count": 80,
   "id": "df8d31bb",
   "metadata": {},
   "outputs": [
    {
     "name": "stdout",
     "output_type": "stream",
     "text": [
      "WARNING:tensorflow:Layer lstm will not use cuDNN kernels since it doesn't meet the criteria. It will use a generic GPU kernel as fallback when running on GPU.\n",
      "WARNING:tensorflow:Layer lstm_1 will not use cuDNN kernels since it doesn't meet the criteria. It will use a generic GPU kernel as fallback when running on GPU.\n",
      "WARNING:tensorflow:Layer lstm_2 will not use cuDNN kernels since it doesn't meet the criteria. It will use a generic GPU kernel as fallback when running on GPU.\n"
     ]
    }
   ],
   "source": [
    "from tensorflow.keras.layers import Input, LSTM, Embedding, Dense, Concatenate, TimeDistributed\n",
    "from tensorflow.keras.models import Model\n",
    "from tensorflow.keras.callbacks import EarlyStopping, ModelCheckpoint\n",
    "\n",
    "# 인코더 설계 시작\n",
    "embedding_dim = 128\n",
    "hidden_size = 256\n",
    "\n",
    "# 인코더\n",
    "encoder_inputs = Input(shape=(text_max_len,))\n",
    "\n",
    "# 인코더의 임베딩 층\n",
    "enc_emb = Embedding(src_vocab, embedding_dim)(encoder_inputs)\n",
    "\n",
    "# 인코더의 LSTM 1\n",
    "encoder_lstm1 = LSTM(hidden_size, return_sequences=True, return_state=True ,dropout = 0.4, recurrent_dropout = 0.4)\n",
    "encoder_output1, state_h1, state_c1 = encoder_lstm1(enc_emb)\n",
    "\n",
    "# 인코더의 LSTM 2\n",
    "encoder_lstm2 = LSTM(hidden_size, return_sequences=True, return_state=True, dropout=0.4, recurrent_dropout=0.4)\n",
    "encoder_output2, state_h2, state_c2 = encoder_lstm2(encoder_output1)\n",
    "\n",
    "# 인코더의 LSTM 3\n",
    "encoder_lstm3 = LSTM(hidden_size, return_state=True, return_sequences=True, dropout=0.4, recurrent_dropout=0.4)\n",
    "encoder_outputs, state_h, state_c= encoder_lstm3(encoder_output2)"
   ]
  },
  {
   "cell_type": "code",
   "execution_count": 81,
   "id": "1deea407",
   "metadata": {},
   "outputs": [
    {
     "name": "stdout",
     "output_type": "stream",
     "text": [
      "WARNING:tensorflow:Layer lstm_3 will not use cuDNN kernels since it doesn't meet the criteria. It will use a generic GPU kernel as fallback when running on GPU.\n"
     ]
    }
   ],
   "source": [
    "# 디코더 설계\n",
    "decoder_inputs = Input(shape=(None,))\n",
    "\n",
    "# 디코더의 임베딩 층\n",
    "dec_emb_layer = Embedding(tar_vocab, embedding_dim)\n",
    "dec_emb = dec_emb_layer(decoder_inputs)\n",
    "\n",
    "# 디코더의 LSTM\n",
    "decoder_lstm = LSTM(hidden_size, return_sequences=True, return_state=True, dropout=0.4, recurrent_dropout=0.2)\n",
    "decoder_outputs, _, _ = decoder_lstm(dec_emb, initial_state=[state_h, state_c])"
   ]
  },
  {
   "cell_type": "code",
   "execution_count": 82,
   "id": "8da886bd",
   "metadata": {},
   "outputs": [
    {
     "name": "stdout",
     "output_type": "stream",
     "text": [
      "Model: \"model\"\n",
      "__________________________________________________________________________________________________\n",
      "Layer (type)                    Output Shape         Param #     Connected to                     \n",
      "==================================================================================================\n",
      "input_1 (InputLayer)            [(None, 45)]         0                                            \n",
      "__________________________________________________________________________________________________\n",
      "embedding (Embedding)           (None, 45, 128)      1024000     input_1[0][0]                    \n",
      "__________________________________________________________________________________________________\n",
      "lstm (LSTM)                     [(None, 45, 256), (N 394240      embedding[0][0]                  \n",
      "__________________________________________________________________________________________________\n",
      "input_2 (InputLayer)            [(None, None)]       0                                            \n",
      "__________________________________________________________________________________________________\n",
      "lstm_1 (LSTM)                   [(None, 45, 256), (N 525312      lstm[0][0]                       \n",
      "__________________________________________________________________________________________________\n",
      "embedding_1 (Embedding)         (None, None, 128)    256000      input_2[0][0]                    \n",
      "__________________________________________________________________________________________________\n",
      "lstm_2 (LSTM)                   [(None, 45, 256), (N 525312      lstm_1[0][0]                     \n",
      "__________________________________________________________________________________________________\n",
      "lstm_3 (LSTM)                   [(None, None, 256),  394240      embedding_1[0][0]                \n",
      "                                                                 lstm_2[0][1]                     \n",
      "                                                                 lstm_2[0][2]                     \n",
      "__________________________________________________________________________________________________\n",
      "attention_layer (AdditiveAttent (None, None, 256)    256         lstm_3[0][0]                     \n",
      "                                                                 lstm_2[0][0]                     \n",
      "__________________________________________________________________________________________________\n",
      "concat_layer (Concatenate)      (None, None, 512)    0           lstm_3[0][0]                     \n",
      "                                                                 attention_layer[0][0]            \n",
      "__________________________________________________________________________________________________\n",
      "dense (Dense)                   (None, None, 2000)   1026000     concat_layer[0][0]               \n",
      "==================================================================================================\n",
      "Total params: 4,145,360\n",
      "Trainable params: 4,145,360\n",
      "Non-trainable params: 0\n",
      "__________________________________________________________________________________________________\n"
     ]
    }
   ],
   "source": [
    "from tensorflow.keras.layers import AdditiveAttention\n",
    "\n",
    "# 어텐션 층(어텐션 함수)\n",
    "attn_layer = AdditiveAttention(name='attention_layer')\n",
    "\n",
    "# 인코더와 디코더의 모든 time step의 hidden state를 어텐션 층에 전달하고 결과를 리턴\n",
    "attn_out = attn_layer([decoder_outputs, encoder_outputs])\n",
    "\n",
    "\n",
    "# 어텐션의 결과와 디코더의 hidden state들을 연결\n",
    "decoder_concat_input = Concatenate(axis=-1, name='concat_layer')([decoder_outputs, attn_out])\n",
    "\n",
    "# 디코더의 출력층\n",
    "decoder_softmax_layer = Dense(tar_vocab, activation='softmax')\n",
    "decoder_softmax_outputs = decoder_softmax_layer(decoder_concat_input)\n",
    "\n",
    "# 모델 정의\n",
    "model = Model([encoder_inputs, decoder_inputs], decoder_softmax_outputs)\n",
    "model.summary()"
   ]
  },
  {
   "cell_type": "markdown",
   "id": "f2d5c559",
   "metadata": {},
   "source": [
    "### 모델 훈련하기"
   ]
  },
  {
   "cell_type": "code",
   "execution_count": 83,
   "id": "b7dc10ac",
   "metadata": {},
   "outputs": [
    {
     "name": "stdout",
     "output_type": "stream",
     "text": [
      "Epoch 1/50\n",
      "303/303 [==============================] - 195s 613ms/step - loss: 3.8783 - val_loss: 3.5772\n",
      "Epoch 2/50\n",
      "303/303 [==============================] - 182s 600ms/step - loss: 3.3981 - val_loss: 3.2329\n",
      "Epoch 3/50\n",
      "303/303 [==============================] - 188s 621ms/step - loss: 3.1285 - val_loss: 3.0163\n",
      "Epoch 4/50\n",
      "303/303 [==============================] - 189s 624ms/step - loss: 2.9374 - val_loss: 2.8742\n",
      "Epoch 5/50\n",
      "303/303 [==============================] - 181s 597ms/step - loss: 2.7997 - val_loss: 2.7762\n",
      "Epoch 6/50\n",
      "303/303 [==============================] - 181s 599ms/step - loss: 2.6900 - val_loss: 2.7069\n",
      "Epoch 7/50\n",
      "303/303 [==============================] - 178s 588ms/step - loss: 2.6003 - val_loss: 2.6369\n",
      "Epoch 8/50\n",
      "303/303 [==============================] - 179s 590ms/step - loss: 2.5231 - val_loss: 2.5929\n",
      "Epoch 9/50\n",
      "303/303 [==============================] - 178s 588ms/step - loss: 2.4542 - val_loss: 2.5514\n",
      "Epoch 10/50\n",
      "303/303 [==============================] - 178s 588ms/step - loss: 2.3943 - val_loss: 2.5153\n",
      "Epoch 11/50\n",
      "303/303 [==============================] - 179s 590ms/step - loss: 2.3405 - val_loss: 2.4848\n",
      "Epoch 12/50\n",
      "303/303 [==============================] - 179s 592ms/step - loss: 2.2924 - val_loss: 2.4614\n",
      "Epoch 13/50\n",
      "303/303 [==============================] - 179s 590ms/step - loss: 2.2471 - val_loss: 2.4408\n",
      "Epoch 14/50\n",
      "303/303 [==============================] - 188s 620ms/step - loss: 2.2063 - val_loss: 2.4239\n",
      "Epoch 15/50\n",
      "303/303 [==============================] - 187s 616ms/step - loss: 2.1688 - val_loss: 2.4089\n",
      "Epoch 16/50\n",
      "303/303 [==============================] - 183s 604ms/step - loss: 2.1344 - val_loss: 2.4047\n",
      "Epoch 17/50\n",
      "303/303 [==============================] - 180s 595ms/step - loss: 2.1028 - val_loss: 2.3849\n",
      "Epoch 18/50\n",
      "303/303 [==============================] - 180s 593ms/step - loss: 2.0728 - val_loss: 2.3822\n",
      "Epoch 19/50\n",
      "303/303 [==============================] - 183s 604ms/step - loss: 2.0457 - val_loss: 2.3783\n",
      "Epoch 20/50\n",
      "303/303 [==============================] - 183s 604ms/step - loss: 2.0190 - val_loss: 2.3690\n",
      "Epoch 21/50\n",
      "303/303 [==============================] - 186s 614ms/step - loss: 1.9942 - val_loss: 2.3692\n",
      "Epoch 22/50\n",
      "303/303 [==============================] - 186s 615ms/step - loss: 1.9711 - val_loss: 2.3611\n",
      "Epoch 23/50\n",
      "303/303 [==============================] - 184s 606ms/step - loss: 1.9491 - val_loss: 2.3574\n",
      "Epoch 24/50\n",
      "303/303 [==============================] - 181s 598ms/step - loss: 1.9294 - val_loss: 2.3599\n",
      "Epoch 25/50\n",
      "303/303 [==============================] - 182s 601ms/step - loss: 1.9095 - val_loss: 2.3583\n",
      "Epoch 00025: early stopping\n"
     ]
    }
   ],
   "source": [
    "# EarlyStopping은 특정 조건이 충족되면 훈련을 멈추는 역할\n",
    "# val_loss(검증 데이터의 손실)을 관찰 검증 데이터의 손실이 줄어들지 않고 증가하는 현상이 2회(patience=2) 관측되면 학습을 멈추도록 \n",
    "\n",
    "model.compile(optimizer='rmsprop', loss='sparse_categorical_crossentropy')\n",
    "es = EarlyStopping(monitor='val_loss', patience=2, verbose=1)\n",
    "history = model.fit(x=[encoder_input_train, decoder_input_train], y=decoder_target_train, \\\n",
    "          validation_data=([encoder_input_test, decoder_input_test], decoder_target_test), \\\n",
    "          batch_size=256, callbacks=[es], epochs=50)"
   ]
  },
  {
   "cell_type": "code",
   "execution_count": 84,
   "id": "bda8b106",
   "metadata": {},
   "outputs": [
    {
     "data": {
      "image/png": "[encoded data removed]",
      "text/plain": [
       "<Figure size 432x288 with 1 Axes>"
      ]
     },
     "metadata": {
      "needs_background": "light"
     },
     "output_type": "display_data"
    }
   ],
   "source": [
    "# 훈련 데이터의 손실과 검증 데이터의 손실이 줄어드는 과정을 시각화\n",
    "plt.plot(history.history['loss'], label='train')\n",
    "plt.plot(history.history['val_loss'], label='test')\n",
    "plt.legend()\n",
    "plt.show()"
   ]
  },
  {
   "cell_type": "markdown",
   "id": "01294ce9",
   "metadata": {},
   "source": [
    "## Step 4. 실제 결과와 요약문 비교하기 (추상적 요약)\n",
    ">원래의 요약문(headlines 열)과 학습을 통해 얻은 추상적 요약의 결과를 비교해 보세요."
   ]
  },
  {
   "cell_type": "markdown",
   "id": "e2eb04f6",
   "metadata": {},
   "source": [
    "### 인퍼런스 모델 구현하기"
   ]
  },
  {
   "cell_type": "code",
   "execution_count": 85,
   "id": "3eabe9b7",
   "metadata": {},
   "outputs": [],
   "source": [
    "# 테스트 단계에서는 정수 인덱스 행렬로 존재하던 텍스트 데이터를 실제 데이터로 복원해야 함\n",
    "\n",
    "src_index_to_word = src_tokenizer.index_word # 원문 단어 집합에서 정수 -> 단어를 얻음\n",
    "tar_word_to_index = tar_tokenizer.word_index # 요약 단어 집합에서 단어 -> 정수를 얻음\n",
    "tar_index_to_word = tar_tokenizer.index_word # 요약 단어 집합에서 정수 -> 단어를 얻음"
   ]
  },
  {
   "cell_type": "code",
   "execution_count": 86,
   "id": "b097ed2b",
   "metadata": {},
   "outputs": [],
   "source": [
    "# 인코더 설계\n",
    "encoder_model = Model(inputs=encoder_inputs, outputs=[encoder_outputs, state_h, state_c])\n",
    "\n",
    "# 이전 시점의 상태들을 저장하는 텐서\n",
    "decoder_state_input_h = Input(shape=(hidden_size,))\n",
    "decoder_state_input_c = Input(shape=(hidden_size,))\n",
    "\n",
    "dec_emb2 = dec_emb_layer(decoder_inputs)\n",
    "\n",
    "# 문장의 다음 단어를 예측하기 위해서 초기 상태(initial_state)를 이전 시점의 상태로 사용. 이는 뒤의 함수 decode_sequence()에 구현\n",
    "# 훈련 과정에서와 달리 LSTM의 리턴하는 은닉 상태와 셀 상태인 state_h와 state_c를 버리지 않음.\n",
    "decoder_outputs2, state_h2, state_c2 = decoder_lstm(dec_emb2, initial_state=[decoder_state_input_h, decoder_state_input_c])"
   ]
  },
  {
   "cell_type": "code",
   "execution_count": 87,
   "id": "c0652ec2",
   "metadata": {},
   "outputs": [],
   "source": [
    "# 어텐션 메커니즘을 사용하는 출력층\n",
    "\n",
    "# 어텐션 함수\n",
    "decoder_hidden_state_input = Input(shape=(text_max_len, hidden_size))\n",
    "attn_out_inf = attn_layer([decoder_outputs2, decoder_hidden_state_input])\n",
    "decoder_inf_concat = Concatenate(axis=-1, name='concat')([decoder_outputs2, attn_out_inf])\n",
    "\n",
    "# 디코더의 출력층\n",
    "decoder_outputs2 = decoder_softmax_layer(decoder_inf_concat) \n",
    "\n",
    "# 최종 디코더 모델\n",
    "decoder_model = Model(\n",
    "    [decoder_inputs] + [decoder_hidden_state_input,decoder_state_input_h, decoder_state_input_c],\n",
    "    [decoder_outputs2] + [state_h2, state_c2])\n"
   ]
  },
  {
   "cell_type": "code",
   "execution_count": 91,
   "id": "ef702066",
   "metadata": {},
   "outputs": [],
   "source": [
    "# 인퍼런스 단계에서 단어 시퀀스를 완성하는 함수 만들기\n",
    "\n",
    "def decode_sequence(input_seq):\n",
    "    # 입력으로부터 인코더의 상태를 얻음\n",
    "    e_out, e_h, e_c = encoder_model.predict(input_seq)\n",
    "\n",
    "     # <SOS>에 해당하는 토큰 생성\n",
    "    target_seq = np.zeros((1,1))\n",
    "    target_seq[0, 0] = tar_word_to_index['sostoken']\n",
    "\n",
    "    stop_condition = False\n",
    "    decoded_sentence = ''\n",
    "    while not stop_condition: # stop_condition이 True가 될 때까지 루프 반복\n",
    "\n",
    "        output_tokens, h, c = decoder_model.predict([target_seq] + [e_out, e_h, e_c])\n",
    "        sampled_token_index = np.argmax(output_tokens[0, -1, :])\n",
    "        sampled_token = tar_index_to_word[sampled_token_index]\n",
    "\n",
    "        if (sampled_token!='eostoken'):\n",
    "            decoded_sentence += ' '+sampled_token\n",
    "\n",
    "        #  <eos>에 도달하거나 최대 길이를 넘으면 중단.\n",
    "        if (sampled_token == 'eostoken'  or len(decoded_sentence.split()) >= (headlines_max_len-1)):\n",
    "            stop_condition = True\n",
    "\n",
    "        # 길이가 1인 타겟 시퀀스를 업데이트\n",
    "        target_seq = np.zeros((1,1))\n",
    "        target_seq[0, 0] = sampled_token_index\n",
    "\n",
    "        # 상태를 업데이트 합니다.\n",
    "        e_h, e_c = h, c\n",
    "\n",
    "    return decoded_sentence"
   ]
  },
  {
   "cell_type": "markdown",
   "id": "c8e86076",
   "metadata": {},
   "source": [
    "### 모델 테스트\n",
    "* 테스트 단계에서는 정수 시퀀스를 텍스트 시퀀스로 변환하여 결과를 확인<br>\n",
    "* Text의 정수 시퀀스에서는 패딩을 위해 사용되는 숫자 0을 제외하고 Summary의 정수 시퀀스에서는 숫자 0, 시작 토큰의 인덱스, 종료 토큰의 인덱스를 출력에서 제외하도록"
   ]
  },
  {
   "cell_type": "code",
   "execution_count": 92,
   "id": "3966fc10",
   "metadata": {},
   "outputs": [],
   "source": [
    "# 원문의 정수 시퀀스를 텍스트 시퀀스로 변환\n",
    "def seq2text(input_seq):\n",
    "    temp=''\n",
    "    for i in input_seq:\n",
    "        if (i!=0):\n",
    "            temp = temp + src_index_to_word[i]+' '\n",
    "    return temp\n",
    "\n",
    "# 요약문의 정수 시퀀스를 텍스트 시퀀스로 변환\n",
    "def seq2summary(input_seq):\n",
    "    temp=''\n",
    "    for i in input_seq:\n",
    "        if ((i!=0 and i!=tar_word_to_index['sostoken']) and i!=tar_word_to_index['eostoken']):\n",
    "            temp = temp + tar_index_to_word[i] + ' '\n",
    "    return temp"
   ]
  },
  {
   "cell_type": "code",
   "execution_count": 93,
   "id": "31d580c0",
   "metadata": {},
   "outputs": [
    {
     "name": "stdout",
     "output_type": "stream",
     "text": [
      "원문 : according reports khilji played ranveer singh upcoming film padmavati portrayed film reportedly relationship khilji general malik played jim khilji rajput queen padmavati played deepika padukone major plot film \n",
      "실제 요약 : ranveer in padmavati as report \n",
      "예측 요약 :  ranveer deepika to report\n",
      "\n",
      "\n",
      "원문 : hackers behind global wannacry ransomware attack hit countries since friday earned lakh far enterprises london based company tracks illicit use bitcoin tracked current balance three bitcoin addresses known associated wannacry malware locked users computers demanded ransom bitcoin \n",
      "실제 요약 : hackers have lakh so \n",
      "예측 요약 :  hackers attack world bank attacks in\n",
      "\n",
      "\n",
      "원문 : atm industry said recent regulatory changes making operate atms may lead closure half machines march majority atms shut non urban areas added india lakh atms september end \n",
      "실제 요약 : new rules may force of in india to close industry body \n",
      "예측 요약 :  no plans to increase in indonesia\n",
      "\n",
      "\n",
      "원문 : nasa rover landed mars found organic molecules containing carbon hydrogen besides oxygen three billion year old rocks associated life organic molecules also created non biological processes life nasa remarked nasa send another rover dig mars \n",
      "실제 요약 : nasa finds building blocks of life on mars \n",
      "예측 요약 :  nasa probe from human\n",
      "\n",
      "\n",
      "원문 : shares wearable device maker nearly wednesday apple announced apple watch series watch perform detect person heart rate low apple claims watch detect falls call emergency contacts remains seconds \n",
      "실제 요약 : stock after apple watch \n",
      "예측 요약 :  apple to watch iphone with apple\n",
      "\n",
      "\n",
      "원문 : new zealand former captain mccullum thanked royal challengers bangalore captain virat kohli team management ipl side released ahead edition tournament ipl side official twitter account also replied mccullum tweet rcb management also released south africa de england chris \n",
      "실제 요약 : ex nz captain thanks virat kohli after releases him \n",
      "예측 요약 :  xi to virat kohli ahead of ipl\n",
      "\n",
      "\n",
      "원문 : temperatures earth measured via contact measure degree heat body astronomers study radiation increasing temperatures objects red yellow blue however increase heat cannot measured colours hence scientists study ray \n",
      "실제 요약 : how are of and stars \n",
      "예측 요약 :  scientists find from\n",
      "\n",
      "\n",
      "원문 : actor look upcoming action spy film mission impossible revealed seen sporting role film photo also shows actor tom cruise role hunt directed christopher film scheduled release july \n",
      "실제 요약 : look from mission \n",
      "예측 요약 :  look from secret film out\n",
      "\n",
      "\n",
      "원문 : indian cricket captain virat kohli shots used teach mathematics course online learning app indian skipper shot used explain concept students app claim draw cricket make subjects interesting \n",
      "실제 요약 : virat kohli being used to \n",
      "예측 요약 :  virat kohli is the of human\n",
      "\n",
      "\n",
      "원문 : second year college student way back visiting temple sexually assaulted six men odisha district monday allegedly raped one accused others recorded act phones reports said police said victim knew two three accused \n",
      "실제 요약 : college student sexually by men assault \n",
      "예측 요약 :  college student gangraped by in madhya pradesh\n",
      "\n",
      "\n",
      "원문 : indian meteorological department monday said lightning expected gurugram wednesday friday storm likely lower city temperature wednesday thursday average temperature several trees electricity due frequent city \n",
      "실제 요약 : in gurugram for days \n",
      "예측 요약 :  gurugram to be held in gurugram\n",
      "\n",
      "\n",
      "원문 : khan dawood ibrahim sister son law singer dancer choudhary among final contestants bigg boss kumari daughter also among contestants four participants likely part show \n",
      "실제 요약 : singer in bigg boss \n",
      "예측 요약 :  brother girlfriend in\n",
      "\n",
      "\n",
      "원문 : jaipur traffic police tweeted photograph pacer jasprit bumrah ball pakistan champions trophy final advice drivers crossing crossing line signals tweet also featured image two cars stopping behind designated crossing line captioned cross line know \n",
      "실제 요약 : police uses bumrah no ball as traffic \n",
      "예측 요약 :  police traffic police sehwag\n",
      "\n",
      "\n",
      "원문 : bombay high court wednesday dismissed application filed late actress khan mother messages daughter exchanged ex boyfriend messenger dismissing plea justice stated request law earlier charged khan suicide \n",
      "실제 요약 : bombay hc rejects mother plea to \n",
      "예측 요약 :  hc dismisses case against mother\n",
      "\n",
      "\n",
      "원문 : teaser dhanush kajol starrer tamil film also known vip released film sequel film dhanush penned story also co producing film sister law rajinikanth directing \n",
      "실제 요약 : teaser of kajol tamil film released \n",
      "예측 요약 :  teaser of rajinikanth tamil film out\n",
      "\n",
      "\n",
      "원문 : father malayalam actress molested moving train said called inform incident asked incidents stop afraid consequences added arrested police filed complaint \n",
      "실제 요약 : told her to says father of actress \n",
      "예측 요약 :  dad dad dad on train accident\n",
      "\n",
      "\n",
      "원문 : slamming centre taking necessary steps welfare supreme court tuesday said neither families centre wants look seen supposed court questioned also asked centre respond report condition \n",
      "실제 요약 : families govt in sc \n",
      "예측 요약 :  centre not to centre sc\n",
      "\n",
      "\n",
      "원문 : private school andhra pradesh punished six students came late forcing stand naked outside school building pictures videos punished students also surfaced online wherein could seen standing naked hands raised meanwhile complaint lodged school probe underway \n",
      "실제 요약 : kids forced to stand naked outside school for late in andhra \n",
      "예측 요약 :  andhra school students for students\n",
      "\n",
      "\n",
      "원문 : newspaper reporter booked report alleged breach aadhaar data security said earned fir asked whether stood report said stand every word reported access aadhaar data could anonymous sellers \n",
      "실제 요약 : have the fir booked for aadhaar leak report \n",
      "예측 요약 :  cbi files complaint against aadhaar over data breach\n",
      "\n",
      "\n",
      "원문 : vijay mallya filed appeal securities tribunal sebi order barred securities market alleged violations listing agreement funds fraud sebi order passed mallya took social media call hunt notably sebi barred six officials united spirits \n",
      "실제 요약 : mallya files against sebi ban from market \n",
      "예측 요약 :  mallya moves court against\n",
      "\n",
      "\n",
      "원문 : total cases cases dengue reported mumbai august according brihanmumbai municipal corporation water led increase sites officials said city also saw increase viral fever cases patients admitted various hospitals \n",
      "실제 요약 : cases of reported in days in mumbai \n",
      "예측 요약 :  cases cases reported in mumbai\n",
      "\n",
      "\n",
      "원문 : case filed punjab minister navjot singh sidhu bihar court allegedly insulting indian army hugging pakistan army chief imran khan swearing ceremony pakistan prime minister case filed sections involving sedition complaint lawyer said sidhu gesture hurt people country \n",
      "실제 요약 : case filed against sidhu for pakistan army chief \n",
      "예측 요약 :  sidhu files complaint against pak army over remarks on pak army\n",
      "\n",
      "\n",
      "원문 : mukhtar malik soldier home death teenage son killed suspected militants posing journalists jammu kashmir district monday attackers shooting malik video house using mobile phone fired point range locals police said \n",
      "실제 요약 : terrorists kill soldier who was home to son death \n",
      "예측 요약 :  jawan shoots terrorists terrorists killed in kashmir\n",
      "\n",
      "\n",
      "원문 : world expensive footballer neymar shared video playing table tennis brazilian teammates neymar play table tennis ball table kick order pass opposition across table \n",
      "실제 요약 : plays tennis with brazil \n",
      "예측 요약 :  player tries to watch ball with\n",
      "\n",
      "\n",
      "원문 : stating us president donald trump says something today opposite tomorrow syrian president bashar al assad said think president regime control adding reason meet face face trump assad said think achieve anything administration \n",
      "실제 요약 : trump says today does syria \n",
      "예측 요약 :  trump calls syrian prez syria\n",
      "\n",
      "\n",
      "원문 : shankar director starring rajinikanth akshay kumar apologised two photo journalists alleged abused beaten film crew members visiting press council office chennai shankar said shall ensure incidents like repeat happened without knowledge journalists reportedly withdrawn police complaint \n",
      "실제 요약 : director apologises over attack on by crew \n",
      "예측 요약 :  rajinikanth apologises for remark on\n",
      "\n",
      "\n",
      "원문 : government ordered serious fraud investigation office probe aircel two group firms alleged financial irregularities telecom operator filed bankruptcy february facing times highly financially stressed sector aircel already cbi enforcement directorate connection aircel maxis deal \n",
      "실제 요약 : government orders fraud probe against \n",
      "예측 요약 :  cbi raids probe against firm\n",
      "\n",
      "\n",
      "원문 : united states considering barring passengers flying nation european airports carrying electronic devices larger smartphones flight guardian reported measure response terror threats could implemented weeks however us security department said made decisions expanding current restrictions \n",
      "실제 요약 : us ban on flights from \n",
      "예측 요약 :  us to stop plane from us\n",
      "\n",
      "\n",
      "원문 : many monkeys died due suspected gas leak maharashtra district animals reportedly found buried near location following incident took place thursday district collector vijay said gas leaked one bharat petroleum corporation limited plants \n",
      "실제 요약 : die after suspected gas leak in maha \n",
      "예측 요약 :  dead after in tamil nadu\n",
      "\n",
      "\n",
      "원문 : video allegedly showing phone battery man china bit surfaced online man reportedly went electronics store get phone battery replaced bit test according reports battery question iphone exploded right man bit \n",
      "실제 요약 : phone after man it \n",
      "예측 요약 :  man uses to store man\n",
      "\n",
      "\n",
      "원문 : bengaluru based online shopping portal fashion lifestyle products suspended operations reportedly exercise however website read doors might temporarily closed come back something better founded sanjay shroff luxury products fashion accessories \n",
      "실제 요약 : online fashion startup suspends operations \n",
      "예측 요약 :  luru based website hacked\n",
      "\n",
      "\n",
      "원문 : maratha samaj body maratha groups called bandh today across maharashtra demand maratha reservation protestors demanding quota government jobs education people maratha community however mumbai exempted bandh witnessed large scale violence protests last month \n",
      "실제 요약 : why have called for maharashtra today \n",
      "예측 요약 :  ngt approves quota for quota\n",
      "\n",
      "\n",
      "원문 : reportedly informed india mehul choksi india countries members commonwealth nations bilateral extradition treaty countries cbi already sent extradition request un convention corruption india convention \n",
      "실제 요약 : choksi can be under \n",
      "예측 요약 :  india to india on of india\n",
      "\n",
      "\n",
      "원문 : uk member parliament john mann said regulators probing attempts identify whistleblower bank ceo resign investigated attempting identify author letter involving senior executive trying identify complainant could violate us uk laws protecting \n",
      "실제 요약 : ceo has to resign if case uk mp \n",
      "예측 요약 :  uk to probe into fbi scandal\n",
      "\n",
      "\n",
      "원문 : cbi filed closure report delhi high court missing person case jawaharlal nehru university student ahmed went missing october court consider report november comes court rejected ahmed mother plea probe special investigation team last week \n",
      "실제 요약 : cbi ends search for jnu student missing for years \n",
      "예측 요약 :  cbi books cbi over delay in case\n",
      "\n",
      "\n",
      "원문 : days triple talaq victim jahan joined bjp lawyer activist khan also joined party thursday jahan one five case instant triple talaq banned supreme court august jahan husband divorced phone dubai \n",
      "실제 요약 : after triple talaq victim her lawyer joins bjp \n",
      "예측 요약 :  bjp leader joins bjp leader over\n",
      "\n",
      "\n",
      "원문 : personal information million facebook users exposed years app called com security researcher disclosed exposed data included users names dates birth posts pictures friend lists taking part online reports claimed facebook aware april took months fix \n",
      "실제 요약 : facebook app mn users data for years \n",
      "예측 요약 :  facebook million users data from facebook\n",
      "\n",
      "\n",
      "원문 : fined us customs saved apple given first part journey paris us said wanted eat later flight woman apparently fined declaring agriculture items said would take matter court \n",
      "실제 요약 : woman fined for carrying apple given to her on plane \n",
      "예측 요약 :  fined apple for st time in russia\n",
      "\n",
      "\n",
      "원문 : sushant singh rajput set portray twelve real life characters including poet former indian president abdul kalam episode biopic series project backed venture launched sushant business partner varun sushant decided bring characters life screen said varun \n",
      "실제 요약 : sushant to play in biopic series \n",
      "예측 요약 :  sushant sushant sushant to play in upcoming film\n",
      "\n",
      "\n",
      "원문 : vidya balan starring tamil remake pink released amitabh bachchan taapsee pannu lead roles film also star tamil actor kumar produced boney kapoor talking vidya role remake boney said character written according tamil market \n",
      "실제 요약 : vidya to star in tamil remake of big starrer \n",
      "예측 요약 :  vidya to feature in sequel\n",
      "\n",
      "\n",
      "원문 : ias association said delhi cm arvind kejriwal allegations officers strike baseless added budget would passed otherwise however association admitted officers meetings called ministers assured safety attack chief secretary prakash \n",
      "실제 요약 : kejriwal claim of officers on strike is ias body \n",
      "예측 요약 :  kejriwal threatens to ensure of ias officers\n",
      "\n",
      "\n",
      "원문 : angad bedi talking performance film said made budget crore expect crore business added film definitely earned numbers performance heavy film great story content said \n",
      "실제 요약 : do not to earn cr on cr budget \n",
      "예측 요약 :  cr to earn cr\n",
      "\n",
      "\n",
      "원문 : rbi directed payment system operators india store data within country ensure security users information ensuring safety security payment systems data essential reduce risks data breaches rbi said operators given six months time comply directive central bank \n",
      "실제 요약 : rbi asks all system to store data in india \n",
      "예측 요약 :  rbi to issue data of india\n",
      "\n",
      "\n",
      "원문 : canadian judge sparked outrage saying year old sexual assault victim little pretty face may bit year old attacker attention comments came light week made judge jean paul may heard sexual assault allegations \n",
      "실제 요약 : sexual assault victim by canadian judge \n",
      "예측 요약 :  judge accused of sexual assault case\n",
      "\n",
      "\n",
      "원문 : two crude bombs unearthed metro official work metro construction site mumbai central wednesday bomb detection disposal squad informed explosives recovered bombs sent forensic laboratory police launched investigation matter \n",
      "실제 요약 : found at mumbai metro construction site \n",
      "예측 요약 :  metro station at metro station\n",
      "\n",
      "\n",
      "원문 : ahead planned russian rocket launch december female us astronaut said looking forward riding rocket looking forward getting space mission first launch since mission earlier october would got rocket next day added \n",
      "실제 요약 : looking to russian rocket female us astronaut \n",
      "예측 요약 :  russian launch st rocket launch to launch\n",
      "\n",
      "\n",
      "원문 : court ruled indian pacer mohammed shami pay per month instead lakh monthly amount earlier demanded estranged wife hasin jahan family maintenance shami earlier refused pay maintenance amount demanded jahan citing fact acting \n",
      "실제 요약 : shami to pay wife as instead of lakh \n",
      "예측 요약 :  bcci to pay month pay for divorce\n",
      "\n",
      "\n",
      "원문 : apple hiring software engineer background digital personal assistant siri position siri software engineer health currently posted jobs portal also lists experience ai technologies additional requirement job company asked applicants play part next revolution human computer interaction \n",
      "실제 요약 : apple to engineer with for \n",
      "예측 요약 :  apple to let users pay for\n",
      "\n",
      "\n",
      "원문 : least people including police officer killed others reportedly injured three days anti government protests vice president said protests came response government reforms social security system would increase worker employer contributions lower \n",
      "실제 요약 : killed injured in anti govt protests in \n",
      "예측 요약 :  killed injured in protests in protests in protests\n",
      "\n",
      "\n",
      "원문 : aayush sharma hussain released today heavy seen wrote times appeal romantic stories said times india bollywood hungama wrote feel good film rated \n",
      "실제 요약 : sharma starrer hits the theatres \n",
      "예측 요약 :  film hits theatres\n",
      "\n",
      "\n"
     ]
    }
   ],
   "source": [
    "# 테스트 데이터 약 50개의 샘플에 대해서 실제 요약과 예측된 요약을 비교\n",
    "for i in range(50, 100):\n",
    "    print(\"원문 :\", seq2text(encoder_input_test[i]))\n",
    "    print(\"실제 요약 :\", seq2summary(decoder_input_test[i]))\n",
    "    print(\"예측 요약 :\", decode_sequence(encoder_input_test[i].reshape(1, text_max_len)))\n",
    "    print(\"\\n\")"
   ]
  },
  {
   "cell_type": "markdown",
   "id": "3cc23661",
   "metadata": {},
   "source": [
    "## Step 5. Summa을 이용해서 추출적 요약해보기\n",
    ">추상적 요약은 추출적 요약과는 달리 문장의 표현력을 다양하게 가져갈 수 있지만, 추출적 요약에 비해서 난이도가 높아요.<br>\n",
    "반대로 말하면 추출적 요약은 추상적 요약에 비해 난이도가 낮고 기존 문장에서 문장을 꺼내오는 것이므로 잘못된 요약이 나올 가능성이 낮아요.\n",
    "\n",
    "* Summa의 summarize를 사용하여 추출적 요약을 해보세요."
   ]
  },
  {
   "cell_type": "markdown",
   "id": "27838e46",
   "metadata": {},
   "source": [
    "### 데이터 다운로드"
   ]
  },
  {
   "cell_type": "code",
   "execution_count": 117,
   "id": "99efd1d1",
   "metadata": {},
   "outputs": [],
   "source": [
    "import requests\n",
    "from summa.summarizer import summarize"
   ]
  },
  {
   "cell_type": "code",
   "execution_count": 120,
   "id": "a580217a",
   "metadata": {},
   "outputs": [],
   "source": [
    "import urllib.request\n",
    "urllib.request.urlretrieve(\"https://raw.githubusercontent.com/sunnysai12345/News_Summary/master/news_summary_more.csv\", filename=\"news_summary_more.csv\")\n",
    "text_1 = pd.read_csv('news_summary_more.csv', encoding='iso-8859-1')"
   ]
  },
  {
   "cell_type": "markdown",
   "id": "60c411f4",
   "metadata": {},
   "source": [
    "### summarize 사용하기"
   ]
  },
  {
   "cell_type": "markdown",
   "id": "75cfcae7",
   "metadata": {},
   "source": [
    "Summa의 summarize()의 인자로 사용되는 값\n",
    "\n",
    ">text (str) : 요약할 테스트.<br>\n",
    ">ratio (float, optional) – 요약문에서 원본에서 선택되는 문장 비율. 0~1 사이값<br>\n",
    ">words (int or None, optional) – 출력에 포함할 단어 수.<br>\n",
    ">만약, ratio와 함께 두 파라미터가 모두 제공되는 경우 ratio는 무시한다.<br>\n",
    ">split (bool, optional) – True면 문장 list / False는 조인(join)된 문자열을 반환\n",
    "\n",
    "Summa의 summarize는 문장 토큰화를 별도로 하지 않더라도 내부적으로 문장 토큰화를 수행 - 원문을 바로 입력으로 넣을 수 있음."
   ]
  },
  {
   "cell_type": "markdown",
   "id": "1693aa95",
   "metadata": {},
   "source": [
    "#### 명예의 전당 유현지님 코딩 참조 했음"
   ]
  },
  {
   "cell_type": "code",
   "execution_count": 133,
   "id": "cb1d93c3",
   "metadata": {},
   "outputs": [
    {
     "name": "stdout",
     "output_type": "stream",
     "text": [
      "원문 : Saurav Kant, an alumnus of upGrad and IIIT-B's PG Program in Machine learning and Artificial Intelligence, was a Sr Systems Engineer at Infosys with almost 5 years of work experience. The program and upGrad's 360-degree career support helped him transition to a Data Scientist at Tech Mahindra with 90% salary hike. upGrad's Online Power Learning has powered 3 lakh+ careers.\n",
      "-----------------------------------------------------------------------------------------------------\n",
      "실제 요약 : upGrad learner switches to career in ML & Al with 90% salary hike\n",
      "----------------------------------------------------------------------------------------------------\n",
      "추출적 요약 : upGrad's Online Power Learning has powered 3 lakh+ careers.\n",
      "\n",
      "\n",
      "원문 : Kunal Shah's credit card bill payment platform, CRED, gave users a chance to win free food from Swiggy for one year. Pranav Kaushik, a Delhi techie, bagged this reward after spending 2000 CRED coins. Users get one CRED coin per rupee of bill paid, which can be used to avail rewards from brands like Ixigo, BookMyShow, UberEats, Cult.Fit and more.\n",
      "-----------------------------------------------------------------------------------------------------\n",
      "실제 요약 : Delhi techie wins free food from Swiggy for one year on CRED\n",
      "----------------------------------------------------------------------------------------------------\n",
      "추출적 요약 : Users get one CRED coin per rupee of bill paid, which can be used to avail rewards from brands like Ixigo, BookMyShow, UberEats, Cult.Fit and more.\n",
      "\n",
      "\n",
      "원문 : New Zealand defeated India by 8 wickets in the fourth ODI at Hamilton on Thursday to win their first match of the five-match ODI series. India lost an international match under Rohit Sharma's captaincy after 12 consecutive victories dating back to March 2018. The match witnessed India getting all out for 92, their seventh lowest total in ODI cricket history.\n",
      "-----------------------------------------------------------------------------------------------------\n",
      "실제 요약 : New Zealand end Rohit Sharma-led India's 12-match winning streak\n",
      "----------------------------------------------------------------------------------------------------\n",
      "추출적 요약 : The match witnessed India getting all out for 92, their seventh lowest total in ODI cricket history.\n",
      "\n",
      "\n"
     ]
    }
   ],
   "source": [
    "# 비율을 적게 주어서 요약문으로 선택되는 문장의 개수를 줄임. 원문의 0.5%만을 출력하도록 설정\n",
    "for i in range(3):\n",
    "    print(\"원문 :\", text_1['text'][i])\n",
    "    print(\"-----------------------------------------------------------------------------------------------------\")\n",
    "    print(\"실제 요약 :\", text_1['headlines'][i])\n",
    "    print(\"----------------------------------------------------------------------------------------------------\")\n",
    "    print(\"추출적 요약 :\", summarize(text_1[\"text\"][i], ratio=0.5))\n",
    "    print(\"\\n\")"
   ]
  },
  {
   "cell_type": "code",
   "execution_count": 134,
   "id": "86e62af7",
   "metadata": {},
   "outputs": [
    {
     "name": "stdout",
     "output_type": "stream",
     "text": [
      "원문 : Saurav Kant, an alumnus of upGrad and IIIT-B's PG Program in Machine learning and Artificial Intelligence, was a Sr Systems Engineer at Infosys with almost 5 years of work experience. The program and upGrad's 360-degree career support helped him transition to a Data Scientist at Tech Mahindra with 90% salary hike. upGrad's Online Power Learning has powered 3 lakh+ careers.\n",
      "----------------------------------------------------------------------------------------------------\n",
      "실제 요약 : upGrad learner switches to career in ML & Al with 90% salary hike\n",
      "----------------------------------------------------------------------------------------------------\n",
      "추출적 요약 : [\"upGrad's Online Power Learning has powered 3 lakh+ careers.\"]\n",
      "\n",
      "\n",
      "원문 : Kunal Shah's credit card bill payment platform, CRED, gave users a chance to win free food from Swiggy for one year. Pranav Kaushik, a Delhi techie, bagged this reward after spending 2000 CRED coins. Users get one CRED coin per rupee of bill paid, which can be used to avail rewards from brands like Ixigo, BookMyShow, UberEats, Cult.Fit and more.\n",
      "----------------------------------------------------------------------------------------------------\n",
      "실제 요약 : Delhi techie wins free food from Swiggy for one year on CRED\n",
      "----------------------------------------------------------------------------------------------------\n",
      "추출적 요약 : ['Users get one CRED coin per rupee of bill paid, which can be used to avail rewards from brands like Ixigo, BookMyShow, UberEats, Cult.Fit and more.']\n",
      "\n",
      "\n",
      "원문 : New Zealand defeated India by 8 wickets in the fourth ODI at Hamilton on Thursday to win their first match of the five-match ODI series. India lost an international match under Rohit Sharma's captaincy after 12 consecutive victories dating back to March 2018. The match witnessed India getting all out for 92, their seventh lowest total in ODI cricket history.\n",
      "----------------------------------------------------------------------------------------------------\n",
      "실제 요약 : New Zealand end Rohit Sharma-led India's 12-match winning streak\n",
      "----------------------------------------------------------------------------------------------------\n",
      "추출적 요약 : ['The match witnessed India getting all out for 92, their seventh lowest total in ODI cricket history.']\n",
      "\n",
      "\n"
     ]
    }
   ],
   "source": [
    "# 리스트로 출력 결과를 받고 싶다면 split 인자의 값을 True로\n",
    "for i in range(3):\n",
    "    print(\"원문 :\", text_1['text'][i])\n",
    "    print(\"----------------------------------------------------------------------------------------------------\")\n",
    "    print(\"실제 요약 :\", text_1['headlines'][i])\n",
    "    print(\"----------------------------------------------------------------------------------------------------\")\n",
    "    print(\"추출적 요약 :\", summarize(text_1[\"text\"][i], ratio=0.5, split=True))\n",
    "    print(\"\\n\")"
   ]
  },
  {
   "cell_type": "code",
   "execution_count": 135,
   "id": "5bb18e74",
   "metadata": {},
   "outputs": [
    {
     "name": "stdout",
     "output_type": "stream",
     "text": [
      "원문 : Saurav Kant, an alumnus of upGrad and IIIT-B's PG Program in Machine learning and Artificial Intelligence, was a Sr Systems Engineer at Infosys with almost 5 years of work experience. The program and upGrad's 360-degree career support helped him transition to a Data Scientist at Tech Mahindra with 90% salary hike. upGrad's Online Power Learning has powered 3 lakh+ careers.\n",
      "----------------------------------------------------------------------------------------------------\n",
      "실제 요약 : upGrad learner switches to career in ML & Al with 90% salary hike\n",
      "----------------------------------------------------------------------------------------------------\n",
      "추출적 요약 : The program and upGrad's 360-degree career support helped him transition to a Data Scientist at Tech Mahindra with 90% salary hike.\n",
      "upGrad's Online Power Learning has powered 3 lakh+ careers.\n",
      "\n",
      "\n",
      "원문 : Kunal Shah's credit card bill payment platform, CRED, gave users a chance to win free food from Swiggy for one year. Pranav Kaushik, a Delhi techie, bagged this reward after spending 2000 CRED coins. Users get one CRED coin per rupee of bill paid, which can be used to avail rewards from brands like Ixigo, BookMyShow, UberEats, Cult.Fit and more.\n",
      "----------------------------------------------------------------------------------------------------\n",
      "실제 요약 : Delhi techie wins free food from Swiggy for one year on CRED\n",
      "----------------------------------------------------------------------------------------------------\n",
      "추출적 요약 : Users get one CRED coin per rupee of bill paid, which can be used to avail rewards from brands like Ixigo, BookMyShow, UberEats, Cult.Fit and more.\n",
      "\n",
      "\n",
      "원문 : New Zealand defeated India by 8 wickets in the fourth ODI at Hamilton on Thursday to win their first match of the five-match ODI series. India lost an international match under Rohit Sharma's captaincy after 12 consecutive victories dating back to March 2018. The match witnessed India getting all out for 92, their seventh lowest total in ODI cricket history.\n",
      "----------------------------------------------------------------------------------------------------\n",
      "실제 요약 : New Zealand end Rohit Sharma-led India's 12-match winning streak\n",
      "----------------------------------------------------------------------------------------------------\n",
      "추출적 요약 : New Zealand defeated India by 8 wickets in the fourth ODI at Hamilton on Thursday to win their first match of the five-match ODI series.\n",
      "The match witnessed India getting all out for 92, their seventh lowest total in ODI cricket history.\n",
      "\n",
      "\n"
     ]
    }
   ],
   "source": [
    "# 단어의 수로 요약문의 크기를 조절 - 단어를 30개만 선택\n",
    "for i in range(3):\n",
    "    print(\"원문 :\", text_1['text'][i])\n",
    "    print(\"----------------------------------------------------------------------------------------------------\")\n",
    "    print(\"실제 요약 :\", text_1['headlines'][i])\n",
    "    print(\"----------------------------------------------------------------------------------------------------\")\n",
    "    print(\"추출적 요약 :\", summarize(text_1[\"text\"][i], words=30))\n",
    "    print(\"\\n\")"
   ]
  },
  {
   "cell_type": "markdown",
   "id": "bf126df3",
   "metadata": {},
   "source": [
    "## 후기"
   ]
  },
  {
   "cell_type": "markdown",
   "id": "5c1e1967",
   "metadata": {},
   "source": [
    "* 추상적 요약 결과 - 실제요약과 예측요약이 비슷한 단어들로 이루어진 경우도 있고 완전 다른 단어로 요약된 경우들도 보임. 예측요약은 문장으로 보기에는 많이 부족함.\n",
    "\n",
    "* 추출적 요약 결과 - 기존 문장에서 문장을 꺼내오는 방식 때문인지 추상적 요약보다는 문장으로 완성되어지는 것 처럼 보임.\n",
    "\n",
    "* summarize 사용시 데이터프레임에서 'test'열만 txt 파일로 저장해서 사용하고 싶었으나 생각처럼 조절되지 않았음. ㅠㅠ\n",
    "* 모델 훈련 시간이 너무 오래 걸려서 힘들었음."
   ]
  },
  {
   "cell_type": "code",
   "execution_count": null,
   "id": "88991ef5",
   "metadata": {},
   "outputs": [],
   "source": []
  }
 ],
 "metadata": {
  "kernelspec": {
   "display_name": "Python 3 (ipykernel)",
   "language": "python",
   "name": "python3"
  },
  "language_info": {
   "codemirror_mode": {
    "name": "ipython",
    "version": 3
   },
   "file_extension": ".py",
   "mimetype": "text/x-python",
   "name": "python",
   "nbconvert_exporter": "python",
   "pygments_lexer": "ipython3",
   "version": "3.9.7"
  }
 },
 "nbformat": 4,
 "nbformat_minor": 5
}
